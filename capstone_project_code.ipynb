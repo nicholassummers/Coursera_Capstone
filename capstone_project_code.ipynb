{
 "cells": [
  {
   "cell_type": "markdown",
   "metadata": {},
   "source": [
    "<font size=4><b>Coursera Capstone Project Notebook</b></font>"
   ]
  },
  {
   "cell_type": "markdown",
   "metadata": {},
   "source": [
    "This notebook will be used for the completion of the Coursera Capstone Project in Python."
   ]
  },
  {
   "cell_type": "code",
   "execution_count": 1,
   "metadata": {},
   "outputs": [],
   "source": [
    "import numpy as np\n",
    "import pandas as pd"
   ]
  },
  {
   "cell_type": "markdown",
   "metadata": {},
   "source": [
    "Need the following installs in order to complete this project"
   ]
  },
  {
   "cell_type": "code",
   "execution_count": 2,
   "metadata": {},
   "outputs": [],
   "source": [
    "from geopy.geocoders import Nominatim #for letting location data\n",
    "from sklearn.cluster import KMeans #for performing kmeans clustering\n",
    "import folium #for visualizing on a world map"
   ]
  },
  {
   "cell_type": "code",
   "execution_count": 3,
   "metadata": {
    "scrolled": true
   },
   "outputs": [
    {
     "name": "stdout",
     "output_type": "stream",
     "text": [
      "Hello Capstone Project Course!\n"
     ]
    }
   ],
   "source": [
    "print('Hello Capstone Project Course!')"
   ]
  },
  {
   "cell_type": "markdown",
   "metadata": {},
   "source": [
    "Load and view our dataset"
   ]
  },
  {
   "cell_type": "code",
   "execution_count": 4,
   "metadata": {},
   "outputs": [],
   "source": [
    "data = pd.read_html('https://en.wikipedia.org/wiki/List_of_postal_codes_of_Canada:_M')[0]"
   ]
  },
  {
   "cell_type": "code",
   "execution_count": 5,
   "metadata": {},
   "outputs": [
    {
     "data": {
      "text/html": [
       "<div>\n",
       "<style scoped>\n",
       "    .dataframe tbody tr th:only-of-type {\n",
       "        vertical-align: middle;\n",
       "    }\n",
       "\n",
       "    .dataframe tbody tr th {\n",
       "        vertical-align: top;\n",
       "    }\n",
       "\n",
       "    .dataframe thead th {\n",
       "        text-align: right;\n",
       "    }\n",
       "</style>\n",
       "<table border=\"1\" class=\"dataframe\">\n",
       "  <thead>\n",
       "    <tr style=\"text-align: right;\">\n",
       "      <th></th>\n",
       "      <th>Postcode</th>\n",
       "      <th>Borough</th>\n",
       "      <th>Neighbourhood</th>\n",
       "    </tr>\n",
       "  </thead>\n",
       "  <tbody>\n",
       "    <tr>\n",
       "      <th>0</th>\n",
       "      <td>M1A</td>\n",
       "      <td>Not assigned</td>\n",
       "      <td>Not assigned</td>\n",
       "    </tr>\n",
       "    <tr>\n",
       "      <th>1</th>\n",
       "      <td>M2A</td>\n",
       "      <td>Not assigned</td>\n",
       "      <td>Not assigned</td>\n",
       "    </tr>\n",
       "    <tr>\n",
       "      <th>2</th>\n",
       "      <td>M3A</td>\n",
       "      <td>North York</td>\n",
       "      <td>Parkwoods</td>\n",
       "    </tr>\n",
       "    <tr>\n",
       "      <th>3</th>\n",
       "      <td>M4A</td>\n",
       "      <td>North York</td>\n",
       "      <td>Victoria Village</td>\n",
       "    </tr>\n",
       "    <tr>\n",
       "      <th>4</th>\n",
       "      <td>M5A</td>\n",
       "      <td>Downtown Toronto</td>\n",
       "      <td>Harbourfront</td>\n",
       "    </tr>\n",
       "  </tbody>\n",
       "</table>\n",
       "</div>"
      ],
      "text/plain": [
       "  Postcode           Borough     Neighbourhood\n",
       "0      M1A      Not assigned      Not assigned\n",
       "1      M2A      Not assigned      Not assigned\n",
       "2      M3A        North York         Parkwoods\n",
       "3      M4A        North York  Victoria Village\n",
       "4      M5A  Downtown Toronto      Harbourfront"
      ]
     },
     "execution_count": 5,
     "metadata": {},
     "output_type": "execute_result"
    }
   ],
   "source": [
    "data.head()"
   ]
  },
  {
   "cell_type": "markdown",
   "metadata": {},
   "source": [
    "We need to remove all of the not assigned buroughs from our dataset."
   ]
  },
  {
   "cell_type": "code",
   "execution_count": 6,
   "metadata": {},
   "outputs": [],
   "source": [
    "data = data[data['Borough'] != 'Not assigned']"
   ]
  },
  {
   "cell_type": "code",
   "execution_count": 7,
   "metadata": {},
   "outputs": [
    {
     "data": {
      "text/html": [
       "<div>\n",
       "<style scoped>\n",
       "    .dataframe tbody tr th:only-of-type {\n",
       "        vertical-align: middle;\n",
       "    }\n",
       "\n",
       "    .dataframe tbody tr th {\n",
       "        vertical-align: top;\n",
       "    }\n",
       "\n",
       "    .dataframe thead th {\n",
       "        text-align: right;\n",
       "    }\n",
       "</style>\n",
       "<table border=\"1\" class=\"dataframe\">\n",
       "  <thead>\n",
       "    <tr style=\"text-align: right;\">\n",
       "      <th></th>\n",
       "      <th>Postcode</th>\n",
       "      <th>Borough</th>\n",
       "      <th>Neighbourhood</th>\n",
       "    </tr>\n",
       "  </thead>\n",
       "  <tbody>\n",
       "    <tr>\n",
       "      <th>2</th>\n",
       "      <td>M3A</td>\n",
       "      <td>North York</td>\n",
       "      <td>Parkwoods</td>\n",
       "    </tr>\n",
       "    <tr>\n",
       "      <th>3</th>\n",
       "      <td>M4A</td>\n",
       "      <td>North York</td>\n",
       "      <td>Victoria Village</td>\n",
       "    </tr>\n",
       "    <tr>\n",
       "      <th>4</th>\n",
       "      <td>M5A</td>\n",
       "      <td>Downtown Toronto</td>\n",
       "      <td>Harbourfront</td>\n",
       "    </tr>\n",
       "    <tr>\n",
       "      <th>5</th>\n",
       "      <td>M5A</td>\n",
       "      <td>Downtown Toronto</td>\n",
       "      <td>Regent Park</td>\n",
       "    </tr>\n",
       "    <tr>\n",
       "      <th>6</th>\n",
       "      <td>M6A</td>\n",
       "      <td>North York</td>\n",
       "      <td>Lawrence Heights</td>\n",
       "    </tr>\n",
       "  </tbody>\n",
       "</table>\n",
       "</div>"
      ],
      "text/plain": [
       "  Postcode           Borough     Neighbourhood\n",
       "2      M3A        North York         Parkwoods\n",
       "3      M4A        North York  Victoria Village\n",
       "4      M5A  Downtown Toronto      Harbourfront\n",
       "5      M5A  Downtown Toronto       Regent Park\n",
       "6      M6A        North York  Lawrence Heights"
      ]
     },
     "execution_count": 7,
     "metadata": {},
     "output_type": "execute_result"
    }
   ],
   "source": [
    "data.head()"
   ]
  },
  {
   "cell_type": "markdown",
   "metadata": {},
   "source": [
    "We need to combine rows with the same postcode"
   ]
  },
  {
   "cell_type": "code",
   "execution_count": 8,
   "metadata": {},
   "outputs": [
    {
     "data": {
      "text/plain": [
       "{'M3A': array(['Parkwoods'], dtype=object),\n",
       " 'M4A': array(['Victoria Village'], dtype=object),\n",
       " 'M5A': array(['Harbourfront', 'Regent Park'], dtype=object),\n",
       " 'M6A': array(['Lawrence Heights', 'Lawrence Manor'], dtype=object),\n",
       " 'M7A': array(['Not assigned'], dtype=object),\n",
       " 'M9A': array(['Islington Avenue'], dtype=object),\n",
       " 'M1B': array(['Rouge', 'Malvern'], dtype=object),\n",
       " 'M3B': array(['Don Mills North'], dtype=object),\n",
       " 'M4B': array(['Woodbine Gardens', 'Parkview Hill'], dtype=object),\n",
       " 'M5B': array(['Ryerson', 'Garden District'], dtype=object),\n",
       " 'M6B': array(['Glencairn'], dtype=object),\n",
       " 'M9B': array(['Cloverdale', 'Islington', 'Martin Grove', 'Princess Gardens',\n",
       "        'West Deane Park'], dtype=object),\n",
       " 'M1C': array(['Highland Creek', 'Rouge Hill', 'Port Union'], dtype=object),\n",
       " 'M3C': array(['Flemingdon Park', 'Don Mills South'], dtype=object),\n",
       " 'M4C': array(['Woodbine Heights'], dtype=object),\n",
       " 'M5C': array(['St. James Town'], dtype=object),\n",
       " 'M6C': array(['Humewood-Cedarvale'], dtype=object),\n",
       " 'M9C': array(['Bloordale Gardens', 'Eringate', 'Markland Wood',\n",
       "        'Old Burnhamthorpe'], dtype=object),\n",
       " 'M1E': array(['Guildwood', 'Morningside', 'West Hill'], dtype=object),\n",
       " 'M4E': array(['The Beaches'], dtype=object),\n",
       " 'M5E': array(['Berczy Park'], dtype=object),\n",
       " 'M6E': array(['Caledonia-Fairbanks'], dtype=object),\n",
       " 'M1G': array(['Woburn'], dtype=object),\n",
       " 'M4G': array(['Leaside'], dtype=object),\n",
       " 'M5G': array(['Central Bay Street'], dtype=object),\n",
       " 'M6G': array(['Christie'], dtype=object),\n",
       " 'M1H': array(['Cedarbrae'], dtype=object),\n",
       " 'M2H': array(['Hillcrest Village'], dtype=object),\n",
       " 'M3H': array(['Bathurst Manor', 'Downsview North', 'Wilson Heights'],\n",
       "       dtype=object),\n",
       " 'M4H': array(['Thorncliffe Park'], dtype=object),\n",
       " 'M5H': array(['Adelaide', 'King', 'Richmond'], dtype=object),\n",
       " 'M6H': array(['Dovercourt Village', 'Dufferin'], dtype=object),\n",
       " 'M1J': array(['Scarborough Village'], dtype=object),\n",
       " 'M2J': array(['Fairview', 'Henry Farm', 'Oriole'], dtype=object),\n",
       " 'M3J': array(['Northwood Park', 'York University'], dtype=object),\n",
       " 'M4J': array(['East Toronto'], dtype=object),\n",
       " 'M5J': array(['Harbourfront East', 'Toronto Islands', 'Union Station'],\n",
       "       dtype=object),\n",
       " 'M6J': array(['Little Portugal', 'Trinity'], dtype=object),\n",
       " 'M1K': array(['East Birchmount Park', 'Ionview', 'Kennedy Park'], dtype=object),\n",
       " 'M2K': array(['Bayview Village'], dtype=object),\n",
       " 'M3K': array(['CFB Toronto', 'Downsview East'], dtype=object),\n",
       " 'M4K': array(['The Danforth West', 'Riverdale'], dtype=object),\n",
       " 'M5K': array(['Design Exchange', 'Toronto Dominion Centre'], dtype=object),\n",
       " 'M6K': array(['Brockton', 'Exhibition Place', 'Parkdale Village'], dtype=object),\n",
       " 'M1L': array(['Clairlea', 'Golden Mile', 'Oakridge'], dtype=object),\n",
       " 'M2L': array(['Silver Hills', 'York Mills'], dtype=object),\n",
       " 'M3L': array(['Downsview West'], dtype=object),\n",
       " 'M4L': array(['The Beaches West', 'India Bazaar'], dtype=object),\n",
       " 'M5L': array(['Commerce Court', 'Victoria Hotel'], dtype=object),\n",
       " 'M6L': array(['Downsview', 'North Park', 'Upwood Park'], dtype=object),\n",
       " 'M9L': array(['Humber Summit'], dtype=object),\n",
       " 'M1M': array(['Cliffcrest', 'Cliffside', 'Scarborough Village West'],\n",
       "       dtype=object),\n",
       " 'M2M': array(['Newtonbrook', 'Willowdale'], dtype=object),\n",
       " 'M3M': array(['Downsview Central'], dtype=object),\n",
       " 'M4M': array(['Studio District'], dtype=object),\n",
       " 'M5M': array(['Bedford Park', 'Lawrence Manor East'], dtype=object),\n",
       " 'M6M': array(['Del Ray', 'Keelesdale', 'Mount Dennis', 'Silverthorn'],\n",
       "       dtype=object),\n",
       " 'M9M': array(['Emery', 'Humberlea'], dtype=object),\n",
       " 'M1N': array(['Birch Cliff', 'Cliffside West'], dtype=object),\n",
       " 'M2N': array(['Willowdale South'], dtype=object),\n",
       " 'M3N': array(['Downsview Northwest'], dtype=object),\n",
       " 'M4N': array(['Lawrence Park'], dtype=object),\n",
       " 'M5N': array(['Roselawn'], dtype=object),\n",
       " 'M6N': array(['The Junction North', 'Runnymede'], dtype=object),\n",
       " 'M9N': array(['Weston'], dtype=object),\n",
       " 'M1P': array(['Dorset Park', 'Scarborough Town Centre', 'Wexford Heights'],\n",
       "       dtype=object),\n",
       " 'M2P': array(['York Mills West'], dtype=object),\n",
       " 'M4P': array(['Davisville North'], dtype=object),\n",
       " 'M5P': array(['Forest Hill North', 'Forest Hill West'], dtype=object),\n",
       " 'M6P': array(['High Park', 'The Junction South'], dtype=object),\n",
       " 'M9P': array(['Westmount'], dtype=object),\n",
       " 'M1R': array(['Maryvale', 'Wexford'], dtype=object),\n",
       " 'M2R': array(['Willowdale West'], dtype=object),\n",
       " 'M4R': array(['North Toronto West'], dtype=object),\n",
       " 'M5R': array(['The Annex', 'North Midtown', 'Yorkville'], dtype=object),\n",
       " 'M6R': array(['Parkdale', 'Roncesvalles'], dtype=object),\n",
       " 'M7R': array(['Canada Post Gateway Processing Centre'], dtype=object),\n",
       " 'M9R': array(['Kingsview Village', 'Martin Grove Gardens', 'Richview Gardens',\n",
       "        'St. Phillips'], dtype=object),\n",
       " 'M1S': array(['Agincourt'], dtype=object),\n",
       " 'M4S': array(['Davisville'], dtype=object),\n",
       " 'M5S': array(['Harbord', 'University of Toronto'], dtype=object),\n",
       " 'M6S': array(['Runnymede', 'Swansea'], dtype=object),\n",
       " 'M1T': array(['Clarks Corners', 'Sullivan', \"Tam O'Shanter\"], dtype=object),\n",
       " 'M4T': array(['Moore Park', 'Summerhill East'], dtype=object),\n",
       " 'M5T': array(['Chinatown', 'Grange Park', 'Kensington Market'], dtype=object),\n",
       " 'M1V': array(['Agincourt North', \"L'Amoreaux East\", 'Milliken', 'Steeles East'],\n",
       "       dtype=object),\n",
       " 'M4V': array(['Deer Park', 'Forest Hill SE', 'Rathnelly', 'South Hill',\n",
       "        'Summerhill West'], dtype=object),\n",
       " 'M5V': array(['CN Tower', 'Bathurst Quay', 'Island airport', 'Harbourfront West',\n",
       "        'King and Spadina', 'Railway Lands', 'South Niagara'], dtype=object),\n",
       " 'M8V': array(['Humber Bay Shores', 'Mimico South', 'New Toronto'], dtype=object),\n",
       " 'M9V': array(['Albion Gardens', 'Beaumond Heights', 'Humbergate', 'Jamestown',\n",
       "        'Mount Olive', 'Silverstone', 'South Steeles', 'Thistletown'],\n",
       "       dtype=object),\n",
       " 'M1W': array([\"L'Amoreaux West\"], dtype=object),\n",
       " 'M4W': array(['Rosedale'], dtype=object),\n",
       " 'M5W': array(['Stn A PO Boxes 25 The Esplanade'], dtype=object),\n",
       " 'M8W': array(['Alderwood', 'Long Branch'], dtype=object),\n",
       " 'M9W': array(['Northwest'], dtype=object),\n",
       " 'M1X': array(['Upper Rouge'], dtype=object),\n",
       " 'M4X': array(['Cabbagetown', 'St. James Town'], dtype=object),\n",
       " 'M5X': array(['First Canadian Place', 'Underground city'], dtype=object),\n",
       " 'M8X': array(['The Kingsway', 'Montgomery Road', 'Old Mill North'], dtype=object),\n",
       " 'M4Y': array(['Church and Wellesley'], dtype=object),\n",
       " 'M7Y': array(['Business Reply Mail Processing Centre 969 Eastern'], dtype=object),\n",
       " 'M8Y': array(['Humber Bay', \"King's Mill Park\", 'Kingsway Park South East',\n",
       "        'Mimico NE', 'Old Mill South', 'The Queensway East',\n",
       "        'Royal York South East', 'Sunnylea'], dtype=object),\n",
       " 'M8Z': array(['Kingsway Park South West', 'Mimico NW', 'The Queensway West',\n",
       "        'Royal York South West', 'South of Bloor'], dtype=object)}"
      ]
     },
     "execution_count": 8,
     "metadata": {},
     "output_type": "execute_result"
    }
   ],
   "source": [
    "neighborhoods_in_pc = {}\n",
    "for postcode in data['Postcode'].unique():\n",
    "    pc_data = data[data['Postcode'] == postcode]\n",
    "    neighborhoods_in_pc[postcode] = pc_data['Neighbourhood'].unique()\n",
    "neighborhoods_in_pc"
   ]
  },
  {
   "cell_type": "markdown",
   "metadata": {},
   "source": [
    "Create a new dataframe with postcodes having values of every neighborhood in that postcode"
   ]
  },
  {
   "cell_type": "code",
   "execution_count": 9,
   "metadata": {},
   "outputs": [
    {
     "data": {
      "text/html": [
       "<div>\n",
       "<style scoped>\n",
       "    .dataframe tbody tr th:only-of-type {\n",
       "        vertical-align: middle;\n",
       "    }\n",
       "\n",
       "    .dataframe tbody tr th {\n",
       "        vertical-align: top;\n",
       "    }\n",
       "\n",
       "    .dataframe thead th {\n",
       "        text-align: right;\n",
       "    }\n",
       "</style>\n",
       "<table border=\"1\" class=\"dataframe\">\n",
       "  <thead>\n",
       "    <tr style=\"text-align: right;\">\n",
       "      <th></th>\n",
       "      <th>Postcode</th>\n",
       "      <th>Borough</th>\n",
       "      <th>Neighbourhood</th>\n",
       "    </tr>\n",
       "  </thead>\n",
       "  <tbody>\n",
       "    <tr>\n",
       "      <th>0</th>\n",
       "      <td>M3A</td>\n",
       "      <td>NaN</td>\n",
       "      <td>[Parkwoods]</td>\n",
       "    </tr>\n",
       "    <tr>\n",
       "      <th>1</th>\n",
       "      <td>M4A</td>\n",
       "      <td>NaN</td>\n",
       "      <td>[Victoria Village]</td>\n",
       "    </tr>\n",
       "    <tr>\n",
       "      <th>2</th>\n",
       "      <td>M5A</td>\n",
       "      <td>NaN</td>\n",
       "      <td>[Harbourfront, Regent Park]</td>\n",
       "    </tr>\n",
       "    <tr>\n",
       "      <th>3</th>\n",
       "      <td>M6A</td>\n",
       "      <td>NaN</td>\n",
       "      <td>[Lawrence Heights, Lawrence Manor]</td>\n",
       "    </tr>\n",
       "    <tr>\n",
       "      <th>4</th>\n",
       "      <td>M7A</td>\n",
       "      <td>NaN</td>\n",
       "      <td>[Not assigned]</td>\n",
       "    </tr>\n",
       "  </tbody>\n",
       "</table>\n",
       "</div>"
      ],
      "text/plain": [
       "  Postcode Borough                       Neighbourhood\n",
       "0      M3A     NaN                         [Parkwoods]\n",
       "1      M4A     NaN                  [Victoria Village]\n",
       "2      M5A     NaN         [Harbourfront, Regent Park]\n",
       "3      M6A     NaN  [Lawrence Heights, Lawrence Manor]\n",
       "4      M7A     NaN                      [Not assigned]"
      ]
     },
     "execution_count": 9,
     "metadata": {},
     "output_type": "execute_result"
    }
   ],
   "source": [
    "fixed_data = pd.DataFrame(columns=['Postcode','Borough','Neighbourhood'])\n",
    "fixed_data['Postcode'] = neighborhoods_in_pc.keys()\n",
    "fixed_data['Neighbourhood'] = neighborhoods_in_pc.values()\n",
    "fixed_data.head()"
   ]
  },
  {
   "cell_type": "markdown",
   "metadata": {},
   "source": [
    "Now, we need to find the Burough for each Postcode"
   ]
  },
  {
   "cell_type": "code",
   "execution_count": 10,
   "metadata": {},
   "outputs": [],
   "source": [
    "buroughs = []\n",
    "for pc in fixed_data['Postcode']:\n",
    "    pc_data = data[data['Postcode'] == pc] #only postcard data in here\n",
    "    buroughs.append(pc_data['Borough'].unique())\n",
    "fixed_data['Borough'] = buroughs"
   ]
  },
  {
   "cell_type": "code",
   "execution_count": 11,
   "metadata": {},
   "outputs": [
    {
     "data": {
      "text/html": [
       "<div>\n",
       "<style scoped>\n",
       "    .dataframe tbody tr th:only-of-type {\n",
       "        vertical-align: middle;\n",
       "    }\n",
       "\n",
       "    .dataframe tbody tr th {\n",
       "        vertical-align: top;\n",
       "    }\n",
       "\n",
       "    .dataframe thead th {\n",
       "        text-align: right;\n",
       "    }\n",
       "</style>\n",
       "<table border=\"1\" class=\"dataframe\">\n",
       "  <thead>\n",
       "    <tr style=\"text-align: right;\">\n",
       "      <th></th>\n",
       "      <th>Postcode</th>\n",
       "      <th>Borough</th>\n",
       "      <th>Neighbourhood</th>\n",
       "    </tr>\n",
       "  </thead>\n",
       "  <tbody>\n",
       "    <tr>\n",
       "      <th>0</th>\n",
       "      <td>M3A</td>\n",
       "      <td>[North York]</td>\n",
       "      <td>[Parkwoods]</td>\n",
       "    </tr>\n",
       "    <tr>\n",
       "      <th>1</th>\n",
       "      <td>M4A</td>\n",
       "      <td>[North York]</td>\n",
       "      <td>[Victoria Village]</td>\n",
       "    </tr>\n",
       "    <tr>\n",
       "      <th>2</th>\n",
       "      <td>M5A</td>\n",
       "      <td>[Downtown Toronto]</td>\n",
       "      <td>[Harbourfront, Regent Park]</td>\n",
       "    </tr>\n",
       "    <tr>\n",
       "      <th>3</th>\n",
       "      <td>M6A</td>\n",
       "      <td>[North York]</td>\n",
       "      <td>[Lawrence Heights, Lawrence Manor]</td>\n",
       "    </tr>\n",
       "    <tr>\n",
       "      <th>4</th>\n",
       "      <td>M7A</td>\n",
       "      <td>[Queen's Park]</td>\n",
       "      <td>[Not assigned]</td>\n",
       "    </tr>\n",
       "  </tbody>\n",
       "</table>\n",
       "</div>"
      ],
      "text/plain": [
       "  Postcode             Borough                       Neighbourhood\n",
       "0      M3A        [North York]                         [Parkwoods]\n",
       "1      M4A        [North York]                  [Victoria Village]\n",
       "2      M5A  [Downtown Toronto]         [Harbourfront, Regent Park]\n",
       "3      M6A        [North York]  [Lawrence Heights, Lawrence Manor]\n",
       "4      M7A      [Queen's Park]                      [Not assigned]"
      ]
     },
     "execution_count": 11,
     "metadata": {},
     "output_type": "execute_result"
    }
   ],
   "source": [
    "fixed_data.head()"
   ]
  },
  {
   "cell_type": "markdown",
   "metadata": {},
   "source": [
    "Columns without assigned Neighbourhood, Neighbourhood should be set to Borough"
   ]
  },
  {
   "cell_type": "code",
   "execution_count": 12,
   "metadata": {},
   "outputs": [],
   "source": [
    "for index, row in fixed_data.iterrows():\n",
    "    if (row['Neighbourhood'][0] == 'Not assigned'):\n",
    "        row['Neighbourhood'][0] = row['Borough']"
   ]
  },
  {
   "cell_type": "code",
   "execution_count": 13,
   "metadata": {},
   "outputs": [
    {
     "data": {
      "text/html": [
       "<div>\n",
       "<style scoped>\n",
       "    .dataframe tbody tr th:only-of-type {\n",
       "        vertical-align: middle;\n",
       "    }\n",
       "\n",
       "    .dataframe tbody tr th {\n",
       "        vertical-align: top;\n",
       "    }\n",
       "\n",
       "    .dataframe thead th {\n",
       "        text-align: right;\n",
       "    }\n",
       "</style>\n",
       "<table border=\"1\" class=\"dataframe\">\n",
       "  <thead>\n",
       "    <tr style=\"text-align: right;\">\n",
       "      <th></th>\n",
       "      <th>Postcode</th>\n",
       "      <th>Borough</th>\n",
       "      <th>Neighbourhood</th>\n",
       "    </tr>\n",
       "  </thead>\n",
       "  <tbody>\n",
       "    <tr>\n",
       "      <th>0</th>\n",
       "      <td>M3A</td>\n",
       "      <td>[North York]</td>\n",
       "      <td>[Parkwoods]</td>\n",
       "    </tr>\n",
       "    <tr>\n",
       "      <th>1</th>\n",
       "      <td>M4A</td>\n",
       "      <td>[North York]</td>\n",
       "      <td>[Victoria Village]</td>\n",
       "    </tr>\n",
       "    <tr>\n",
       "      <th>2</th>\n",
       "      <td>M5A</td>\n",
       "      <td>[Downtown Toronto]</td>\n",
       "      <td>[Harbourfront, Regent Park]</td>\n",
       "    </tr>\n",
       "    <tr>\n",
       "      <th>3</th>\n",
       "      <td>M6A</td>\n",
       "      <td>[North York]</td>\n",
       "      <td>[Lawrence Heights, Lawrence Manor]</td>\n",
       "    </tr>\n",
       "    <tr>\n",
       "      <th>4</th>\n",
       "      <td>M7A</td>\n",
       "      <td>[Queen's Park]</td>\n",
       "      <td>[[Queen's Park]]</td>\n",
       "    </tr>\n",
       "    <tr>\n",
       "      <th>5</th>\n",
       "      <td>M9A</td>\n",
       "      <td>[Etobicoke]</td>\n",
       "      <td>[Islington Avenue]</td>\n",
       "    </tr>\n",
       "    <tr>\n",
       "      <th>6</th>\n",
       "      <td>M1B</td>\n",
       "      <td>[Scarborough]</td>\n",
       "      <td>[Rouge, Malvern]</td>\n",
       "    </tr>\n",
       "    <tr>\n",
       "      <th>7</th>\n",
       "      <td>M3B</td>\n",
       "      <td>[North York]</td>\n",
       "      <td>[Don Mills North]</td>\n",
       "    </tr>\n",
       "    <tr>\n",
       "      <th>8</th>\n",
       "      <td>M4B</td>\n",
       "      <td>[East York]</td>\n",
       "      <td>[Woodbine Gardens, Parkview Hill]</td>\n",
       "    </tr>\n",
       "    <tr>\n",
       "      <th>9</th>\n",
       "      <td>M5B</td>\n",
       "      <td>[Downtown Toronto]</td>\n",
       "      <td>[Ryerson, Garden District]</td>\n",
       "    </tr>\n",
       "    <tr>\n",
       "      <th>10</th>\n",
       "      <td>M6B</td>\n",
       "      <td>[North York]</td>\n",
       "      <td>[Glencairn]</td>\n",
       "    </tr>\n",
       "    <tr>\n",
       "      <th>11</th>\n",
       "      <td>M9B</td>\n",
       "      <td>[Etobicoke]</td>\n",
       "      <td>[Cloverdale, Islington, Martin Grove, Princess...</td>\n",
       "    </tr>\n",
       "    <tr>\n",
       "      <th>12</th>\n",
       "      <td>M1C</td>\n",
       "      <td>[Scarborough]</td>\n",
       "      <td>[Highland Creek, Rouge Hill, Port Union]</td>\n",
       "    </tr>\n",
       "    <tr>\n",
       "      <th>13</th>\n",
       "      <td>M3C</td>\n",
       "      <td>[North York]</td>\n",
       "      <td>[Flemingdon Park, Don Mills South]</td>\n",
       "    </tr>\n",
       "    <tr>\n",
       "      <th>14</th>\n",
       "      <td>M4C</td>\n",
       "      <td>[East York]</td>\n",
       "      <td>[Woodbine Heights]</td>\n",
       "    </tr>\n",
       "    <tr>\n",
       "      <th>15</th>\n",
       "      <td>M5C</td>\n",
       "      <td>[Downtown Toronto]</td>\n",
       "      <td>[St. James Town]</td>\n",
       "    </tr>\n",
       "    <tr>\n",
       "      <th>16</th>\n",
       "      <td>M6C</td>\n",
       "      <td>[York]</td>\n",
       "      <td>[Humewood-Cedarvale]</td>\n",
       "    </tr>\n",
       "    <tr>\n",
       "      <th>17</th>\n",
       "      <td>M9C</td>\n",
       "      <td>[Etobicoke]</td>\n",
       "      <td>[Bloordale Gardens, Eringate, Markland Wood, O...</td>\n",
       "    </tr>\n",
       "    <tr>\n",
       "      <th>18</th>\n",
       "      <td>M1E</td>\n",
       "      <td>[Scarborough]</td>\n",
       "      <td>[Guildwood, Morningside, West Hill]</td>\n",
       "    </tr>\n",
       "    <tr>\n",
       "      <th>19</th>\n",
       "      <td>M4E</td>\n",
       "      <td>[East Toronto]</td>\n",
       "      <td>[The Beaches]</td>\n",
       "    </tr>\n",
       "    <tr>\n",
       "      <th>20</th>\n",
       "      <td>M5E</td>\n",
       "      <td>[Downtown Toronto]</td>\n",
       "      <td>[Berczy Park]</td>\n",
       "    </tr>\n",
       "    <tr>\n",
       "      <th>21</th>\n",
       "      <td>M6E</td>\n",
       "      <td>[York]</td>\n",
       "      <td>[Caledonia-Fairbanks]</td>\n",
       "    </tr>\n",
       "    <tr>\n",
       "      <th>22</th>\n",
       "      <td>M1G</td>\n",
       "      <td>[Scarborough]</td>\n",
       "      <td>[Woburn]</td>\n",
       "    </tr>\n",
       "    <tr>\n",
       "      <th>23</th>\n",
       "      <td>M4G</td>\n",
       "      <td>[East York]</td>\n",
       "      <td>[Leaside]</td>\n",
       "    </tr>\n",
       "    <tr>\n",
       "      <th>24</th>\n",
       "      <td>M5G</td>\n",
       "      <td>[Downtown Toronto]</td>\n",
       "      <td>[Central Bay Street]</td>\n",
       "    </tr>\n",
       "  </tbody>\n",
       "</table>\n",
       "</div>"
      ],
      "text/plain": [
       "   Postcode             Borough  \\\n",
       "0       M3A        [North York]   \n",
       "1       M4A        [North York]   \n",
       "2       M5A  [Downtown Toronto]   \n",
       "3       M6A        [North York]   \n",
       "4       M7A      [Queen's Park]   \n",
       "5       M9A         [Etobicoke]   \n",
       "6       M1B       [Scarborough]   \n",
       "7       M3B        [North York]   \n",
       "8       M4B         [East York]   \n",
       "9       M5B  [Downtown Toronto]   \n",
       "10      M6B        [North York]   \n",
       "11      M9B         [Etobicoke]   \n",
       "12      M1C       [Scarborough]   \n",
       "13      M3C        [North York]   \n",
       "14      M4C         [East York]   \n",
       "15      M5C  [Downtown Toronto]   \n",
       "16      M6C              [York]   \n",
       "17      M9C         [Etobicoke]   \n",
       "18      M1E       [Scarborough]   \n",
       "19      M4E      [East Toronto]   \n",
       "20      M5E  [Downtown Toronto]   \n",
       "21      M6E              [York]   \n",
       "22      M1G       [Scarborough]   \n",
       "23      M4G         [East York]   \n",
       "24      M5G  [Downtown Toronto]   \n",
       "\n",
       "                                        Neighbourhood  \n",
       "0                                         [Parkwoods]  \n",
       "1                                  [Victoria Village]  \n",
       "2                         [Harbourfront, Regent Park]  \n",
       "3                  [Lawrence Heights, Lawrence Manor]  \n",
       "4                                    [[Queen's Park]]  \n",
       "5                                  [Islington Avenue]  \n",
       "6                                    [Rouge, Malvern]  \n",
       "7                                   [Don Mills North]  \n",
       "8                   [Woodbine Gardens, Parkview Hill]  \n",
       "9                          [Ryerson, Garden District]  \n",
       "10                                        [Glencairn]  \n",
       "11  [Cloverdale, Islington, Martin Grove, Princess...  \n",
       "12           [Highland Creek, Rouge Hill, Port Union]  \n",
       "13                 [Flemingdon Park, Don Mills South]  \n",
       "14                                 [Woodbine Heights]  \n",
       "15                                   [St. James Town]  \n",
       "16                               [Humewood-Cedarvale]  \n",
       "17  [Bloordale Gardens, Eringate, Markland Wood, O...  \n",
       "18                [Guildwood, Morningside, West Hill]  \n",
       "19                                      [The Beaches]  \n",
       "20                                      [Berczy Park]  \n",
       "21                              [Caledonia-Fairbanks]  \n",
       "22                                           [Woburn]  \n",
       "23                                          [Leaside]  \n",
       "24                               [Central Bay Street]  "
      ]
     },
     "execution_count": 13,
     "metadata": {},
     "output_type": "execute_result"
    }
   ],
   "source": [
    "fixed_data.head(25)"
   ]
  },
  {
   "cell_type": "markdown",
   "metadata": {},
   "source": [
    "Clean up the Borough column"
   ]
  },
  {
   "cell_type": "code",
   "execution_count": 14,
   "metadata": {},
   "outputs": [],
   "source": [
    "fixed_boroughs = []\n",
    "fixed_neighbourhoods = []\n",
    "for borough in fixed_data['Borough']:\n",
    "    b = ','.join(borough)\n",
    "    fixed_boroughs.append(b)\n",
    "fixed_data['Borough'] = fixed_boroughs"
   ]
  },
  {
   "cell_type": "markdown",
   "metadata": {},
   "source": [
    "Clean up the Neighbourhood column"
   ]
  },
  {
   "cell_type": "code",
   "execution_count": 15,
   "metadata": {},
   "outputs": [],
   "source": [
    "fixed_neighbourhoods = []\n",
    "for neighborhood in fixed_data['Neighbourhood']:\n",
    "    if len(neighborhood) == 1:\n",
    "        n = neighborhood[0]\n",
    "    else:\n",
    "        n = \",\".join(str(x) for x in neighborhood)\n",
    "    fixed_neighbourhoods.append(n)\n",
    "fixed_data['Neighbourhood'] = fixed_neighbourhoods"
   ]
  },
  {
   "cell_type": "code",
   "execution_count": 16,
   "metadata": {},
   "outputs": [
    {
     "data": {
      "text/html": [
       "<div>\n",
       "<style scoped>\n",
       "    .dataframe tbody tr th:only-of-type {\n",
       "        vertical-align: middle;\n",
       "    }\n",
       "\n",
       "    .dataframe tbody tr th {\n",
       "        vertical-align: top;\n",
       "    }\n",
       "\n",
       "    .dataframe thead th {\n",
       "        text-align: right;\n",
       "    }\n",
       "</style>\n",
       "<table border=\"1\" class=\"dataframe\">\n",
       "  <thead>\n",
       "    <tr style=\"text-align: right;\">\n",
       "      <th></th>\n",
       "      <th>Postcode</th>\n",
       "      <th>Borough</th>\n",
       "      <th>Neighbourhood</th>\n",
       "    </tr>\n",
       "  </thead>\n",
       "  <tbody>\n",
       "    <tr>\n",
       "      <th>0</th>\n",
       "      <td>M3A</td>\n",
       "      <td>North York</td>\n",
       "      <td>Parkwoods</td>\n",
       "    </tr>\n",
       "    <tr>\n",
       "      <th>1</th>\n",
       "      <td>M4A</td>\n",
       "      <td>North York</td>\n",
       "      <td>Victoria Village</td>\n",
       "    </tr>\n",
       "    <tr>\n",
       "      <th>2</th>\n",
       "      <td>M5A</td>\n",
       "      <td>Downtown Toronto</td>\n",
       "      <td>Harbourfront,Regent Park</td>\n",
       "    </tr>\n",
       "    <tr>\n",
       "      <th>3</th>\n",
       "      <td>M6A</td>\n",
       "      <td>North York</td>\n",
       "      <td>Lawrence Heights,Lawrence Manor</td>\n",
       "    </tr>\n",
       "    <tr>\n",
       "      <th>4</th>\n",
       "      <td>M7A</td>\n",
       "      <td>Queen's Park</td>\n",
       "      <td>[Queen's Park]</td>\n",
       "    </tr>\n",
       "    <tr>\n",
       "      <th>5</th>\n",
       "      <td>M9A</td>\n",
       "      <td>Etobicoke</td>\n",
       "      <td>Islington Avenue</td>\n",
       "    </tr>\n",
       "    <tr>\n",
       "      <th>6</th>\n",
       "      <td>M1B</td>\n",
       "      <td>Scarborough</td>\n",
       "      <td>Rouge,Malvern</td>\n",
       "    </tr>\n",
       "    <tr>\n",
       "      <th>7</th>\n",
       "      <td>M3B</td>\n",
       "      <td>North York</td>\n",
       "      <td>Don Mills North</td>\n",
       "    </tr>\n",
       "    <tr>\n",
       "      <th>8</th>\n",
       "      <td>M4B</td>\n",
       "      <td>East York</td>\n",
       "      <td>Woodbine Gardens,Parkview Hill</td>\n",
       "    </tr>\n",
       "    <tr>\n",
       "      <th>9</th>\n",
       "      <td>M5B</td>\n",
       "      <td>Downtown Toronto</td>\n",
       "      <td>Ryerson,Garden District</td>\n",
       "    </tr>\n",
       "  </tbody>\n",
       "</table>\n",
       "</div>"
      ],
      "text/plain": [
       "  Postcode           Borough                    Neighbourhood\n",
       "0      M3A        North York                        Parkwoods\n",
       "1      M4A        North York                 Victoria Village\n",
       "2      M5A  Downtown Toronto         Harbourfront,Regent Park\n",
       "3      M6A        North York  Lawrence Heights,Lawrence Manor\n",
       "4      M7A      Queen's Park                   [Queen's Park]\n",
       "5      M9A         Etobicoke                 Islington Avenue\n",
       "6      M1B       Scarborough                    Rouge,Malvern\n",
       "7      M3B        North York                  Don Mills North\n",
       "8      M4B         East York   Woodbine Gardens,Parkview Hill\n",
       "9      M5B  Downtown Toronto          Ryerson,Garden District"
      ]
     },
     "execution_count": 16,
     "metadata": {},
     "output_type": "execute_result"
    }
   ],
   "source": [
    "fixed_data.head(10)"
   ]
  },
  {
   "cell_type": "markdown",
   "metadata": {},
   "source": [
    "Assumptions: I am assuming that each postcode can contain multiple neighbourhoods and does not contain any overlapping neighbourhoods. I am also assuming each borough falls into 1 postcode (and each postcode has 1 Borough)."
   ]
  },
  {
   "cell_type": "code",
   "execution_count": 17,
   "metadata": {},
   "outputs": [
    {
     "data": {
      "text/plain": [
       "(103, 3)"
      ]
     },
     "execution_count": 17,
     "metadata": {},
     "output_type": "execute_result"
    }
   ],
   "source": [
    "fixed_data.shape"
   ]
  },
  {
   "cell_type": "markdown",
   "metadata": {},
   "source": [
    "103 rows and 3 columns."
   ]
  },
  {
   "cell_type": "markdown",
   "metadata": {},
   "source": [
    "Now, we need to get the longitude and latitude using GeoPy"
   ]
  },
  {
   "cell_type": "code",
   "execution_count": 18,
   "metadata": {},
   "outputs": [
    {
     "name": "stdout",
     "output_type": "stream",
     "text": [
      "The geograpical coordinate of  Parkwoods  are 26.5652643, -81.8817227102639.\n",
      "The geograpical coordinate of  Victoria Village  are 43.732658, -79.3111892.\n",
      "The geograpical coordinate of  Harbourfront,Regent Park  are 43.6400801, -79.3801495.\n",
      "The geograpical coordinate of  Lawrence Heights,Lawrence Manor  are 43.7227784, -79.4509332.\n",
      "The geograpical coordinate of  Islington Avenue  are 43.6393743, -79.5212175.\n",
      "The geograpical coordinate of  Rouge,Malvern  are 43.8091955, -79.2217008.\n",
      "The geograpical coordinate of  Don Mills North  are 43.737178, -79.3434514.\n",
      "The geograpical coordinate of  Ryerson,Garden District  are 45.5797934, -79.5084658621578.\n",
      "The geograpical coordinate of  Glencairn  are -34.1595402, 18.4284987.\n",
      "The geograpical coordinate of  Woodbine Heights  are 43.6999302, -79.3191316.\n",
      "The geograpical coordinate of  St. James Town  are 43.6694032, -79.3727041.\n",
      "The geograpical coordinate of  Humewood-Cedarvale  are 43.69079835, -79.4253981936993.\n",
      "The geograpical coordinate of  Guildwood,Morningside,West Hill  are 43.7534804, -79.1799949.\n",
      "The geograpical coordinate of  The Beaches  are 43.6710244, -79.296712.\n",
      "The geograpical coordinate of  Berczy Park  are 43.6479887, -79.3753927260178.\n",
      "The geograpical coordinate of  Caledonia-Fairbanks  are 44.42006025, -72.0197789750751.\n",
      "The geograpical coordinate of  Woburn  are 42.4792618, -71.1522766.\n",
      "The geograpical coordinate of  Leaside  are 43.7047983, -79.3680904.\n",
      "The geograpical coordinate of  Central Bay Street  are 43.6569623, -79.3842242.\n",
      "The geograpical coordinate of  Christie  are 38.0029777, -122.206634.\n",
      "The geograpical coordinate of  Cedarbrae  are 50.9563182, -114.1293235.\n",
      "The geograpical coordinate of  Hillcrest Village  are 43.7996637, -79.3650189.\n",
      "The geograpical coordinate of  Thorncliffe Park  are 43.704553, -79.3454074.\n",
      "The geograpical coordinate of  Dovercourt Village,Dufferin  are 43.6602019, -79.4357191.\n",
      "The geograpical coordinate of  Scarborough Village  are 43.7437422, -79.2116324.\n",
      "The geograpical coordinate of  Fairview,Henry Farm,Oriole  are 43.7668565, -79.364258.\n",
      "The geograpical coordinate of  Northwood Park,York University  are 43.7705877, -79.5008332.\n",
      "The geograpical coordinate of  East Toronto  are 43.653963, -79.387207.\n",
      "The geograpical coordinate of  Little Portugal,Trinity  are 37.33048555, -121.826586626965.\n",
      "The geograpical coordinate of  Bayview Village  are 43.7691966, -79.3766617.\n",
      "The geograpical coordinate of  The Danforth West,Riverdale  are 43.6654704, -79.3525936.\n",
      "The geograpical coordinate of  Design Exchange,Toronto Dominion Centre  are 43.6477412, -79.3801145.\n",
      "The geograpical coordinate of  Silver Hills,York Mills  are 43.75157415, -79.373667512181.\n",
      "The geograpical coordinate of  Downsview West  are 43.7492988, -79.462248.\n",
      "The geograpical coordinate of  Commerce Court,Victoria Hotel  are -37.5875676, 144.7184348.\n",
      "The geograpical coordinate of  Humber Summit  are 43.7600778, -79.5717598.\n",
      "The geograpical coordinate of  Newtonbrook,Willowdale  are 43.7938863, -79.4256790230105.\n",
      "The geograpical coordinate of  Downsview Central  are 43.7492988, -79.462248.\n",
      "The geograpical coordinate of  Studio District  are 32.3311235, 34.8515434.\n",
      "The geograpical coordinate of  Emery,Humberlea  are 43.719268, -79.5371417111924.\n",
      "The geograpical coordinate of  Willowdale South  are 43.7753558, -79.4166859823926.\n",
      "The geograpical coordinate of  Downsview Northwest  are 43.7492988, -79.462248.\n",
      "The geograpical coordinate of  Lawrence Park  are 43.729199, -79.4032525.\n",
      "The geograpical coordinate of  Roselawn  are 41.151458, -87.2856748480322.\n",
      "The geograpical coordinate of  The Junction North,Runnymede  are 43.6655802, -79.4821078.\n",
      "The geograpical coordinate of  Weston  are 51.3471927, -2.9778916.\n",
      "The geograpical coordinate of  York Mills West  are 43.7440391, -79.406657.\n",
      "The geograpical coordinate of  Davisville North  are 43.7043123, -79.3885169.\n",
      "The geograpical coordinate of  High Park,The Junction South  are 43.6538668, -79.4668644.\n",
      "The geograpical coordinate of  Westmount  are 45.4857329, -73.5963951.\n",
      "The geograpical coordinate of  Willowdale West  are 43.7753558, -79.4166859823926.\n",
      "The geograpical coordinate of  North Toronto West  are 43.6465466, -79.4195263.\n",
      "The geograpical coordinate of  Parkdale,Roncesvalles  are 43.6514426, -79.4510381.\n",
      "The geograpical coordinate of  Agincourt  are 48.7323472, 6.236384.\n",
      "The geograpical coordinate of  Davisville  are 43.7043123, -79.3885169.\n",
      "The geograpical coordinate of  Harbord,University of Toronto  are 43.6622911, -79.3999585.\n",
      "The geograpical coordinate of  Runnymede,Swansea  are 43.6517776, -79.4759227.\n",
      "The geograpical coordinate of  Moore Park,Summerhill East  are 43.6816776, -79.3905037.\n",
      "The geograpical coordinate of  L'Amoreaux West  are 43.799003, -79.3059669.\n",
      "The geograpical coordinate of  Rosedale  are 43.6783556, -79.3807457.\n",
      "The geograpical coordinate of  Alderwood,Long Branch  are 43.6017173, -79.5452325.\n",
      "The geograpical coordinate of  Northwest  are 64.5731537, 11.5280364395482.\n",
      "The geograpical coordinate of  Upper Rouge  are 45.9002415, 6.1270852.\n",
      "The geograpical coordinate of  Church and Wellesley  are 43.6655242, -79.3838011.\n"
     ]
    }
   ],
   "source": [
    "neighborhoods = fixed_data['Neighbourhood']\n",
    "latitudes = []\n",
    "longitudes = []\n",
    "for city in neighborhoods:\n",
    "    try:\n",
    "        user_agent_name = city.replace(' ','_') + '_explorer'\n",
    "        geolocator = Nominatim(user_agent=user_agent_name)\n",
    "        location = geolocator.geocode(city)\n",
    "        latitude = location.latitude\n",
    "        longitude = location.longitude\n",
    "        latitudes.append(latitude)\n",
    "        longitudes.append(longitude)\n",
    "        print('The geograpical coordinate of ', city, ' are {}, {}.'.format(latitude, longitude))\n",
    "    except:\n",
    "        try:\n",
    "            user_agent_name = city.replace(' ','_') + '_explorer'\n",
    "            geolocator = Nominatim(user_agent=user_agent_name)\n",
    "            location = geolocator.geocode(city)\n",
    "            latitude = location.latitude\n",
    "            longitude = location.longitude\n",
    "            latitudes.append(latitude)\n",
    "            longitudes.append(longitude)\n",
    "            print('The geograpical coordinate of ', city, ' are {}, {}.'.format(latitude, longitude))\n",
    "        except:\n",
    "            latitudes.append(np.NaN)\n",
    "            longitudes.append(np.NaN)"
   ]
  },
  {
   "cell_type": "code",
   "execution_count": 19,
   "metadata": {},
   "outputs": [],
   "source": [
    "fixed_data['Latitude'] = latitudes\n",
    "fixed_data['Longitude'] = longitudes\n",
    "fixed_data.dropna(inplace=True,how='any')"
   ]
  },
  {
   "cell_type": "code",
   "execution_count": 20,
   "metadata": {},
   "outputs": [
    {
     "data": {
      "text/html": [
       "<div>\n",
       "<style scoped>\n",
       "    .dataframe tbody tr th:only-of-type {\n",
       "        vertical-align: middle;\n",
       "    }\n",
       "\n",
       "    .dataframe tbody tr th {\n",
       "        vertical-align: top;\n",
       "    }\n",
       "\n",
       "    .dataframe thead th {\n",
       "        text-align: right;\n",
       "    }\n",
       "</style>\n",
       "<table border=\"1\" class=\"dataframe\">\n",
       "  <thead>\n",
       "    <tr style=\"text-align: right;\">\n",
       "      <th></th>\n",
       "      <th>Postcode</th>\n",
       "      <th>Borough</th>\n",
       "      <th>Neighbourhood</th>\n",
       "      <th>Latitude</th>\n",
       "      <th>Longitude</th>\n",
       "    </tr>\n",
       "  </thead>\n",
       "  <tbody>\n",
       "    <tr>\n",
       "      <th>0</th>\n",
       "      <td>M3A</td>\n",
       "      <td>North York</td>\n",
       "      <td>Parkwoods</td>\n",
       "      <td>26.565264</td>\n",
       "      <td>-81.881723</td>\n",
       "    </tr>\n",
       "    <tr>\n",
       "      <th>1</th>\n",
       "      <td>M4A</td>\n",
       "      <td>North York</td>\n",
       "      <td>Victoria Village</td>\n",
       "      <td>43.732658</td>\n",
       "      <td>-79.311189</td>\n",
       "    </tr>\n",
       "    <tr>\n",
       "      <th>2</th>\n",
       "      <td>M5A</td>\n",
       "      <td>Downtown Toronto</td>\n",
       "      <td>Harbourfront,Regent Park</td>\n",
       "      <td>43.640080</td>\n",
       "      <td>-79.380150</td>\n",
       "    </tr>\n",
       "    <tr>\n",
       "      <th>3</th>\n",
       "      <td>M6A</td>\n",
       "      <td>North York</td>\n",
       "      <td>Lawrence Heights,Lawrence Manor</td>\n",
       "      <td>43.722778</td>\n",
       "      <td>-79.450933</td>\n",
       "    </tr>\n",
       "    <tr>\n",
       "      <th>5</th>\n",
       "      <td>M9A</td>\n",
       "      <td>Etobicoke</td>\n",
       "      <td>Islington Avenue</td>\n",
       "      <td>43.639374</td>\n",
       "      <td>-79.521218</td>\n",
       "    </tr>\n",
       "    <tr>\n",
       "      <th>6</th>\n",
       "      <td>M1B</td>\n",
       "      <td>Scarborough</td>\n",
       "      <td>Rouge,Malvern</td>\n",
       "      <td>43.809196</td>\n",
       "      <td>-79.221701</td>\n",
       "    </tr>\n",
       "    <tr>\n",
       "      <th>7</th>\n",
       "      <td>M3B</td>\n",
       "      <td>North York</td>\n",
       "      <td>Don Mills North</td>\n",
       "      <td>43.737178</td>\n",
       "      <td>-79.343451</td>\n",
       "    </tr>\n",
       "    <tr>\n",
       "      <th>9</th>\n",
       "      <td>M5B</td>\n",
       "      <td>Downtown Toronto</td>\n",
       "      <td>Ryerson,Garden District</td>\n",
       "      <td>45.579793</td>\n",
       "      <td>-79.508466</td>\n",
       "    </tr>\n",
       "    <tr>\n",
       "      <th>10</th>\n",
       "      <td>M6B</td>\n",
       "      <td>North York</td>\n",
       "      <td>Glencairn</td>\n",
       "      <td>-34.159540</td>\n",
       "      <td>18.428499</td>\n",
       "    </tr>\n",
       "    <tr>\n",
       "      <th>14</th>\n",
       "      <td>M4C</td>\n",
       "      <td>East York</td>\n",
       "      <td>Woodbine Heights</td>\n",
       "      <td>43.699930</td>\n",
       "      <td>-79.319132</td>\n",
       "    </tr>\n",
       "  </tbody>\n",
       "</table>\n",
       "</div>"
      ],
      "text/plain": [
       "   Postcode           Borough                    Neighbourhood   Latitude  \\\n",
       "0       M3A        North York                        Parkwoods  26.565264   \n",
       "1       M4A        North York                 Victoria Village  43.732658   \n",
       "2       M5A  Downtown Toronto         Harbourfront,Regent Park  43.640080   \n",
       "3       M6A        North York  Lawrence Heights,Lawrence Manor  43.722778   \n",
       "5       M9A         Etobicoke                 Islington Avenue  43.639374   \n",
       "6       M1B       Scarborough                    Rouge,Malvern  43.809196   \n",
       "7       M3B        North York                  Don Mills North  43.737178   \n",
       "9       M5B  Downtown Toronto          Ryerson,Garden District  45.579793   \n",
       "10      M6B        North York                        Glencairn -34.159540   \n",
       "14      M4C         East York                 Woodbine Heights  43.699930   \n",
       "\n",
       "    Longitude  \n",
       "0  -81.881723  \n",
       "1  -79.311189  \n",
       "2  -79.380150  \n",
       "3  -79.450933  \n",
       "5  -79.521218  \n",
       "6  -79.221701  \n",
       "7  -79.343451  \n",
       "9  -79.508466  \n",
       "10  18.428499  \n",
       "14 -79.319132  "
      ]
     },
     "execution_count": 20,
     "metadata": {},
     "output_type": "execute_result"
    }
   ],
   "source": [
    "fixed_data.head(10)"
   ]
  },
  {
   "cell_type": "markdown",
   "metadata": {},
   "source": [
    "Now, we need to do some visualizations"
   ]
  },
  {
   "cell_type": "code",
   "execution_count": 21,
   "metadata": {},
   "outputs": [],
   "source": [
    "geo_map = folium.Map(\n",
    "    location=[43.5,-80],\n",
    "    zoom_start=8,\n",
    "    tiles='Stamen Terrain'\n",
    ")"
   ]
  },
  {
   "cell_type": "code",
   "execution_count": 22,
   "metadata": {
    "scrolled": false
   },
   "outputs": [
    {
     "data": {
      "text/html": [
       "<div style=\"width:100%;\"><div style=\"position:relative;width:100%;height:0;padding-bottom:60%;\"><iframe src=\"data:text/html;charset=utf-8;base64,PCFET0NUWVBFIGh0bWw+CjxoZWFkPiAgICAKICAgIDxtZXRhIGh0dHAtZXF1aXY9ImNvbnRlbnQtdHlwZSIgY29udGVudD0idGV4dC9odG1sOyBjaGFyc2V0PVVURi04IiAvPgogICAgCiAgICAgICAgPHNjcmlwdD4KICAgICAgICAgICAgTF9OT19UT1VDSCA9IGZhbHNlOwogICAgICAgICAgICBMX0RJU0FCTEVfM0QgPSBmYWxzZTsKICAgICAgICA8L3NjcmlwdD4KICAgIAogICAgPHNjcmlwdCBzcmM9Imh0dHBzOi8vY2RuLmpzZGVsaXZyLm5ldC9ucG0vbGVhZmxldEAxLjQuMC9kaXN0L2xlYWZsZXQuanMiPjwvc2NyaXB0PgogICAgPHNjcmlwdCBzcmM9Imh0dHBzOi8vY29kZS5qcXVlcnkuY29tL2pxdWVyeS0xLjEyLjQubWluLmpzIj48L3NjcmlwdD4KICAgIDxzY3JpcHQgc3JjPSJodHRwczovL21heGNkbi5ib290c3RyYXBjZG4uY29tL2Jvb3RzdHJhcC8zLjIuMC9qcy9ib290c3RyYXAubWluLmpzIj48L3NjcmlwdD4KICAgIDxzY3JpcHQgc3JjPSJodHRwczovL2NkbmpzLmNsb3VkZmxhcmUuY29tL2FqYXgvbGlicy9MZWFmbGV0LmF3ZXNvbWUtbWFya2Vycy8yLjAuMi9sZWFmbGV0LmF3ZXNvbWUtbWFya2Vycy5qcyI+PC9zY3JpcHQ+CiAgICA8bGluayByZWw9InN0eWxlc2hlZXQiIGhyZWY9Imh0dHBzOi8vY2RuLmpzZGVsaXZyLm5ldC9ucG0vbGVhZmxldEAxLjQuMC9kaXN0L2xlYWZsZXQuY3NzIi8+CiAgICA8bGluayByZWw9InN0eWxlc2hlZXQiIGhyZWY9Imh0dHBzOi8vbWF4Y2RuLmJvb3RzdHJhcGNkbi5jb20vYm9vdHN0cmFwLzMuMi4wL2Nzcy9ib290c3RyYXAubWluLmNzcyIvPgogICAgPGxpbmsgcmVsPSJzdHlsZXNoZWV0IiBocmVmPSJodHRwczovL21heGNkbi5ib290c3RyYXBjZG4uY29tL2Jvb3RzdHJhcC8zLjIuMC9jc3MvYm9vdHN0cmFwLXRoZW1lLm1pbi5jc3MiLz4KICAgIDxsaW5rIHJlbD0ic3R5bGVzaGVldCIgaHJlZj0iaHR0cHM6Ly9tYXhjZG4uYm9vdHN0cmFwY2RuLmNvbS9mb250LWF3ZXNvbWUvNC42LjMvY3NzL2ZvbnQtYXdlc29tZS5taW4uY3NzIi8+CiAgICA8bGluayByZWw9InN0eWxlc2hlZXQiIGhyZWY9Imh0dHBzOi8vY2RuanMuY2xvdWRmbGFyZS5jb20vYWpheC9saWJzL0xlYWZsZXQuYXdlc29tZS1tYXJrZXJzLzIuMC4yL2xlYWZsZXQuYXdlc29tZS1tYXJrZXJzLmNzcyIvPgogICAgPGxpbmsgcmVsPSJzdHlsZXNoZWV0IiBocmVmPSJodHRwczovL3Jhd2Nkbi5naXRoYWNrLmNvbS9weXRob24tdmlzdWFsaXphdGlvbi9mb2xpdW0vbWFzdGVyL2ZvbGl1bS90ZW1wbGF0ZXMvbGVhZmxldC5hd2Vzb21lLnJvdGF0ZS5jc3MiLz4KICAgIDxzdHlsZT5odG1sLCBib2R5IHt3aWR0aDogMTAwJTtoZWlnaHQ6IDEwMCU7bWFyZ2luOiAwO3BhZGRpbmc6IDA7fTwvc3R5bGU+CiAgICA8c3R5bGU+I21hcCB7cG9zaXRpb246YWJzb2x1dGU7dG9wOjA7Ym90dG9tOjA7cmlnaHQ6MDtsZWZ0OjA7fTwvc3R5bGU+CiAgICAKICAgICAgICAgICAgPG1ldGEgbmFtZT0idmlld3BvcnQiIGNvbnRlbnQ9IndpZHRoPWRldmljZS13aWR0aCwKICAgICAgICAgICAgICAgIGluaXRpYWwtc2NhbGU9MS4wLCBtYXhpbXVtLXNjYWxlPTEuMCwgdXNlci1zY2FsYWJsZT1ubyIgLz4KICAgICAgICAgICAgPHN0eWxlPgogICAgICAgICAgICAgICAgI21hcF8wZGYzNWQ3NGZmNDE0MmI4YWQ1ZDgxNjQ2ZWU0ZWE3OCB7CiAgICAgICAgICAgICAgICAgICAgcG9zaXRpb246IHJlbGF0aXZlOwogICAgICAgICAgICAgICAgICAgIHdpZHRoOiAxMDAuMCU7CiAgICAgICAgICAgICAgICAgICAgaGVpZ2h0OiAxMDAuMCU7CiAgICAgICAgICAgICAgICAgICAgbGVmdDogMC4wJTsKICAgICAgICAgICAgICAgICAgICB0b3A6IDAuMCU7CiAgICAgICAgICAgICAgICB9CiAgICAgICAgICAgIDwvc3R5bGU+CiAgICAgICAgCjwvaGVhZD4KPGJvZHk+ICAgIAogICAgCiAgICAgICAgICAgIDxkaXYgY2xhc3M9ImZvbGl1bS1tYXAiIGlkPSJtYXBfMGRmMzVkNzRmZjQxNDJiOGFkNWQ4MTY0NmVlNGVhNzgiID48L2Rpdj4KICAgICAgICAKPC9ib2R5Pgo8c2NyaXB0PiAgICAKICAgIAogICAgICAgICAgICB2YXIgbWFwXzBkZjM1ZDc0ZmY0MTQyYjhhZDVkODE2NDZlZTRlYTc4ID0gTC5tYXAoCiAgICAgICAgICAgICAgICAibWFwXzBkZjM1ZDc0ZmY0MTQyYjhhZDVkODE2NDZlZTRlYTc4IiwKICAgICAgICAgICAgICAgIHsKICAgICAgICAgICAgICAgICAgICBjZW50ZXI6IFs0My41LCAtODAuMF0sCiAgICAgICAgICAgICAgICAgICAgY3JzOiBMLkNSUy5FUFNHMzg1NywKICAgICAgICAgICAgICAgICAgICB6b29tOiA4LAogICAgICAgICAgICAgICAgICAgIHpvb21Db250cm9sOiB0cnVlLAogICAgICAgICAgICAgICAgICAgIHByZWZlckNhbnZhczogZmFsc2UsCiAgICAgICAgICAgICAgICB9CiAgICAgICAgICAgICk7CgogICAgICAgICAgICAKCiAgICAgICAgCiAgICAKICAgICAgICAgICAgdmFyIHRpbGVfbGF5ZXJfYTQ4NmIxMTVhNDUzNGQwMGI2YWM5MDM5YzcxYjg3YzQgPSBMLnRpbGVMYXllcigKICAgICAgICAgICAgICAgICJodHRwczovL3N0YW1lbi10aWxlcy17c30uYS5zc2wuZmFzdGx5Lm5ldC90ZXJyYWluL3t6fS97eH0ve3l9LmpwZyIsCiAgICAgICAgICAgICAgICB7ImF0dHJpYnV0aW9uIjogIk1hcCB0aWxlcyBieSBcdTAwM2NhIGhyZWY9XCJodHRwOi8vc3RhbWVuLmNvbVwiXHUwMDNlU3RhbWVuIERlc2lnblx1MDAzYy9hXHUwMDNlLCB1bmRlciBcdTAwM2NhIGhyZWY9XCJodHRwOi8vY3JlYXRpdmVjb21tb25zLm9yZy9saWNlbnNlcy9ieS8zLjBcIlx1MDAzZUNDIEJZIDMuMFx1MDAzYy9hXHUwMDNlLiBEYXRhIGJ5IFx1MDAyNmNvcHk7IFx1MDAzY2EgaHJlZj1cImh0dHA6Ly9vcGVuc3RyZWV0bWFwLm9yZ1wiXHUwMDNlT3BlblN0cmVldE1hcFx1MDAzYy9hXHUwMDNlLCB1bmRlciBcdTAwM2NhIGhyZWY9XCJodHRwOi8vY3JlYXRpdmVjb21tb25zLm9yZy9saWNlbnNlcy9ieS1zYS8zLjBcIlx1MDAzZUNDIEJZIFNBXHUwMDNjL2FcdTAwM2UuIiwgImRldGVjdFJldGluYSI6IGZhbHNlLCAibWF4TmF0aXZlWm9vbSI6IDE4LCAibWF4Wm9vbSI6IDE4LCAibWluWm9vbSI6IDAsICJub1dyYXAiOiBmYWxzZSwgIm9wYWNpdHkiOiAxLCAic3ViZG9tYWlucyI6ICJhYmMiLCAidG1zIjogZmFsc2V9CiAgICAgICAgICAgICkuYWRkVG8obWFwXzBkZjM1ZDc0ZmY0MTQyYjhhZDVkODE2NDZlZTRlYTc4KTsKICAgICAgICAKPC9zY3JpcHQ+\" style=\"position:absolute;width:100%;height:100%;left:0;top:0;border:none !important;\" allowfullscreen webkitallowfullscreen mozallowfullscreen></iframe></div></div>"
      ],
      "text/plain": [
       "<folium.folium.Map at 0x10ed33e48>"
      ]
     },
     "execution_count": 22,
     "metadata": {},
     "output_type": "execute_result"
    }
   ],
   "source": [
    "geo_map"
   ]
  },
  {
   "cell_type": "markdown",
   "metadata": {},
   "source": [
    "Let's add markers to our map"
   ]
  },
  {
   "cell_type": "markdown",
   "metadata": {},
   "source": [
    "Make a new df containing only unique rows"
   ]
  },
  {
   "cell_type": "code",
   "execution_count": 23,
   "metadata": {},
   "outputs": [],
   "source": [
    "marker_df = fixed_data.drop_duplicates(subset='Neighbourhood',keep='first',inplace=False)"
   ]
  },
  {
   "cell_type": "code",
   "execution_count": 24,
   "metadata": {},
   "outputs": [],
   "source": [
    "for index, row in marker_df.iterrows():\n",
    "    city = folium.map.FeatureGroup()\n",
    "    city.add_child(\n",
    "        folium.CircleMarker(\n",
    "        [row['Latitude'],row['Longitude']], radius=5,\n",
    "        color='red',\n",
    "        fill_color='Red'\n",
    "        )\n",
    "    )\n",
    "    geo_map.add_child(city)\n",
    "    folium.Marker([row['Latitude'],row['Longitude']],popup=row['Neighbourhood']).add_to(geo_map)"
   ]
  },
  {
   "cell_type": "code",
   "execution_count": 25,
   "metadata": {},
   "outputs": [
    {
     "data": {
      "text/html": [
       "<div style=\"width:100%;\"><div style=\"position:relative;width:100%;height:0;padding-bottom:60%;\"><iframe src=\"data:text/html;charset=utf-8;base64,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\" style=\"position:absolute;width:100%;height:100%;left:0;top:0;border:none !important;\" allowfullscreen webkitallowfullscreen mozallowfullscreen></iframe></div></div>"
      ],
      "text/plain": [
       "<folium.folium.Map at 0x10ed33e48>"
      ]
     },
     "execution_count": 25,
     "metadata": {},
     "output_type": "execute_result"
    }
   ],
   "source": [
    "geo_map"
   ]
  },
  {
   "cell_type": "markdown",
   "metadata": {},
   "source": [
    "Now, we will perform a KNN classification analysis to see which neighborhoods are the best to move into"
   ]
  },
  {
   "cell_type": "code",
   "execution_count": 26,
   "metadata": {},
   "outputs": [],
   "source": [
    "data = pd.read_excel('Industry_Profile.xlsx',sheet_name=['i000'])\n",
    "data = data['i000']"
   ]
  },
  {
   "cell_type": "markdown",
   "metadata": {},
   "source": [
    "Let's view the shape of each column"
   ]
  },
  {
   "cell_type": "code",
   "execution_count": 38,
   "metadata": {},
   "outputs": [
    {
     "name": "stdout",
     "output_type": "stream",
     "text": [
      "(11,)\n",
      "(11,)\n",
      "(11,)\n",
      "(11,)\n",
      "(11,)\n",
      "(11,)\n",
      "(11,)\n",
      "(11,)\n",
      "(11,)\n"
     ]
    }
   ],
   "source": [
    "for col in data.columns:\n",
    "    print(data[col].shape)"
   ]
  },
  {
   "cell_type": "code",
   "execution_count": 41,
   "metadata": {},
   "outputs": [],
   "source": [
    "data = data.transpose()"
   ]
  },
  {
   "cell_type": "code",
   "execution_count": 42,
   "metadata": {},
   "outputs": [
    {
     "data": {
      "text/html": [
       "<div>\n",
       "<style scoped>\n",
       "    .dataframe tbody tr th:only-of-type {\n",
       "        vertical-align: middle;\n",
       "    }\n",
       "\n",
       "    .dataframe tbody tr th {\n",
       "        vertical-align: top;\n",
       "    }\n",
       "\n",
       "    .dataframe thead th {\n",
       "        text-align: right;\n",
       "    }\n",
       "</style>\n",
       "<table border=\"1\" class=\"dataframe\">\n",
       "  <thead>\n",
       "    <tr style=\"text-align: right;\">\n",
       "      <th></th>\n",
       "      <th>0</th>\n",
       "      <th>1</th>\n",
       "      <th>2</th>\n",
       "      <th>3</th>\n",
       "      <th>4</th>\n",
       "      <th>5</th>\n",
       "      <th>6</th>\n",
       "      <th>7</th>\n",
       "      <th>8</th>\n",
       "      <th>9</th>\n",
       "      <th>10</th>\n",
       "    </tr>\n",
       "  </thead>\n",
       "  <tbody>\n",
       "    <tr>\n",
       "      <th>% By Educational Attainment</th>\n",
       "      <td>0 to 8  years</td>\n",
       "      <td>Some secondary</td>\n",
       "      <td>High school graduate</td>\n",
       "      <td>Some postsecondary</td>\n",
       "      <td>Postsecondary certif or diploma</td>\n",
       "      <td>Trade certificate or diploma</td>\n",
       "      <td>College diploma</td>\n",
       "      <td>University certif below bachelor</td>\n",
       "      <td>University degree</td>\n",
       "      <td>Bachelor's degree</td>\n",
       "      <td>Above bachelor's degree</td>\n",
       "    </tr>\n",
       "    <tr>\n",
       "      <th>2003</th>\n",
       "      <td>0.0619327</td>\n",
       "      <td>0.122007</td>\n",
       "      <td>0.261352</td>\n",
       "      <td>0.0788846</td>\n",
       "      <td>0.280734</td>\n",
       "      <td>0.0752969</td>\n",
       "      <td>0.190987</td>\n",
       "      <td>0.0144505</td>\n",
       "      <td>0.195103</td>\n",
       "      <td>0.143447</td>\n",
       "      <td>0.0516559</td>\n",
       "    </tr>\n",
       "    <tr>\n",
       "      <th>2008</th>\n",
       "      <td>0.0469742</td>\n",
       "      <td>0.102549</td>\n",
       "      <td>0.246576</td>\n",
       "      <td>0.0650875</td>\n",
       "      <td>0.324526</td>\n",
       "      <td>0.0928828</td>\n",
       "      <td>0.216371</td>\n",
       "      <td>0.015272</td>\n",
       "      <td>0.214271</td>\n",
       "      <td>0.150821</td>\n",
       "      <td>0.0634506</td>\n",
       "    </tr>\n",
       "    <tr>\n",
       "      <th>2013</th>\n",
       "      <td>0.0414446</td>\n",
       "      <td>0.07912</td>\n",
       "      <td>0.241229</td>\n",
       "      <td>0.0579161</td>\n",
       "      <td>0.332487</td>\n",
       "      <td>0.07912</td>\n",
       "      <td>0.237443</td>\n",
       "      <td>0.015907</td>\n",
       "      <td>0.247804</td>\n",
       "      <td>0.175874</td>\n",
       "      <td>0.0719303</td>\n",
       "    </tr>\n",
       "    <tr>\n",
       "      <th>2014</th>\n",
       "      <td>0.0354115</td>\n",
       "      <td>0.0753149</td>\n",
       "      <td>0.275845</td>\n",
       "      <td>0.0548482</td>\n",
       "      <td>0.322622</td>\n",
       "      <td>0.0826438</td>\n",
       "      <td>0.220676</td>\n",
       "      <td>0.0193016</td>\n",
       "      <td>0.235976</td>\n",
       "      <td>0.165828</td>\n",
       "      <td>0.0701307</td>\n",
       "    </tr>\n",
       "  </tbody>\n",
       "</table>\n",
       "</div>"
      ],
      "text/plain": [
       "                                          0                 1   \\\n",
       "% By Educational Attainment    0 to 8  years    Some secondary   \n",
       "2003                               0.0619327          0.122007   \n",
       "2008                               0.0469742          0.102549   \n",
       "2013                               0.0414446           0.07912   \n",
       "2014                               0.0354115         0.0753149   \n",
       "\n",
       "                                                 2                     3   \\\n",
       "% By Educational Attainment    High school graduate    Some postsecondary   \n",
       "2003                                       0.261352             0.0788846   \n",
       "2008                                       0.246576             0.0650875   \n",
       "2013                                       0.241229             0.0579161   \n",
       "2014                                       0.275845             0.0548482   \n",
       "\n",
       "                                                            4   \\\n",
       "% By Educational Attainment    Postsecondary certif or diploma   \n",
       "2003                                                  0.280734   \n",
       "2008                                                  0.324526   \n",
       "2013                                                  0.332487   \n",
       "2014                                                  0.322622   \n",
       "\n",
       "                                                           5   \\\n",
       "% By Educational Attainment      Trade certificate or diploma   \n",
       "2003                                                0.0752969   \n",
       "2008                                                0.0928828   \n",
       "2013                                                  0.07912   \n",
       "2014                                                0.0826438   \n",
       "\n",
       "                                              6   \\\n",
       "% By Educational Attainment      College diploma   \n",
       "2003                                    0.190987   \n",
       "2008                                    0.216371   \n",
       "2013                                    0.237443   \n",
       "2014                                    0.220676   \n",
       "\n",
       "                                                               7   \\\n",
       "% By Educational Attainment      University certif below bachelor   \n",
       "2003                                                    0.0144505   \n",
       "2008                                                     0.015272   \n",
       "2013                                                     0.015907   \n",
       "2014                                                    0.0193016   \n",
       "\n",
       "                                              8                      9   \\\n",
       "% By Educational Attainment    University degree      Bachelor's degree   \n",
       "2003                                    0.195103               0.143447   \n",
       "2008                                    0.214271               0.150821   \n",
       "2013                                    0.247804               0.175874   \n",
       "2014                                    0.235976               0.165828   \n",
       "\n",
       "                                                      10  \n",
       "% By Educational Attainment      Above bachelor's degree  \n",
       "2003                                           0.0516559  \n",
       "2008                                           0.0634506  \n",
       "2013                                           0.0719303  \n",
       "2014                                           0.0701307  "
      ]
     },
     "execution_count": 42,
     "metadata": {},
     "output_type": "execute_result"
    }
   ],
   "source": [
    "data.head()"
   ]
  },
  {
   "cell_type": "code",
   "execution_count": 43,
   "metadata": {},
   "outputs": [
    {
     "data": {
      "text/plain": [
       "Index(['% By Educational Attainment', 2003, 2008, 2013, 2014, 2015, 2016, 2017,\n",
       "       2018],\n",
       "      dtype='object')"
      ]
     },
     "execution_count": 43,
     "metadata": {},
     "output_type": "execute_result"
    }
   ],
   "source": [
    "data.index"
   ]
  },
  {
   "cell_type": "code",
   "execution_count": 44,
   "metadata": {},
   "outputs": [],
   "source": [
    "data.columns = data.iloc[0]\n",
    "data = data[1:]"
   ]
  },
  {
   "cell_type": "code",
   "execution_count": 45,
   "metadata": {},
   "outputs": [
    {
     "data": {
      "text/html": [
       "<div>\n",
       "<style scoped>\n",
       "    .dataframe tbody tr th:only-of-type {\n",
       "        vertical-align: middle;\n",
       "    }\n",
       "\n",
       "    .dataframe tbody tr th {\n",
       "        vertical-align: top;\n",
       "    }\n",
       "\n",
       "    .dataframe thead th {\n",
       "        text-align: right;\n",
       "    }\n",
       "</style>\n",
       "<table border=\"1\" class=\"dataframe\">\n",
       "  <thead>\n",
       "    <tr style=\"text-align: right;\">\n",
       "      <th>% By Educational Attainment</th>\n",
       "      <th>0 to 8  years</th>\n",
       "      <th>Some secondary</th>\n",
       "      <th>High school graduate</th>\n",
       "      <th>Some postsecondary</th>\n",
       "      <th>Postsecondary certif or diploma</th>\n",
       "      <th>Trade certificate or diploma</th>\n",
       "      <th>College diploma</th>\n",
       "      <th>University certif below bachelor</th>\n",
       "      <th>University degree</th>\n",
       "      <th>Bachelor's degree</th>\n",
       "      <th>Above bachelor's degree</th>\n",
       "    </tr>\n",
       "  </thead>\n",
       "  <tbody>\n",
       "    <tr>\n",
       "      <th>2003</th>\n",
       "      <td>0.0619327</td>\n",
       "      <td>0.122007</td>\n",
       "      <td>0.261352</td>\n",
       "      <td>0.0788846</td>\n",
       "      <td>0.280734</td>\n",
       "      <td>0.0752969</td>\n",
       "      <td>0.190987</td>\n",
       "      <td>0.0144505</td>\n",
       "      <td>0.195103</td>\n",
       "      <td>0.143447</td>\n",
       "      <td>0.0516559</td>\n",
       "    </tr>\n",
       "    <tr>\n",
       "      <th>2008</th>\n",
       "      <td>0.0469742</td>\n",
       "      <td>0.102549</td>\n",
       "      <td>0.246576</td>\n",
       "      <td>0.0650875</td>\n",
       "      <td>0.324526</td>\n",
       "      <td>0.0928828</td>\n",
       "      <td>0.216371</td>\n",
       "      <td>0.015272</td>\n",
       "      <td>0.214271</td>\n",
       "      <td>0.150821</td>\n",
       "      <td>0.0634506</td>\n",
       "    </tr>\n",
       "    <tr>\n",
       "      <th>2013</th>\n",
       "      <td>0.0414446</td>\n",
       "      <td>0.07912</td>\n",
       "      <td>0.241229</td>\n",
       "      <td>0.0579161</td>\n",
       "      <td>0.332487</td>\n",
       "      <td>0.07912</td>\n",
       "      <td>0.237443</td>\n",
       "      <td>0.015907</td>\n",
       "      <td>0.247804</td>\n",
       "      <td>0.175874</td>\n",
       "      <td>0.0719303</td>\n",
       "    </tr>\n",
       "    <tr>\n",
       "      <th>2014</th>\n",
       "      <td>0.0354115</td>\n",
       "      <td>0.0753149</td>\n",
       "      <td>0.275845</td>\n",
       "      <td>0.0548482</td>\n",
       "      <td>0.322622</td>\n",
       "      <td>0.0826438</td>\n",
       "      <td>0.220676</td>\n",
       "      <td>0.0193016</td>\n",
       "      <td>0.235976</td>\n",
       "      <td>0.165828</td>\n",
       "      <td>0.0701307</td>\n",
       "    </tr>\n",
       "    <tr>\n",
       "      <th>2015</th>\n",
       "      <td>0.0289058</td>\n",
       "      <td>0.0675521</td>\n",
       "      <td>0.25219</td>\n",
       "      <td>0.0499992</td>\n",
       "      <td>0.340304</td>\n",
       "      <td>0.0777248</td>\n",
       "      <td>0.23979</td>\n",
       "      <td>0.0228055</td>\n",
       "      <td>0.26105</td>\n",
       "      <td>0.198185</td>\n",
       "      <td>0.0628646</td>\n",
       "    </tr>\n",
       "  </tbody>\n",
       "</table>\n",
       "</div>"
      ],
      "text/plain": [
       "% By Educational Attainment   0 to 8  years   Some secondary  \\\n",
       "2003                              0.0619327         0.122007   \n",
       "2008                              0.0469742         0.102549   \n",
       "2013                              0.0414446          0.07912   \n",
       "2014                              0.0354115        0.0753149   \n",
       "2015                              0.0289058        0.0675521   \n",
       "\n",
       "% By Educational Attainment   High school graduate   Some postsecondary  \\\n",
       "2003                                      0.261352            0.0788846   \n",
       "2008                                      0.246576            0.0650875   \n",
       "2013                                      0.241229            0.0579161   \n",
       "2014                                      0.275845            0.0548482   \n",
       "2015                                       0.25219            0.0499992   \n",
       "\n",
       "% By Educational Attainment   Postsecondary certif or diploma  \\\n",
       "2003                                                 0.280734   \n",
       "2008                                                 0.324526   \n",
       "2013                                                 0.332487   \n",
       "2014                                                 0.322622   \n",
       "2015                                                 0.340304   \n",
       "\n",
       "% By Educational Attainment     Trade certificate or diploma  \\\n",
       "2003                                               0.0752969   \n",
       "2008                                               0.0928828   \n",
       "2013                                                 0.07912   \n",
       "2014                                               0.0826438   \n",
       "2015                                               0.0777248   \n",
       "\n",
       "% By Educational Attainment     College diploma  \\\n",
       "2003                                   0.190987   \n",
       "2008                                   0.216371   \n",
       "2013                                   0.237443   \n",
       "2014                                   0.220676   \n",
       "2015                                    0.23979   \n",
       "\n",
       "% By Educational Attainment     University certif below bachelor  \\\n",
       "2003                                                   0.0144505   \n",
       "2008                                                    0.015272   \n",
       "2013                                                    0.015907   \n",
       "2014                                                   0.0193016   \n",
       "2015                                                   0.0228055   \n",
       "\n",
       "% By Educational Attainment   University degree     Bachelor's degree  \\\n",
       "2003                                   0.195103              0.143447   \n",
       "2008                                   0.214271              0.150821   \n",
       "2013                                   0.247804              0.175874   \n",
       "2014                                   0.235976              0.165828   \n",
       "2015                                    0.26105              0.198185   \n",
       "\n",
       "% By Educational Attainment     Above bachelor's degree  \n",
       "2003                                          0.0516559  \n",
       "2008                                          0.0634506  \n",
       "2013                                          0.0719303  \n",
       "2014                                          0.0701307  \n",
       "2015                                          0.0628646  "
      ]
     },
     "execution_count": 45,
     "metadata": {},
     "output_type": "execute_result"
    }
   ],
   "source": [
    "data.head()"
   ]
  },
  {
   "cell_type": "code",
   "execution_count": 50,
   "metadata": {},
   "outputs": [
    {
     "data": {
      "text/plain": [
       "Index(['  0 to 8  years', '  Some secondary', '  High school graduate',\n",
       "       '  Some postsecondary', '  Postsecondary certif or diploma',\n",
       "       '    Trade certificate or diploma', '    College diploma',\n",
       "       '    University certif below bachelor', '  University degree',\n",
       "       '    Bachelor's degree', '    Above bachelor's degree'],\n",
       "      dtype='object', name='% By Educational Attainment')"
      ]
     },
     "execution_count": 50,
     "metadata": {},
     "output_type": "execute_result"
    }
   ],
   "source": [
    "data.columns"
   ]
  },
  {
   "cell_type": "code",
   "execution_count": 55,
   "metadata": {
    "scrolled": true
   },
   "outputs": [],
   "source": [
    "X = np.array(data[\"    Bachelor's degree\"])\n",
    "Y = np.array(data[\"    Above bachelor's degree\"])"
   ]
  },
  {
   "cell_type": "code",
   "execution_count": 63,
   "metadata": {},
   "outputs": [],
   "source": [
    "X = np.array(X, dtype=float)\n",
    "Y = np.array(Y, dtype=float)"
   ]
  },
  {
   "cell_type": "code",
   "execution_count": 65,
   "metadata": {},
   "outputs": [
    {
     "name": "stdout",
     "output_type": "stream",
     "text": [
      "                            OLS Regression Results                            \n",
      "==============================================================================\n",
      "Dep. Variable:                      y   R-squared:                       0.988\n",
      "Model:                            OLS   Adj. R-squared:                  0.986\n",
      "Method:                 Least Squares   F-statistic:                     555.3\n",
      "Date:                Tue, 16 Jul 2019   Prob (F-statistic):           6.29e-08\n",
      "Time:                        20:46:42   Log-Likelihood:                 20.016\n",
      "No. Observations:                   8   AIC:                            -38.03\n",
      "Df Residuals:                       7   BIC:                            -37.95\n",
      "Df Model:                           1                                         \n",
      "Covariance Type:            nonrobust                                         \n",
      "==============================================================================\n",
      "                 coef    std err          t      P>|t|      [0.025      0.975]\n",
      "------------------------------------------------------------------------------\n",
      "x1             2.5104      0.107     23.565      0.000       2.259       2.762\n",
      "==============================================================================\n",
      "Omnibus:                        1.558   Durbin-Watson:                   3.095\n",
      "Prob(Omnibus):                  0.459   Jarque-Bera (JB):                0.917\n",
      "Skew:                           0.745   Prob(JB):                        0.632\n",
      "Kurtosis:                       2.273   Cond. No.                         1.00\n",
      "==============================================================================\n",
      "\n",
      "Warnings:\n",
      "[1] Standard Errors assume that the covariance matrix of the errors is correctly specified.\n"
     ]
    },
    {
     "name": "stderr",
     "output_type": "stream",
     "text": [
      "/Users/NickSummers/anaconda3/lib/python3.6/site-packages/scipy/stats/stats.py:1394: UserWarning: kurtosistest only valid for n>=20 ... continuing anyway, n=8\n",
      "  \"anyway, n=%i\" % int(n))\n"
     ]
    }
   ],
   "source": [
    "import statsmodels.api as sm\n",
    "results = sm.OLS(X, Y).fit()\n",
    "summary = results.summary()\n",
    "print(summary)"
   ]
  },
  {
   "cell_type": "markdown",
   "metadata": {},
   "source": [
    "This regression shows us that we can predict how many college graduates there will be with a high degree of certainty, so Toronto is a great city to move to."
   ]
  },
  {
   "cell_type": "code",
   "execution_count": null,
   "metadata": {},
   "outputs": [],
   "source": []
  }
 ],
 "metadata": {
  "kernelspec": {
   "display_name": "Python 3",
   "language": "python",
   "name": "python3"
  },
  "language_info": {
   "codemirror_mode": {
    "name": "ipython",
    "version": 3
   },
   "file_extension": ".py",
   "mimetype": "text/x-python",
   "name": "python",
   "nbconvert_exporter": "python",
   "pygments_lexer": "ipython3",
   "version": "3.6.8"
  }
 },
 "nbformat": 4,
 "nbformat_minor": 2
}
