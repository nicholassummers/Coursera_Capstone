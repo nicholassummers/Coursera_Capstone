{
 "cells": [
  {
   "cell_type": "markdown",
   "metadata": {},
   "source": [
    "<font size=4><b>Coursera Capstone Project Notebook</b></font>"
   ]
  },
  {
   "cell_type": "markdown",
   "metadata": {},
   "source": [
    "This notebook will be used for the completion of the Coursera Capstone Project in Python."
   ]
  },
  {
   "cell_type": "code",
   "execution_count": 1,
   "metadata": {},
   "outputs": [],
   "source": [
    "import numpy as np\n",
    "import pandas as pd"
   ]
  },
  {
   "cell_type": "markdown",
   "metadata": {},
   "source": [
    "Need the following installs in order to complete this project"
   ]
  },
  {
   "cell_type": "code",
   "execution_count": 2,
   "metadata": {},
   "outputs": [],
   "source": [
    "from geopy.geocoders import Nominatim #for letting location data\n",
    "from sklearn.cluster import KMeans #for performing kmeans clustering\n",
    "import folium #for visualizing on a world map"
   ]
  },
  {
   "cell_type": "code",
   "execution_count": 3,
   "metadata": {
    "scrolled": true
   },
   "outputs": [
    {
     "name": "stdout",
     "output_type": "stream",
     "text": [
      "Hello Capstone Project Course!\n"
     ]
    }
   ],
   "source": [
    "print('Hello Capstone Project Course!')"
   ]
  },
  {
   "cell_type": "markdown",
   "metadata": {},
   "source": [
    "Load and view our dataset"
   ]
  },
  {
   "cell_type": "code",
   "execution_count": 4,
   "metadata": {},
   "outputs": [],
   "source": [
    "data = pd.read_html('https://en.wikipedia.org/wiki/List_of_postal_codes_of_Canada:_M')[0]"
   ]
  },
  {
   "cell_type": "code",
   "execution_count": 5,
   "metadata": {},
   "outputs": [
    {
     "data": {
      "text/html": [
       "<div>\n",
       "<style scoped>\n",
       "    .dataframe tbody tr th:only-of-type {\n",
       "        vertical-align: middle;\n",
       "    }\n",
       "\n",
       "    .dataframe tbody tr th {\n",
       "        vertical-align: top;\n",
       "    }\n",
       "\n",
       "    .dataframe thead th {\n",
       "        text-align: right;\n",
       "    }\n",
       "</style>\n",
       "<table border=\"1\" class=\"dataframe\">\n",
       "  <thead>\n",
       "    <tr style=\"text-align: right;\">\n",
       "      <th></th>\n",
       "      <th>Postcode</th>\n",
       "      <th>Borough</th>\n",
       "      <th>Neighbourhood</th>\n",
       "    </tr>\n",
       "  </thead>\n",
       "  <tbody>\n",
       "    <tr>\n",
       "      <th>0</th>\n",
       "      <td>M1A</td>\n",
       "      <td>Not assigned</td>\n",
       "      <td>Not assigned</td>\n",
       "    </tr>\n",
       "    <tr>\n",
       "      <th>1</th>\n",
       "      <td>M2A</td>\n",
       "      <td>Not assigned</td>\n",
       "      <td>Not assigned</td>\n",
       "    </tr>\n",
       "    <tr>\n",
       "      <th>2</th>\n",
       "      <td>M3A</td>\n",
       "      <td>North York</td>\n",
       "      <td>Parkwoods</td>\n",
       "    </tr>\n",
       "    <tr>\n",
       "      <th>3</th>\n",
       "      <td>M4A</td>\n",
       "      <td>North York</td>\n",
       "      <td>Victoria Village</td>\n",
       "    </tr>\n",
       "    <tr>\n",
       "      <th>4</th>\n",
       "      <td>M5A</td>\n",
       "      <td>Downtown Toronto</td>\n",
       "      <td>Harbourfront</td>\n",
       "    </tr>\n",
       "  </tbody>\n",
       "</table>\n",
       "</div>"
      ],
      "text/plain": [
       "  Postcode           Borough     Neighbourhood\n",
       "0      M1A      Not assigned      Not assigned\n",
       "1      M2A      Not assigned      Not assigned\n",
       "2      M3A        North York         Parkwoods\n",
       "3      M4A        North York  Victoria Village\n",
       "4      M5A  Downtown Toronto      Harbourfront"
      ]
     },
     "execution_count": 5,
     "metadata": {},
     "output_type": "execute_result"
    }
   ],
   "source": [
    "data.head()"
   ]
  },
  {
   "cell_type": "markdown",
   "metadata": {},
   "source": [
    "We need to remove all of the not assigned buroughs from our dataset."
   ]
  },
  {
   "cell_type": "code",
   "execution_count": 6,
   "metadata": {},
   "outputs": [],
   "source": [
    "data = data[data['Borough'] != 'Not assigned']"
   ]
  },
  {
   "cell_type": "code",
   "execution_count": 7,
   "metadata": {},
   "outputs": [
    {
     "data": {
      "text/html": [
       "<div>\n",
       "<style scoped>\n",
       "    .dataframe tbody tr th:only-of-type {\n",
       "        vertical-align: middle;\n",
       "    }\n",
       "\n",
       "    .dataframe tbody tr th {\n",
       "        vertical-align: top;\n",
       "    }\n",
       "\n",
       "    .dataframe thead th {\n",
       "        text-align: right;\n",
       "    }\n",
       "</style>\n",
       "<table border=\"1\" class=\"dataframe\">\n",
       "  <thead>\n",
       "    <tr style=\"text-align: right;\">\n",
       "      <th></th>\n",
       "      <th>Postcode</th>\n",
       "      <th>Borough</th>\n",
       "      <th>Neighbourhood</th>\n",
       "    </tr>\n",
       "  </thead>\n",
       "  <tbody>\n",
       "    <tr>\n",
       "      <th>2</th>\n",
       "      <td>M3A</td>\n",
       "      <td>North York</td>\n",
       "      <td>Parkwoods</td>\n",
       "    </tr>\n",
       "    <tr>\n",
       "      <th>3</th>\n",
       "      <td>M4A</td>\n",
       "      <td>North York</td>\n",
       "      <td>Victoria Village</td>\n",
       "    </tr>\n",
       "    <tr>\n",
       "      <th>4</th>\n",
       "      <td>M5A</td>\n",
       "      <td>Downtown Toronto</td>\n",
       "      <td>Harbourfront</td>\n",
       "    </tr>\n",
       "    <tr>\n",
       "      <th>5</th>\n",
       "      <td>M5A</td>\n",
       "      <td>Downtown Toronto</td>\n",
       "      <td>Regent Park</td>\n",
       "    </tr>\n",
       "    <tr>\n",
       "      <th>6</th>\n",
       "      <td>M6A</td>\n",
       "      <td>North York</td>\n",
       "      <td>Lawrence Heights</td>\n",
       "    </tr>\n",
       "  </tbody>\n",
       "</table>\n",
       "</div>"
      ],
      "text/plain": [
       "  Postcode           Borough     Neighbourhood\n",
       "2      M3A        North York         Parkwoods\n",
       "3      M4A        North York  Victoria Village\n",
       "4      M5A  Downtown Toronto      Harbourfront\n",
       "5      M5A  Downtown Toronto       Regent Park\n",
       "6      M6A        North York  Lawrence Heights"
      ]
     },
     "execution_count": 7,
     "metadata": {},
     "output_type": "execute_result"
    }
   ],
   "source": [
    "data.head()"
   ]
  },
  {
   "cell_type": "markdown",
   "metadata": {},
   "source": [
    "We need to combine rows with the same postcode"
   ]
  },
  {
   "cell_type": "code",
   "execution_count": 8,
   "metadata": {},
   "outputs": [
    {
     "data": {
      "text/plain": [
       "{'M3A': array(['Parkwoods'], dtype=object),\n",
       " 'M4A': array(['Victoria Village'], dtype=object),\n",
       " 'M5A': array(['Harbourfront', 'Regent Park'], dtype=object),\n",
       " 'M6A': array(['Lawrence Heights', 'Lawrence Manor'], dtype=object),\n",
       " 'M7A': array(['Not assigned'], dtype=object),\n",
       " 'M9A': array(['Islington Avenue'], dtype=object),\n",
       " 'M1B': array(['Rouge', 'Malvern'], dtype=object),\n",
       " 'M3B': array(['Don Mills North'], dtype=object),\n",
       " 'M4B': array(['Woodbine Gardens', 'Parkview Hill'], dtype=object),\n",
       " 'M5B': array(['Ryerson', 'Garden District'], dtype=object),\n",
       " 'M6B': array(['Glencairn'], dtype=object),\n",
       " 'M9B': array(['Cloverdale', 'Islington', 'Martin Grove', 'Princess Gardens',\n",
       "        'West Deane Park'], dtype=object),\n",
       " 'M1C': array(['Highland Creek', 'Rouge Hill', 'Port Union'], dtype=object),\n",
       " 'M3C': array(['Flemingdon Park', 'Don Mills South'], dtype=object),\n",
       " 'M4C': array(['Woodbine Heights'], dtype=object),\n",
       " 'M5C': array(['St. James Town'], dtype=object),\n",
       " 'M6C': array(['Humewood-Cedarvale'], dtype=object),\n",
       " 'M9C': array(['Bloordale Gardens', 'Eringate', 'Markland Wood',\n",
       "        'Old Burnhamthorpe'], dtype=object),\n",
       " 'M1E': array(['Guildwood', 'Morningside', 'West Hill'], dtype=object),\n",
       " 'M4E': array(['The Beaches'], dtype=object),\n",
       " 'M5E': array(['Berczy Park'], dtype=object),\n",
       " 'M6E': array(['Caledonia-Fairbanks'], dtype=object),\n",
       " 'M1G': array(['Woburn'], dtype=object),\n",
       " 'M4G': array(['Leaside'], dtype=object),\n",
       " 'M5G': array(['Central Bay Street'], dtype=object),\n",
       " 'M6G': array(['Christie'], dtype=object),\n",
       " 'M1H': array(['Cedarbrae'], dtype=object),\n",
       " 'M2H': array(['Hillcrest Village'], dtype=object),\n",
       " 'M3H': array(['Bathurst Manor', 'Downsview North', 'Wilson Heights'],\n",
       "       dtype=object),\n",
       " 'M4H': array(['Thorncliffe Park'], dtype=object),\n",
       " 'M5H': array(['Adelaide', 'King', 'Richmond'], dtype=object),\n",
       " 'M6H': array(['Dovercourt Village', 'Dufferin'], dtype=object),\n",
       " 'M1J': array(['Scarborough Village'], dtype=object),\n",
       " 'M2J': array(['Fairview', 'Henry Farm', 'Oriole'], dtype=object),\n",
       " 'M3J': array(['Northwood Park', 'York University'], dtype=object),\n",
       " 'M4J': array(['East Toronto'], dtype=object),\n",
       " 'M5J': array(['Harbourfront East', 'Toronto Islands', 'Union Station'],\n",
       "       dtype=object),\n",
       " 'M6J': array(['Little Portugal', 'Trinity'], dtype=object),\n",
       " 'M1K': array(['East Birchmount Park', 'Ionview', 'Kennedy Park'], dtype=object),\n",
       " 'M2K': array(['Bayview Village'], dtype=object),\n",
       " 'M3K': array(['CFB Toronto', 'Downsview East'], dtype=object),\n",
       " 'M4K': array(['The Danforth West', 'Riverdale'], dtype=object),\n",
       " 'M5K': array(['Design Exchange', 'Toronto Dominion Centre'], dtype=object),\n",
       " 'M6K': array(['Brockton', 'Exhibition Place', 'Parkdale Village'], dtype=object),\n",
       " 'M1L': array(['Clairlea', 'Golden Mile', 'Oakridge'], dtype=object),\n",
       " 'M2L': array(['Silver Hills', 'York Mills'], dtype=object),\n",
       " 'M3L': array(['Downsview West'], dtype=object),\n",
       " 'M4L': array(['The Beaches West', 'India Bazaar'], dtype=object),\n",
       " 'M5L': array(['Commerce Court', 'Victoria Hotel'], dtype=object),\n",
       " 'M6L': array(['Downsview', 'North Park', 'Upwood Park'], dtype=object),\n",
       " 'M9L': array(['Humber Summit'], dtype=object),\n",
       " 'M1M': array(['Cliffcrest', 'Cliffside', 'Scarborough Village West'],\n",
       "       dtype=object),\n",
       " 'M2M': array(['Newtonbrook', 'Willowdale'], dtype=object),\n",
       " 'M3M': array(['Downsview Central'], dtype=object),\n",
       " 'M4M': array(['Studio District'], dtype=object),\n",
       " 'M5M': array(['Bedford Park', 'Lawrence Manor East'], dtype=object),\n",
       " 'M6M': array(['Del Ray', 'Keelesdale', 'Mount Dennis', 'Silverthorn'],\n",
       "       dtype=object),\n",
       " 'M9M': array(['Emery', 'Humberlea'], dtype=object),\n",
       " 'M1N': array(['Birch Cliff', 'Cliffside West'], dtype=object),\n",
       " 'M2N': array(['Willowdale South'], dtype=object),\n",
       " 'M3N': array(['Downsview Northwest'], dtype=object),\n",
       " 'M4N': array(['Lawrence Park'], dtype=object),\n",
       " 'M5N': array(['Roselawn'], dtype=object),\n",
       " 'M6N': array(['The Junction North', 'Runnymede'], dtype=object),\n",
       " 'M9N': array(['Weston'], dtype=object),\n",
       " 'M1P': array(['Dorset Park', 'Scarborough Town Centre', 'Wexford Heights'],\n",
       "       dtype=object),\n",
       " 'M2P': array(['York Mills West'], dtype=object),\n",
       " 'M4P': array(['Davisville North'], dtype=object),\n",
       " 'M5P': array(['Forest Hill North', 'Forest Hill West'], dtype=object),\n",
       " 'M6P': array(['High Park', 'The Junction South'], dtype=object),\n",
       " 'M9P': array(['Westmount'], dtype=object),\n",
       " 'M1R': array(['Maryvale', 'Wexford'], dtype=object),\n",
       " 'M2R': array(['Willowdale West'], dtype=object),\n",
       " 'M4R': array(['North Toronto West'], dtype=object),\n",
       " 'M5R': array(['The Annex', 'North Midtown', 'Yorkville'], dtype=object),\n",
       " 'M6R': array(['Parkdale', 'Roncesvalles'], dtype=object),\n",
       " 'M7R': array(['Canada Post Gateway Processing Centre'], dtype=object),\n",
       " 'M9R': array(['Kingsview Village', 'Martin Grove Gardens', 'Richview Gardens',\n",
       "        'St. Phillips'], dtype=object),\n",
       " 'M1S': array(['Agincourt'], dtype=object),\n",
       " 'M4S': array(['Davisville'], dtype=object),\n",
       " 'M5S': array(['Harbord', 'University of Toronto'], dtype=object),\n",
       " 'M6S': array(['Runnymede', 'Swansea'], dtype=object),\n",
       " 'M1T': array(['Clarks Corners', 'Sullivan', \"Tam O'Shanter\"], dtype=object),\n",
       " 'M4T': array(['Moore Park', 'Summerhill East'], dtype=object),\n",
       " 'M5T': array(['Chinatown', 'Grange Park', 'Kensington Market'], dtype=object),\n",
       " 'M1V': array(['Agincourt North', \"L'Amoreaux East\", 'Milliken', 'Steeles East'],\n",
       "       dtype=object),\n",
       " 'M4V': array(['Deer Park', 'Forest Hill SE', 'Rathnelly', 'South Hill',\n",
       "        'Summerhill West'], dtype=object),\n",
       " 'M5V': array(['CN Tower', 'Bathurst Quay', 'Island airport', 'Harbourfront West',\n",
       "        'King and Spadina', 'Railway Lands', 'South Niagara'], dtype=object),\n",
       " 'M8V': array(['Humber Bay Shores', 'Mimico South', 'New Toronto'], dtype=object),\n",
       " 'M9V': array(['Albion Gardens', 'Beaumond Heights', 'Humbergate', 'Jamestown',\n",
       "        'Mount Olive', 'Silverstone', 'South Steeles', 'Thistletown'],\n",
       "       dtype=object),\n",
       " 'M1W': array([\"L'Amoreaux West\"], dtype=object),\n",
       " 'M4W': array(['Rosedale'], dtype=object),\n",
       " 'M5W': array(['Stn A PO Boxes 25 The Esplanade'], dtype=object),\n",
       " 'M8W': array(['Alderwood', 'Long Branch'], dtype=object),\n",
       " 'M9W': array(['Northwest'], dtype=object),\n",
       " 'M1X': array(['Upper Rouge'], dtype=object),\n",
       " 'M4X': array(['Cabbagetown', 'St. James Town'], dtype=object),\n",
       " 'M5X': array(['First Canadian Place', 'Underground city'], dtype=object),\n",
       " 'M8X': array(['The Kingsway', 'Montgomery Road', 'Old Mill North'], dtype=object),\n",
       " 'M4Y': array(['Church and Wellesley'], dtype=object),\n",
       " 'M7Y': array(['Business Reply Mail Processing Centre 969 Eastern'], dtype=object),\n",
       " 'M8Y': array(['Humber Bay', \"King's Mill Park\", 'Kingsway Park South East',\n",
       "        'Mimico NE', 'Old Mill South', 'The Queensway East',\n",
       "        'Royal York South East', 'Sunnylea'], dtype=object),\n",
       " 'M8Z': array(['Kingsway Park South West', 'Mimico NW', 'The Queensway West',\n",
       "        'Royal York South West', 'South of Bloor'], dtype=object)}"
      ]
     },
     "execution_count": 8,
     "metadata": {},
     "output_type": "execute_result"
    }
   ],
   "source": [
    "neighborhoods_in_pc = {}\n",
    "for postcode in data['Postcode'].unique():\n",
    "    pc_data = data[data['Postcode'] == postcode]\n",
    "    neighborhoods_in_pc[postcode] = pc_data['Neighbourhood'].unique()\n",
    "neighborhoods_in_pc"
   ]
  },
  {
   "cell_type": "markdown",
   "metadata": {},
   "source": [
    "Create a new dataframe with postcodes having values of every neighborhood in that postcode"
   ]
  },
  {
   "cell_type": "code",
   "execution_count": 9,
   "metadata": {},
   "outputs": [
    {
     "data": {
      "text/html": [
       "<div>\n",
       "<style scoped>\n",
       "    .dataframe tbody tr th:only-of-type {\n",
       "        vertical-align: middle;\n",
       "    }\n",
       "\n",
       "    .dataframe tbody tr th {\n",
       "        vertical-align: top;\n",
       "    }\n",
       "\n",
       "    .dataframe thead th {\n",
       "        text-align: right;\n",
       "    }\n",
       "</style>\n",
       "<table border=\"1\" class=\"dataframe\">\n",
       "  <thead>\n",
       "    <tr style=\"text-align: right;\">\n",
       "      <th></th>\n",
       "      <th>Postcode</th>\n",
       "      <th>Borough</th>\n",
       "      <th>Neighbourhood</th>\n",
       "    </tr>\n",
       "  </thead>\n",
       "  <tbody>\n",
       "    <tr>\n",
       "      <th>0</th>\n",
       "      <td>M3A</td>\n",
       "      <td>NaN</td>\n",
       "      <td>[Parkwoods]</td>\n",
       "    </tr>\n",
       "    <tr>\n",
       "      <th>1</th>\n",
       "      <td>M4A</td>\n",
       "      <td>NaN</td>\n",
       "      <td>[Victoria Village]</td>\n",
       "    </tr>\n",
       "    <tr>\n",
       "      <th>2</th>\n",
       "      <td>M5A</td>\n",
       "      <td>NaN</td>\n",
       "      <td>[Harbourfront, Regent Park]</td>\n",
       "    </tr>\n",
       "    <tr>\n",
       "      <th>3</th>\n",
       "      <td>M6A</td>\n",
       "      <td>NaN</td>\n",
       "      <td>[Lawrence Heights, Lawrence Manor]</td>\n",
       "    </tr>\n",
       "    <tr>\n",
       "      <th>4</th>\n",
       "      <td>M7A</td>\n",
       "      <td>NaN</td>\n",
       "      <td>[Not assigned]</td>\n",
       "    </tr>\n",
       "  </tbody>\n",
       "</table>\n",
       "</div>"
      ],
      "text/plain": [
       "  Postcode Borough                       Neighbourhood\n",
       "0      M3A     NaN                         [Parkwoods]\n",
       "1      M4A     NaN                  [Victoria Village]\n",
       "2      M5A     NaN         [Harbourfront, Regent Park]\n",
       "3      M6A     NaN  [Lawrence Heights, Lawrence Manor]\n",
       "4      M7A     NaN                      [Not assigned]"
      ]
     },
     "execution_count": 9,
     "metadata": {},
     "output_type": "execute_result"
    }
   ],
   "source": [
    "fixed_data = pd.DataFrame(columns=['Postcode','Borough','Neighbourhood'])\n",
    "fixed_data['Postcode'] = neighborhoods_in_pc.keys()\n",
    "fixed_data['Neighbourhood'] = neighborhoods_in_pc.values()\n",
    "fixed_data.head()"
   ]
  },
  {
   "cell_type": "markdown",
   "metadata": {},
   "source": [
    "Now, we need to find the Burough for each Postcode"
   ]
  },
  {
   "cell_type": "code",
   "execution_count": 10,
   "metadata": {},
   "outputs": [],
   "source": [
    "buroughs = []\n",
    "for pc in fixed_data['Postcode']:\n",
    "    pc_data = data[data['Postcode'] == pc] #only postcard data in here\n",
    "    buroughs.append(pc_data['Borough'].unique())\n",
    "fixed_data['Borough'] = buroughs"
   ]
  },
  {
   "cell_type": "code",
   "execution_count": 11,
   "metadata": {},
   "outputs": [
    {
     "data": {
      "text/html": [
       "<div>\n",
       "<style scoped>\n",
       "    .dataframe tbody tr th:only-of-type {\n",
       "        vertical-align: middle;\n",
       "    }\n",
       "\n",
       "    .dataframe tbody tr th {\n",
       "        vertical-align: top;\n",
       "    }\n",
       "\n",
       "    .dataframe thead th {\n",
       "        text-align: right;\n",
       "    }\n",
       "</style>\n",
       "<table border=\"1\" class=\"dataframe\">\n",
       "  <thead>\n",
       "    <tr style=\"text-align: right;\">\n",
       "      <th></th>\n",
       "      <th>Postcode</th>\n",
       "      <th>Borough</th>\n",
       "      <th>Neighbourhood</th>\n",
       "    </tr>\n",
       "  </thead>\n",
       "  <tbody>\n",
       "    <tr>\n",
       "      <th>0</th>\n",
       "      <td>M3A</td>\n",
       "      <td>[North York]</td>\n",
       "      <td>[Parkwoods]</td>\n",
       "    </tr>\n",
       "    <tr>\n",
       "      <th>1</th>\n",
       "      <td>M4A</td>\n",
       "      <td>[North York]</td>\n",
       "      <td>[Victoria Village]</td>\n",
       "    </tr>\n",
       "    <tr>\n",
       "      <th>2</th>\n",
       "      <td>M5A</td>\n",
       "      <td>[Downtown Toronto]</td>\n",
       "      <td>[Harbourfront, Regent Park]</td>\n",
       "    </tr>\n",
       "    <tr>\n",
       "      <th>3</th>\n",
       "      <td>M6A</td>\n",
       "      <td>[North York]</td>\n",
       "      <td>[Lawrence Heights, Lawrence Manor]</td>\n",
       "    </tr>\n",
       "    <tr>\n",
       "      <th>4</th>\n",
       "      <td>M7A</td>\n",
       "      <td>[Queen's Park]</td>\n",
       "      <td>[Not assigned]</td>\n",
       "    </tr>\n",
       "  </tbody>\n",
       "</table>\n",
       "</div>"
      ],
      "text/plain": [
       "  Postcode             Borough                       Neighbourhood\n",
       "0      M3A        [North York]                         [Parkwoods]\n",
       "1      M4A        [North York]                  [Victoria Village]\n",
       "2      M5A  [Downtown Toronto]         [Harbourfront, Regent Park]\n",
       "3      M6A        [North York]  [Lawrence Heights, Lawrence Manor]\n",
       "4      M7A      [Queen's Park]                      [Not assigned]"
      ]
     },
     "execution_count": 11,
     "metadata": {},
     "output_type": "execute_result"
    }
   ],
   "source": [
    "fixed_data.head()"
   ]
  },
  {
   "cell_type": "markdown",
   "metadata": {},
   "source": [
    "Columns without assigned Neighbourhood, Neighbourhood should be set to Borough"
   ]
  },
  {
   "cell_type": "code",
   "execution_count": 12,
   "metadata": {},
   "outputs": [],
   "source": [
    "for index, row in fixed_data.iterrows():\n",
    "    if (row['Neighbourhood'][0] == 'Not assigned'):\n",
    "        row['Neighbourhood'][0] = row['Borough']"
   ]
  },
  {
   "cell_type": "code",
   "execution_count": 13,
   "metadata": {},
   "outputs": [
    {
     "data": {
      "text/html": [
       "<div>\n",
       "<style scoped>\n",
       "    .dataframe tbody tr th:only-of-type {\n",
       "        vertical-align: middle;\n",
       "    }\n",
       "\n",
       "    .dataframe tbody tr th {\n",
       "        vertical-align: top;\n",
       "    }\n",
       "\n",
       "    .dataframe thead th {\n",
       "        text-align: right;\n",
       "    }\n",
       "</style>\n",
       "<table border=\"1\" class=\"dataframe\">\n",
       "  <thead>\n",
       "    <tr style=\"text-align: right;\">\n",
       "      <th></th>\n",
       "      <th>Postcode</th>\n",
       "      <th>Borough</th>\n",
       "      <th>Neighbourhood</th>\n",
       "    </tr>\n",
       "  </thead>\n",
       "  <tbody>\n",
       "    <tr>\n",
       "      <th>0</th>\n",
       "      <td>M3A</td>\n",
       "      <td>[North York]</td>\n",
       "      <td>[Parkwoods]</td>\n",
       "    </tr>\n",
       "    <tr>\n",
       "      <th>1</th>\n",
       "      <td>M4A</td>\n",
       "      <td>[North York]</td>\n",
       "      <td>[Victoria Village]</td>\n",
       "    </tr>\n",
       "    <tr>\n",
       "      <th>2</th>\n",
       "      <td>M5A</td>\n",
       "      <td>[Downtown Toronto]</td>\n",
       "      <td>[Harbourfront, Regent Park]</td>\n",
       "    </tr>\n",
       "    <tr>\n",
       "      <th>3</th>\n",
       "      <td>M6A</td>\n",
       "      <td>[North York]</td>\n",
       "      <td>[Lawrence Heights, Lawrence Manor]</td>\n",
       "    </tr>\n",
       "    <tr>\n",
       "      <th>4</th>\n",
       "      <td>M7A</td>\n",
       "      <td>[Queen's Park]</td>\n",
       "      <td>[[Queen's Park]]</td>\n",
       "    </tr>\n",
       "    <tr>\n",
       "      <th>5</th>\n",
       "      <td>M9A</td>\n",
       "      <td>[Etobicoke]</td>\n",
       "      <td>[Islington Avenue]</td>\n",
       "    </tr>\n",
       "    <tr>\n",
       "      <th>6</th>\n",
       "      <td>M1B</td>\n",
       "      <td>[Scarborough]</td>\n",
       "      <td>[Rouge, Malvern]</td>\n",
       "    </tr>\n",
       "    <tr>\n",
       "      <th>7</th>\n",
       "      <td>M3B</td>\n",
       "      <td>[North York]</td>\n",
       "      <td>[Don Mills North]</td>\n",
       "    </tr>\n",
       "    <tr>\n",
       "      <th>8</th>\n",
       "      <td>M4B</td>\n",
       "      <td>[East York]</td>\n",
       "      <td>[Woodbine Gardens, Parkview Hill]</td>\n",
       "    </tr>\n",
       "    <tr>\n",
       "      <th>9</th>\n",
       "      <td>M5B</td>\n",
       "      <td>[Downtown Toronto]</td>\n",
       "      <td>[Ryerson, Garden District]</td>\n",
       "    </tr>\n",
       "    <tr>\n",
       "      <th>10</th>\n",
       "      <td>M6B</td>\n",
       "      <td>[North York]</td>\n",
       "      <td>[Glencairn]</td>\n",
       "    </tr>\n",
       "    <tr>\n",
       "      <th>11</th>\n",
       "      <td>M9B</td>\n",
       "      <td>[Etobicoke]</td>\n",
       "      <td>[Cloverdale, Islington, Martin Grove, Princess...</td>\n",
       "    </tr>\n",
       "    <tr>\n",
       "      <th>12</th>\n",
       "      <td>M1C</td>\n",
       "      <td>[Scarborough]</td>\n",
       "      <td>[Highland Creek, Rouge Hill, Port Union]</td>\n",
       "    </tr>\n",
       "    <tr>\n",
       "      <th>13</th>\n",
       "      <td>M3C</td>\n",
       "      <td>[North York]</td>\n",
       "      <td>[Flemingdon Park, Don Mills South]</td>\n",
       "    </tr>\n",
       "    <tr>\n",
       "      <th>14</th>\n",
       "      <td>M4C</td>\n",
       "      <td>[East York]</td>\n",
       "      <td>[Woodbine Heights]</td>\n",
       "    </tr>\n",
       "    <tr>\n",
       "      <th>15</th>\n",
       "      <td>M5C</td>\n",
       "      <td>[Downtown Toronto]</td>\n",
       "      <td>[St. James Town]</td>\n",
       "    </tr>\n",
       "    <tr>\n",
       "      <th>16</th>\n",
       "      <td>M6C</td>\n",
       "      <td>[York]</td>\n",
       "      <td>[Humewood-Cedarvale]</td>\n",
       "    </tr>\n",
       "    <tr>\n",
       "      <th>17</th>\n",
       "      <td>M9C</td>\n",
       "      <td>[Etobicoke]</td>\n",
       "      <td>[Bloordale Gardens, Eringate, Markland Wood, O...</td>\n",
       "    </tr>\n",
       "    <tr>\n",
       "      <th>18</th>\n",
       "      <td>M1E</td>\n",
       "      <td>[Scarborough]</td>\n",
       "      <td>[Guildwood, Morningside, West Hill]</td>\n",
       "    </tr>\n",
       "    <tr>\n",
       "      <th>19</th>\n",
       "      <td>M4E</td>\n",
       "      <td>[East Toronto]</td>\n",
       "      <td>[The Beaches]</td>\n",
       "    </tr>\n",
       "    <tr>\n",
       "      <th>20</th>\n",
       "      <td>M5E</td>\n",
       "      <td>[Downtown Toronto]</td>\n",
       "      <td>[Berczy Park]</td>\n",
       "    </tr>\n",
       "    <tr>\n",
       "      <th>21</th>\n",
       "      <td>M6E</td>\n",
       "      <td>[York]</td>\n",
       "      <td>[Caledonia-Fairbanks]</td>\n",
       "    </tr>\n",
       "    <tr>\n",
       "      <th>22</th>\n",
       "      <td>M1G</td>\n",
       "      <td>[Scarborough]</td>\n",
       "      <td>[Woburn]</td>\n",
       "    </tr>\n",
       "    <tr>\n",
       "      <th>23</th>\n",
       "      <td>M4G</td>\n",
       "      <td>[East York]</td>\n",
       "      <td>[Leaside]</td>\n",
       "    </tr>\n",
       "    <tr>\n",
       "      <th>24</th>\n",
       "      <td>M5G</td>\n",
       "      <td>[Downtown Toronto]</td>\n",
       "      <td>[Central Bay Street]</td>\n",
       "    </tr>\n",
       "  </tbody>\n",
       "</table>\n",
       "</div>"
      ],
      "text/plain": [
       "   Postcode             Borough  \\\n",
       "0       M3A        [North York]   \n",
       "1       M4A        [North York]   \n",
       "2       M5A  [Downtown Toronto]   \n",
       "3       M6A        [North York]   \n",
       "4       M7A      [Queen's Park]   \n",
       "5       M9A         [Etobicoke]   \n",
       "6       M1B       [Scarborough]   \n",
       "7       M3B        [North York]   \n",
       "8       M4B         [East York]   \n",
       "9       M5B  [Downtown Toronto]   \n",
       "10      M6B        [North York]   \n",
       "11      M9B         [Etobicoke]   \n",
       "12      M1C       [Scarborough]   \n",
       "13      M3C        [North York]   \n",
       "14      M4C         [East York]   \n",
       "15      M5C  [Downtown Toronto]   \n",
       "16      M6C              [York]   \n",
       "17      M9C         [Etobicoke]   \n",
       "18      M1E       [Scarborough]   \n",
       "19      M4E      [East Toronto]   \n",
       "20      M5E  [Downtown Toronto]   \n",
       "21      M6E              [York]   \n",
       "22      M1G       [Scarborough]   \n",
       "23      M4G         [East York]   \n",
       "24      M5G  [Downtown Toronto]   \n",
       "\n",
       "                                        Neighbourhood  \n",
       "0                                         [Parkwoods]  \n",
       "1                                  [Victoria Village]  \n",
       "2                         [Harbourfront, Regent Park]  \n",
       "3                  [Lawrence Heights, Lawrence Manor]  \n",
       "4                                    [[Queen's Park]]  \n",
       "5                                  [Islington Avenue]  \n",
       "6                                    [Rouge, Malvern]  \n",
       "7                                   [Don Mills North]  \n",
       "8                   [Woodbine Gardens, Parkview Hill]  \n",
       "9                          [Ryerson, Garden District]  \n",
       "10                                        [Glencairn]  \n",
       "11  [Cloverdale, Islington, Martin Grove, Princess...  \n",
       "12           [Highland Creek, Rouge Hill, Port Union]  \n",
       "13                 [Flemingdon Park, Don Mills South]  \n",
       "14                                 [Woodbine Heights]  \n",
       "15                                   [St. James Town]  \n",
       "16                               [Humewood-Cedarvale]  \n",
       "17  [Bloordale Gardens, Eringate, Markland Wood, O...  \n",
       "18                [Guildwood, Morningside, West Hill]  \n",
       "19                                      [The Beaches]  \n",
       "20                                      [Berczy Park]  \n",
       "21                              [Caledonia-Fairbanks]  \n",
       "22                                           [Woburn]  \n",
       "23                                          [Leaside]  \n",
       "24                               [Central Bay Street]  "
      ]
     },
     "execution_count": 13,
     "metadata": {},
     "output_type": "execute_result"
    }
   ],
   "source": [
    "fixed_data.head(25)"
   ]
  },
  {
   "cell_type": "markdown",
   "metadata": {},
   "source": [
    "Clean up the Borough column"
   ]
  },
  {
   "cell_type": "code",
   "execution_count": 14,
   "metadata": {},
   "outputs": [],
   "source": [
    "fixed_boroughs = []\n",
    "fixed_neighbourhoods = []\n",
    "for borough in fixed_data['Borough']:\n",
    "    b = ','.join(borough)\n",
    "    fixed_boroughs.append(b)\n",
    "fixed_data['Borough'] = fixed_boroughs"
   ]
  },
  {
   "cell_type": "markdown",
   "metadata": {},
   "source": [
    "Clean up the Neighbourhood column"
   ]
  },
  {
   "cell_type": "code",
   "execution_count": 15,
   "metadata": {},
   "outputs": [],
   "source": [
    "fixed_neighbourhoods = []\n",
    "for neighborhood in fixed_data['Neighbourhood']:\n",
    "    if len(neighborhood) == 1:\n",
    "        n = neighborhood[0]\n",
    "    else:\n",
    "        n = \",\".join(str(x) for x in neighborhood)\n",
    "    fixed_neighbourhoods.append(n)\n",
    "fixed_data['Neighbourhood'] = fixed_neighbourhoods"
   ]
  },
  {
   "cell_type": "code",
   "execution_count": 16,
   "metadata": {},
   "outputs": [
    {
     "data": {
      "text/html": [
       "<div>\n",
       "<style scoped>\n",
       "    .dataframe tbody tr th:only-of-type {\n",
       "        vertical-align: middle;\n",
       "    }\n",
       "\n",
       "    .dataframe tbody tr th {\n",
       "        vertical-align: top;\n",
       "    }\n",
       "\n",
       "    .dataframe thead th {\n",
       "        text-align: right;\n",
       "    }\n",
       "</style>\n",
       "<table border=\"1\" class=\"dataframe\">\n",
       "  <thead>\n",
       "    <tr style=\"text-align: right;\">\n",
       "      <th></th>\n",
       "      <th>Postcode</th>\n",
       "      <th>Borough</th>\n",
       "      <th>Neighbourhood</th>\n",
       "    </tr>\n",
       "  </thead>\n",
       "  <tbody>\n",
       "    <tr>\n",
       "      <th>0</th>\n",
       "      <td>M3A</td>\n",
       "      <td>North York</td>\n",
       "      <td>Parkwoods</td>\n",
       "    </tr>\n",
       "    <tr>\n",
       "      <th>1</th>\n",
       "      <td>M4A</td>\n",
       "      <td>North York</td>\n",
       "      <td>Victoria Village</td>\n",
       "    </tr>\n",
       "    <tr>\n",
       "      <th>2</th>\n",
       "      <td>M5A</td>\n",
       "      <td>Downtown Toronto</td>\n",
       "      <td>Harbourfront,Regent Park</td>\n",
       "    </tr>\n",
       "    <tr>\n",
       "      <th>3</th>\n",
       "      <td>M6A</td>\n",
       "      <td>North York</td>\n",
       "      <td>Lawrence Heights,Lawrence Manor</td>\n",
       "    </tr>\n",
       "    <tr>\n",
       "      <th>4</th>\n",
       "      <td>M7A</td>\n",
       "      <td>Queen's Park</td>\n",
       "      <td>[Queen's Park]</td>\n",
       "    </tr>\n",
       "    <tr>\n",
       "      <th>5</th>\n",
       "      <td>M9A</td>\n",
       "      <td>Etobicoke</td>\n",
       "      <td>Islington Avenue</td>\n",
       "    </tr>\n",
       "    <tr>\n",
       "      <th>6</th>\n",
       "      <td>M1B</td>\n",
       "      <td>Scarborough</td>\n",
       "      <td>Rouge,Malvern</td>\n",
       "    </tr>\n",
       "    <tr>\n",
       "      <th>7</th>\n",
       "      <td>M3B</td>\n",
       "      <td>North York</td>\n",
       "      <td>Don Mills North</td>\n",
       "    </tr>\n",
       "    <tr>\n",
       "      <th>8</th>\n",
       "      <td>M4B</td>\n",
       "      <td>East York</td>\n",
       "      <td>Woodbine Gardens,Parkview Hill</td>\n",
       "    </tr>\n",
       "    <tr>\n",
       "      <th>9</th>\n",
       "      <td>M5B</td>\n",
       "      <td>Downtown Toronto</td>\n",
       "      <td>Ryerson,Garden District</td>\n",
       "    </tr>\n",
       "  </tbody>\n",
       "</table>\n",
       "</div>"
      ],
      "text/plain": [
       "  Postcode           Borough                    Neighbourhood\n",
       "0      M3A        North York                        Parkwoods\n",
       "1      M4A        North York                 Victoria Village\n",
       "2      M5A  Downtown Toronto         Harbourfront,Regent Park\n",
       "3      M6A        North York  Lawrence Heights,Lawrence Manor\n",
       "4      M7A      Queen's Park                   [Queen's Park]\n",
       "5      M9A         Etobicoke                 Islington Avenue\n",
       "6      M1B       Scarborough                    Rouge,Malvern\n",
       "7      M3B        North York                  Don Mills North\n",
       "8      M4B         East York   Woodbine Gardens,Parkview Hill\n",
       "9      M5B  Downtown Toronto          Ryerson,Garden District"
      ]
     },
     "execution_count": 16,
     "metadata": {},
     "output_type": "execute_result"
    }
   ],
   "source": [
    "fixed_data.head(10)"
   ]
  },
  {
   "cell_type": "markdown",
   "metadata": {},
   "source": [
    "Assumptions: I am assuming that each postcode can contain multiple neighbourhoods and does not contain any overlapping neighbourhoods. I am also assuming each borough falls into 1 postcode (and each postcode has 1 Borough)."
   ]
  },
  {
   "cell_type": "code",
   "execution_count": 17,
   "metadata": {},
   "outputs": [
    {
     "data": {
      "text/plain": [
       "(103, 3)"
      ]
     },
     "execution_count": 17,
     "metadata": {},
     "output_type": "execute_result"
    }
   ],
   "source": [
    "fixed_data.shape"
   ]
  },
  {
   "cell_type": "markdown",
   "metadata": {},
   "source": [
    "103 rows and 3 columns."
   ]
  },
  {
   "cell_type": "markdown",
   "metadata": {},
   "source": [
    "Now, we need to get the longitude and latitude using GeoPy"
   ]
  },
  {
   "cell_type": "code",
   "execution_count": 18,
   "metadata": {},
   "outputs": [
    {
     "name": "stdout",
     "output_type": "stream",
     "text": [
      "The geograpical coordinate of  Parkwoods  are 26.5652643, -81.8817227102639.\n",
      "The geograpical coordinate of  Victoria Village  are 43.732658, -79.3111892.\n",
      "The geograpical coordinate of  Harbourfront,Regent Park  are 43.6400801, -79.3801495.\n",
      "The geograpical coordinate of  Lawrence Heights,Lawrence Manor  are 43.7227784, -79.4509332.\n",
      "The geograpical coordinate of  Islington Avenue  are 43.6393743, -79.5212175.\n",
      "The geograpical coordinate of  Rouge,Malvern  are 43.8091955, -79.2217008.\n",
      "The geograpical coordinate of  Don Mills North  are 43.737178, -79.3434514.\n",
      "The geograpical coordinate of  Ryerson,Garden District  are 45.5797934, -79.5084658621578.\n",
      "The geograpical coordinate of  Glencairn  are -34.1595402, 18.4284987.\n",
      "The geograpical coordinate of  Woodbine Heights  are 43.6999302, -79.3191316.\n",
      "The geograpical coordinate of  St. James Town  are 43.6694032, -79.3727041.\n",
      "The geograpical coordinate of  Humewood-Cedarvale  are 43.69079835, -79.4253981936993.\n",
      "The geograpical coordinate of  Guildwood,Morningside,West Hill  are 43.7534804, -79.1799949.\n",
      "The geograpical coordinate of  The Beaches  are 43.6710244, -79.296712.\n",
      "The geograpical coordinate of  Berczy Park  are 43.6479887, -79.3753927260178.\n",
      "The geograpical coordinate of  Caledonia-Fairbanks  are 44.42006025, -72.0197789750751.\n",
      "The geograpical coordinate of  Woburn  are 42.4792618, -71.1522766.\n",
      "The geograpical coordinate of  Leaside  are 43.7047983, -79.3680904.\n",
      "The geograpical coordinate of  Central Bay Street  are 43.6569623, -79.3842242.\n",
      "The geograpical coordinate of  Christie  are 38.0029777, -122.206634.\n",
      "The geograpical coordinate of  Cedarbrae  are 50.9563182, -114.1293235.\n",
      "The geograpical coordinate of  Hillcrest Village  are 43.7996637, -79.3650189.\n",
      "The geograpical coordinate of  Thorncliffe Park  are 43.704553, -79.3454074.\n",
      "The geograpical coordinate of  Dovercourt Village,Dufferin  are 43.6602019, -79.4357191.\n",
      "The geograpical coordinate of  Scarborough Village  are 43.7437422, -79.2116324.\n",
      "The geograpical coordinate of  Fairview,Henry Farm,Oriole  are 43.7668565, -79.364258.\n",
      "The geograpical coordinate of  Northwood Park,York University  are 43.7705877, -79.5008332.\n",
      "The geograpical coordinate of  East Toronto  are 43.653963, -79.387207.\n",
      "The geograpical coordinate of  Little Portugal,Trinity  are 37.33048555, -121.826586626965.\n",
      "The geograpical coordinate of  Bayview Village  are 43.7691966, -79.3766617.\n",
      "The geograpical coordinate of  The Danforth West,Riverdale  are 43.6654704, -79.3525936.\n",
      "The geograpical coordinate of  Design Exchange,Toronto Dominion Centre  are 43.6477412, -79.3801145.\n",
      "The geograpical coordinate of  Silver Hills,York Mills  are 43.75157415, -79.373667512181.\n",
      "The geograpical coordinate of  Downsview West  are 43.7492988, -79.462248.\n",
      "The geograpical coordinate of  Commerce Court,Victoria Hotel  are -37.5875676, 144.7184348.\n",
      "The geograpical coordinate of  Humber Summit  are 43.7600778, -79.5717598.\n",
      "The geograpical coordinate of  Newtonbrook,Willowdale  are 43.7938863, -79.4256790230105.\n",
      "The geograpical coordinate of  Downsview Central  are 43.7492988, -79.462248.\n",
      "The geograpical coordinate of  Studio District  are 32.3311235, 34.8515434.\n",
      "The geograpical coordinate of  Emery,Humberlea  are 43.719268, -79.5371417111924.\n",
      "The geograpical coordinate of  Willowdale South  are 43.7753558, -79.4166859823926.\n",
      "The geograpical coordinate of  Downsview Northwest  are 43.7492988, -79.462248.\n",
      "The geograpical coordinate of  Lawrence Park  are 43.729199, -79.4032525.\n",
      "The geograpical coordinate of  Roselawn  are 41.151458, -87.2856748480322.\n",
      "The geograpical coordinate of  The Junction North,Runnymede  are 43.6655802, -79.4821078.\n",
      "The geograpical coordinate of  Weston  are 51.3471927, -2.9778916.\n",
      "The geograpical coordinate of  York Mills West  are 43.7440391, -79.406657.\n",
      "The geograpical coordinate of  Davisville North  are 43.7043123, -79.3885169.\n",
      "The geograpical coordinate of  High Park,The Junction South  are 43.6538668, -79.4668644.\n",
      "The geograpical coordinate of  Westmount  are 45.4857329, -73.5963951.\n",
      "The geograpical coordinate of  Willowdale West  are 43.7753558, -79.4166859823926.\n",
      "The geograpical coordinate of  North Toronto West  are 43.6465466, -79.4195263.\n",
      "The geograpical coordinate of  Parkdale,Roncesvalles  are 43.6514426, -79.4510381.\n",
      "The geograpical coordinate of  Agincourt  are 48.7323472, 6.236384.\n",
      "The geograpical coordinate of  Davisville  are 43.7043123, -79.3885169.\n",
      "The geograpical coordinate of  Harbord,University of Toronto  are 43.6622911, -79.3999585.\n",
      "The geograpical coordinate of  Runnymede,Swansea  are 43.6517776, -79.4759227.\n",
      "The geograpical coordinate of  Moore Park,Summerhill East  are 43.6816776, -79.3905037.\n",
      "The geograpical coordinate of  L'Amoreaux West  are 43.799003, -79.3059669.\n",
      "The geograpical coordinate of  Rosedale  are 43.6783556, -79.3807457.\n",
      "The geograpical coordinate of  Alderwood,Long Branch  are 43.6017173, -79.5452325.\n",
      "The geograpical coordinate of  Northwest  are 64.5731537, 11.5280364395482.\n",
      "The geograpical coordinate of  Upper Rouge  are 45.9002415, 6.1270852.\n",
      "The geograpical coordinate of  Church and Wellesley  are 43.6655242, -79.3838011.\n"
     ]
    }
   ],
   "source": [
    "neighborhoods = fixed_data['Neighbourhood']\n",
    "latitudes = []\n",
    "longitudes = []\n",
    "for city in neighborhoods:\n",
    "    try:\n",
    "        user_agent_name = city.replace(' ','_') + '_explorer'\n",
    "        geolocator = Nominatim(user_agent=user_agent_name)\n",
    "        location = geolocator.geocode(city)\n",
    "        latitude = location.latitude\n",
    "        longitude = location.longitude\n",
    "        latitudes.append(latitude)\n",
    "        longitudes.append(longitude)\n",
    "        print('The geograpical coordinate of ', city, ' are {}, {}.'.format(latitude, longitude))\n",
    "    except:\n",
    "        try:\n",
    "            user_agent_name = city.replace(' ','_') + '_explorer'\n",
    "            geolocator = Nominatim(user_agent=user_agent_name)\n",
    "            location = geolocator.geocode(city)\n",
    "            latitude = location.latitude\n",
    "            longitude = location.longitude\n",
    "            latitudes.append(latitude)\n",
    "            longitudes.append(longitude)\n",
    "            print('The geograpical coordinate of ', city, ' are {}, {}.'.format(latitude, longitude))\n",
    "        except:\n",
    "            latitudes.append(np.NaN)\n",
    "            longitudes.append(np.NaN)"
   ]
  },
  {
   "cell_type": "code",
   "execution_count": 19,
   "metadata": {},
   "outputs": [],
   "source": [
    "fixed_data['Latitude'] = latitudes\n",
    "fixed_data['Longitude'] = longitudes\n",
    "fixed_data.dropna(inplace=True,how='any')"
   ]
  },
  {
   "cell_type": "code",
   "execution_count": 20,
   "metadata": {},
   "outputs": [
    {
     "data": {
      "text/html": [
       "<div>\n",
       "<style scoped>\n",
       "    .dataframe tbody tr th:only-of-type {\n",
       "        vertical-align: middle;\n",
       "    }\n",
       "\n",
       "    .dataframe tbody tr th {\n",
       "        vertical-align: top;\n",
       "    }\n",
       "\n",
       "    .dataframe thead th {\n",
       "        text-align: right;\n",
       "    }\n",
       "</style>\n",
       "<table border=\"1\" class=\"dataframe\">\n",
       "  <thead>\n",
       "    <tr style=\"text-align: right;\">\n",
       "      <th></th>\n",
       "      <th>Postcode</th>\n",
       "      <th>Borough</th>\n",
       "      <th>Neighbourhood</th>\n",
       "      <th>Latitude</th>\n",
       "      <th>Longitude</th>\n",
       "    </tr>\n",
       "  </thead>\n",
       "  <tbody>\n",
       "    <tr>\n",
       "      <th>0</th>\n",
       "      <td>M3A</td>\n",
       "      <td>North York</td>\n",
       "      <td>Parkwoods</td>\n",
       "      <td>26.565264</td>\n",
       "      <td>-81.881723</td>\n",
       "    </tr>\n",
       "    <tr>\n",
       "      <th>1</th>\n",
       "      <td>M4A</td>\n",
       "      <td>North York</td>\n",
       "      <td>Victoria Village</td>\n",
       "      <td>43.732658</td>\n",
       "      <td>-79.311189</td>\n",
       "    </tr>\n",
       "    <tr>\n",
       "      <th>2</th>\n",
       "      <td>M5A</td>\n",
       "      <td>Downtown Toronto</td>\n",
       "      <td>Harbourfront,Regent Park</td>\n",
       "      <td>43.640080</td>\n",
       "      <td>-79.380150</td>\n",
       "    </tr>\n",
       "    <tr>\n",
       "      <th>3</th>\n",
       "      <td>M6A</td>\n",
       "      <td>North York</td>\n",
       "      <td>Lawrence Heights,Lawrence Manor</td>\n",
       "      <td>43.722778</td>\n",
       "      <td>-79.450933</td>\n",
       "    </tr>\n",
       "    <tr>\n",
       "      <th>5</th>\n",
       "      <td>M9A</td>\n",
       "      <td>Etobicoke</td>\n",
       "      <td>Islington Avenue</td>\n",
       "      <td>43.639374</td>\n",
       "      <td>-79.521218</td>\n",
       "    </tr>\n",
       "    <tr>\n",
       "      <th>6</th>\n",
       "      <td>M1B</td>\n",
       "      <td>Scarborough</td>\n",
       "      <td>Rouge,Malvern</td>\n",
       "      <td>43.809196</td>\n",
       "      <td>-79.221701</td>\n",
       "    </tr>\n",
       "    <tr>\n",
       "      <th>7</th>\n",
       "      <td>M3B</td>\n",
       "      <td>North York</td>\n",
       "      <td>Don Mills North</td>\n",
       "      <td>43.737178</td>\n",
       "      <td>-79.343451</td>\n",
       "    </tr>\n",
       "    <tr>\n",
       "      <th>9</th>\n",
       "      <td>M5B</td>\n",
       "      <td>Downtown Toronto</td>\n",
       "      <td>Ryerson,Garden District</td>\n",
       "      <td>45.579793</td>\n",
       "      <td>-79.508466</td>\n",
       "    </tr>\n",
       "    <tr>\n",
       "      <th>10</th>\n",
       "      <td>M6B</td>\n",
       "      <td>North York</td>\n",
       "      <td>Glencairn</td>\n",
       "      <td>-34.159540</td>\n",
       "      <td>18.428499</td>\n",
       "    </tr>\n",
       "    <tr>\n",
       "      <th>14</th>\n",
       "      <td>M4C</td>\n",
       "      <td>East York</td>\n",
       "      <td>Woodbine Heights</td>\n",
       "      <td>43.699930</td>\n",
       "      <td>-79.319132</td>\n",
       "    </tr>\n",
       "  </tbody>\n",
       "</table>\n",
       "</div>"
      ],
      "text/plain": [
       "   Postcode           Borough                    Neighbourhood   Latitude  \\\n",
       "0       M3A        North York                        Parkwoods  26.565264   \n",
       "1       M4A        North York                 Victoria Village  43.732658   \n",
       "2       M5A  Downtown Toronto         Harbourfront,Regent Park  43.640080   \n",
       "3       M6A        North York  Lawrence Heights,Lawrence Manor  43.722778   \n",
       "5       M9A         Etobicoke                 Islington Avenue  43.639374   \n",
       "6       M1B       Scarborough                    Rouge,Malvern  43.809196   \n",
       "7       M3B        North York                  Don Mills North  43.737178   \n",
       "9       M5B  Downtown Toronto          Ryerson,Garden District  45.579793   \n",
       "10      M6B        North York                        Glencairn -34.159540   \n",
       "14      M4C         East York                 Woodbine Heights  43.699930   \n",
       "\n",
       "    Longitude  \n",
       "0  -81.881723  \n",
       "1  -79.311189  \n",
       "2  -79.380150  \n",
       "3  -79.450933  \n",
       "5  -79.521218  \n",
       "6  -79.221701  \n",
       "7  -79.343451  \n",
       "9  -79.508466  \n",
       "10  18.428499  \n",
       "14 -79.319132  "
      ]
     },
     "execution_count": 20,
     "metadata": {},
     "output_type": "execute_result"
    }
   ],
   "source": [
    "fixed_data.head(10)"
   ]
  },
  {
   "cell_type": "markdown",
   "metadata": {},
   "source": [
    "Now, we need to do some visualizations"
   ]
  },
  {
   "cell_type": "code",
   "execution_count": 40,
   "metadata": {},
   "outputs": [],
   "source": [
    "geo_map = folium.Map(\n",
    "    location=[43.5,-80],\n",
    "    zoom_start=8,\n",
    "    tiles='Stamen Terrain'\n",
    ")"
   ]
  },
  {
   "cell_type": "code",
   "execution_count": 41,
   "metadata": {},
   "outputs": [
    {
     "data": {
      "text/html": [
       "<div style=\"width:100%;\"><div style=\"position:relative;width:100%;height:0;padding-bottom:60%;\"><iframe src=\"data:text/html;charset=utf-8;base64,PCFET0NUWVBFIGh0bWw+CjxoZWFkPiAgICAKICAgIDxtZXRhIGh0dHAtZXF1aXY9ImNvbnRlbnQtdHlwZSIgY29udGVudD0idGV4dC9odG1sOyBjaGFyc2V0PVVURi04IiAvPgogICAgCiAgICAgICAgPHNjcmlwdD4KICAgICAgICAgICAgTF9OT19UT1VDSCA9IGZhbHNlOwogICAgICAgICAgICBMX0RJU0FCTEVfM0QgPSBmYWxzZTsKICAgICAgICA8L3NjcmlwdD4KICAgIAogICAgPHNjcmlwdCBzcmM9Imh0dHBzOi8vY2RuLmpzZGVsaXZyLm5ldC9ucG0vbGVhZmxldEAxLjQuMC9kaXN0L2xlYWZsZXQuanMiPjwvc2NyaXB0PgogICAgPHNjcmlwdCBzcmM9Imh0dHBzOi8vY29kZS5qcXVlcnkuY29tL2pxdWVyeS0xLjEyLjQubWluLmpzIj48L3NjcmlwdD4KICAgIDxzY3JpcHQgc3JjPSJodHRwczovL21heGNkbi5ib290c3RyYXBjZG4uY29tL2Jvb3RzdHJhcC8zLjIuMC9qcy9ib290c3RyYXAubWluLmpzIj48L3NjcmlwdD4KICAgIDxzY3JpcHQgc3JjPSJodHRwczovL2NkbmpzLmNsb3VkZmxhcmUuY29tL2FqYXgvbGlicy9MZWFmbGV0LmF3ZXNvbWUtbWFya2Vycy8yLjAuMi9sZWFmbGV0LmF3ZXNvbWUtbWFya2Vycy5qcyI+PC9zY3JpcHQ+CiAgICA8bGluayByZWw9InN0eWxlc2hlZXQiIGhyZWY9Imh0dHBzOi8vY2RuLmpzZGVsaXZyLm5ldC9ucG0vbGVhZmxldEAxLjQuMC9kaXN0L2xlYWZsZXQuY3NzIi8+CiAgICA8bGluayByZWw9InN0eWxlc2hlZXQiIGhyZWY9Imh0dHBzOi8vbWF4Y2RuLmJvb3RzdHJhcGNkbi5jb20vYm9vdHN0cmFwLzMuMi4wL2Nzcy9ib290c3RyYXAubWluLmNzcyIvPgogICAgPGxpbmsgcmVsPSJzdHlsZXNoZWV0IiBocmVmPSJodHRwczovL21heGNkbi5ib290c3RyYXBjZG4uY29tL2Jvb3RzdHJhcC8zLjIuMC9jc3MvYm9vdHN0cmFwLXRoZW1lLm1pbi5jc3MiLz4KICAgIDxsaW5rIHJlbD0ic3R5bGVzaGVldCIgaHJlZj0iaHR0cHM6Ly9tYXhjZG4uYm9vdHN0cmFwY2RuLmNvbS9mb250LWF3ZXNvbWUvNC42LjMvY3NzL2ZvbnQtYXdlc29tZS5taW4uY3NzIi8+CiAgICA8bGluayByZWw9InN0eWxlc2hlZXQiIGhyZWY9Imh0dHBzOi8vY2RuanMuY2xvdWRmbGFyZS5jb20vYWpheC9saWJzL0xlYWZsZXQuYXdlc29tZS1tYXJrZXJzLzIuMC4yL2xlYWZsZXQuYXdlc29tZS1tYXJrZXJzLmNzcyIvPgogICAgPGxpbmsgcmVsPSJzdHlsZXNoZWV0IiBocmVmPSJodHRwczovL3Jhd2Nkbi5naXRoYWNrLmNvbS9weXRob24tdmlzdWFsaXphdGlvbi9mb2xpdW0vbWFzdGVyL2ZvbGl1bS90ZW1wbGF0ZXMvbGVhZmxldC5hd2Vzb21lLnJvdGF0ZS5jc3MiLz4KICAgIDxzdHlsZT5odG1sLCBib2R5IHt3aWR0aDogMTAwJTtoZWlnaHQ6IDEwMCU7bWFyZ2luOiAwO3BhZGRpbmc6IDA7fTwvc3R5bGU+CiAgICA8c3R5bGU+I21hcCB7cG9zaXRpb246YWJzb2x1dGU7dG9wOjA7Ym90dG9tOjA7cmlnaHQ6MDtsZWZ0OjA7fTwvc3R5bGU+CiAgICAKICAgICAgICAgICAgPG1ldGEgbmFtZT0idmlld3BvcnQiIGNvbnRlbnQ9IndpZHRoPWRldmljZS13aWR0aCwKICAgICAgICAgICAgICAgIGluaXRpYWwtc2NhbGU9MS4wLCBtYXhpbXVtLXNjYWxlPTEuMCwgdXNlci1zY2FsYWJsZT1ubyIgLz4KICAgICAgICAgICAgPHN0eWxlPgogICAgICAgICAgICAgICAgI21hcF84OTJjOTY1ZDVmMGQ0OGVkOWU3NjJhYTJjYzFiNGYxZCB7CiAgICAgICAgICAgICAgICAgICAgcG9zaXRpb246IHJlbGF0aXZlOwogICAgICAgICAgICAgICAgICAgIHdpZHRoOiAxMDAuMCU7CiAgICAgICAgICAgICAgICAgICAgaGVpZ2h0OiAxMDAuMCU7CiAgICAgICAgICAgICAgICAgICAgbGVmdDogMC4wJTsKICAgICAgICAgICAgICAgICAgICB0b3A6IDAuMCU7CiAgICAgICAgICAgICAgICB9CiAgICAgICAgICAgIDwvc3R5bGU+CiAgICAgICAgCjwvaGVhZD4KPGJvZHk+ICAgIAogICAgCiAgICAgICAgICAgIDxkaXYgY2xhc3M9ImZvbGl1bS1tYXAiIGlkPSJtYXBfODkyYzk2NWQ1ZjBkNDhlZDllNzYyYWEyY2MxYjRmMWQiID48L2Rpdj4KICAgICAgICAKPC9ib2R5Pgo8c2NyaXB0PiAgICAKICAgIAogICAgICAgICAgICB2YXIgbWFwXzg5MmM5NjVkNWYwZDQ4ZWQ5ZTc2MmFhMmNjMWI0ZjFkID0gTC5tYXAoCiAgICAgICAgICAgICAgICAibWFwXzg5MmM5NjVkNWYwZDQ4ZWQ5ZTc2MmFhMmNjMWI0ZjFkIiwKICAgICAgICAgICAgICAgIHsKICAgICAgICAgICAgICAgICAgICBjZW50ZXI6IFs0My41LCAtODAuMF0sCiAgICAgICAgICAgICAgICAgICAgY3JzOiBMLkNSUy5FUFNHMzg1NywKICAgICAgICAgICAgICAgICAgICB6b29tOiA4LAogICAgICAgICAgICAgICAgICAgIHpvb21Db250cm9sOiB0cnVlLAogICAgICAgICAgICAgICAgICAgIHByZWZlckNhbnZhczogZmFsc2UsCiAgICAgICAgICAgICAgICB9CiAgICAgICAgICAgICk7CgogICAgICAgICAgICAKCiAgICAgICAgCiAgICAKICAgICAgICAgICAgdmFyIHRpbGVfbGF5ZXJfN2ZjMmRiZmViZjVlNGQxOWI2MjAzNGQxMTc2YTk3NmIgPSBMLnRpbGVMYXllcigKICAgICAgICAgICAgICAgICJodHRwczovL3N0YW1lbi10aWxlcy17c30uYS5zc2wuZmFzdGx5Lm5ldC90ZXJyYWluL3t6fS97eH0ve3l9LmpwZyIsCiAgICAgICAgICAgICAgICB7ImF0dHJpYnV0aW9uIjogIk1hcCB0aWxlcyBieSBcdTAwM2NhIGhyZWY9XCJodHRwOi8vc3RhbWVuLmNvbVwiXHUwMDNlU3RhbWVuIERlc2lnblx1MDAzYy9hXHUwMDNlLCB1bmRlciBcdTAwM2NhIGhyZWY9XCJodHRwOi8vY3JlYXRpdmVjb21tb25zLm9yZy9saWNlbnNlcy9ieS8zLjBcIlx1MDAzZUNDIEJZIDMuMFx1MDAzYy9hXHUwMDNlLiBEYXRhIGJ5IFx1MDAyNmNvcHk7IFx1MDAzY2EgaHJlZj1cImh0dHA6Ly9vcGVuc3RyZWV0bWFwLm9yZ1wiXHUwMDNlT3BlblN0cmVldE1hcFx1MDAzYy9hXHUwMDNlLCB1bmRlciBcdTAwM2NhIGhyZWY9XCJodHRwOi8vY3JlYXRpdmVjb21tb25zLm9yZy9saWNlbnNlcy9ieS1zYS8zLjBcIlx1MDAzZUNDIEJZIFNBXHUwMDNjL2FcdTAwM2UuIiwgImRldGVjdFJldGluYSI6IGZhbHNlLCAibWF4TmF0aXZlWm9vbSI6IDE4LCAibWF4Wm9vbSI6IDE4LCAibWluWm9vbSI6IDAsICJub1dyYXAiOiBmYWxzZSwgIm9wYWNpdHkiOiAxLCAic3ViZG9tYWlucyI6ICJhYmMiLCAidG1zIjogZmFsc2V9CiAgICAgICAgICAgICkuYWRkVG8obWFwXzg5MmM5NjVkNWYwZDQ4ZWQ5ZTc2MmFhMmNjMWI0ZjFkKTsKICAgICAgICAKPC9zY3JpcHQ+\" style=\"position:absolute;width:100%;height:100%;left:0;top:0;border:none !important;\" allowfullscreen webkitallowfullscreen mozallowfullscreen></iframe></div></div>"
      ],
      "text/plain": [
       "<folium.folium.Map at 0x112c6a710>"
      ]
     },
     "execution_count": 41,
     "metadata": {},
     "output_type": "execute_result"
    }
   ],
   "source": [
    "geo_map"
   ]
  },
  {
   "cell_type": "markdown",
   "metadata": {},
   "source": [
    "Let's add markers to our map"
   ]
  },
  {
   "cell_type": "markdown",
   "metadata": {},
   "source": [
    "Make a new df containing only unique rows"
   ]
  },
  {
   "cell_type": "code",
   "execution_count": 42,
   "metadata": {},
   "outputs": [],
   "source": [
    "marker_df = fixed_data.drop_duplicates(subset='Neighbourhood',keep='first',inplace=False)"
   ]
  },
  {
   "cell_type": "code",
   "execution_count": 43,
   "metadata": {},
   "outputs": [],
   "source": [
    "for index, row in marker_df.iterrows():\n",
    "    city = folium.map.FeatureGroup()\n",
    "    city.add_child(\n",
    "        folium.CircleMarker(\n",
    "        [row['Latitude'],row['Longitude']], radius=5,\n",
    "        color='red',\n",
    "        fill_color='Red'\n",
    "        )\n",
    "    )\n",
    "    geo_map.add_child(city)\n",
    "    folium.Marker([row['Latitude'],row['Longitude']],popup=row['Neighbourhood']).add_to(geo_map)"
   ]
  },
  {
   "cell_type": "code",
   "execution_count": 44,
   "metadata": {},
   "outputs": [
    {
     "data": {
      "text/html": [
       "<div style=\"width:100%;\"><div style=\"position:relative;width:100%;height:0;padding-bottom:60%;\"><iframe src=\"data:text/html;charset=utf-8;base64,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\" style=\"position:absolute;width:100%;height:100%;left:0;top:0;border:none !important;\" allowfullscreen webkitallowfullscreen mozallowfullscreen></iframe></div></div>"
      ],
      "text/plain": [
       "<folium.folium.Map at 0x112c6a710>"
      ]
     },
     "execution_count": 44,
     "metadata": {},
     "output_type": "execute_result"
    }
   ],
   "source": [
    "geo_map"
   ]
  },
  {
   "cell_type": "markdown",
   "metadata": {},
   "source": []
  }
 ],
 "metadata": {
  "kernelspec": {
   "display_name": "Python 3",
   "language": "python",
   "name": "python3"
  },
  "language_info": {
   "codemirror_mode": {
    "name": "ipython",
    "version": 3
   },
   "file_extension": ".py",
   "mimetype": "text/x-python",
   "name": "python",
   "nbconvert_exporter": "python",
   "pygments_lexer": "ipython3",
   "version": "3.6.8"
  }
 },
 "nbformat": 4,
 "nbformat_minor": 2
}
