{
 "cells": [
  {
   "cell_type": "markdown",
   "metadata": {},
   "source": [
    "<font size=4><b>Coursera Capstone Project Notebook</b></font>"
   ]
  },
  {
   "cell_type": "markdown",
   "metadata": {},
   "source": [
    "This notebook will be used for the completion of the Coursera Capstone Project in Python."
   ]
  },
  {
   "cell_type": "code",
   "execution_count": 1,
   "metadata": {},
   "outputs": [],
   "source": [
    "import numpy as np\n",
    "import pandas as pd"
   ]
  },
  {
   "cell_type": "markdown",
   "metadata": {},
   "source": [
    "Need the following installs in order to complete this project"
   ]
  },
  {
   "cell_type": "code",
   "execution_count": 2,
   "metadata": {},
   "outputs": [],
   "source": [
    "from geopy.geocoders import Nominatim #for letting location data\n",
    "from sklearn.cluster import KMeans #for performing kmeans clustering\n",
    "import folium #for visualizing on a world map"
   ]
  },
  {
   "cell_type": "code",
   "execution_count": 3,
   "metadata": {
    "scrolled": true
   },
   "outputs": [
    {
     "name": "stdout",
     "output_type": "stream",
     "text": [
      "Hello Capstone Project Course!\n"
     ]
    }
   ],
   "source": [
    "print('Hello Capstone Project Course!')"
   ]
  },
  {
   "cell_type": "markdown",
   "metadata": {},
   "source": [
    "Load and view our dataset"
   ]
  },
  {
   "cell_type": "code",
   "execution_count": 4,
   "metadata": {},
   "outputs": [],
   "source": [
    "data = pd.read_html('https://en.wikipedia.org/wiki/List_of_postal_codes_of_Canada:_M')[0]"
   ]
  },
  {
   "cell_type": "code",
   "execution_count": 5,
   "metadata": {},
   "outputs": [
    {
     "data": {
      "text/html": [
       "<div>\n",
       "<style scoped>\n",
       "    .dataframe tbody tr th:only-of-type {\n",
       "        vertical-align: middle;\n",
       "    }\n",
       "\n",
       "    .dataframe tbody tr th {\n",
       "        vertical-align: top;\n",
       "    }\n",
       "\n",
       "    .dataframe thead th {\n",
       "        text-align: right;\n",
       "    }\n",
       "</style>\n",
       "<table border=\"1\" class=\"dataframe\">\n",
       "  <thead>\n",
       "    <tr style=\"text-align: right;\">\n",
       "      <th></th>\n",
       "      <th>Postcode</th>\n",
       "      <th>Borough</th>\n",
       "      <th>Neighbourhood</th>\n",
       "    </tr>\n",
       "  </thead>\n",
       "  <tbody>\n",
       "    <tr>\n",
       "      <th>0</th>\n",
       "      <td>M1A</td>\n",
       "      <td>Not assigned</td>\n",
       "      <td>Not assigned</td>\n",
       "    </tr>\n",
       "    <tr>\n",
       "      <th>1</th>\n",
       "      <td>M2A</td>\n",
       "      <td>Not assigned</td>\n",
       "      <td>Not assigned</td>\n",
       "    </tr>\n",
       "    <tr>\n",
       "      <th>2</th>\n",
       "      <td>M3A</td>\n",
       "      <td>North York</td>\n",
       "      <td>Parkwoods</td>\n",
       "    </tr>\n",
       "    <tr>\n",
       "      <th>3</th>\n",
       "      <td>M4A</td>\n",
       "      <td>North York</td>\n",
       "      <td>Victoria Village</td>\n",
       "    </tr>\n",
       "    <tr>\n",
       "      <th>4</th>\n",
       "      <td>M5A</td>\n",
       "      <td>Downtown Toronto</td>\n",
       "      <td>Harbourfront</td>\n",
       "    </tr>\n",
       "  </tbody>\n",
       "</table>\n",
       "</div>"
      ],
      "text/plain": [
       "  Postcode           Borough     Neighbourhood\n",
       "0      M1A      Not assigned      Not assigned\n",
       "1      M2A      Not assigned      Not assigned\n",
       "2      M3A        North York         Parkwoods\n",
       "3      M4A        North York  Victoria Village\n",
       "4      M5A  Downtown Toronto      Harbourfront"
      ]
     },
     "execution_count": 5,
     "metadata": {},
     "output_type": "execute_result"
    }
   ],
   "source": [
    "data.head()"
   ]
  },
  {
   "cell_type": "markdown",
   "metadata": {},
   "source": [
    "We need to remove all of the not assigned buroughs from our dataset."
   ]
  },
  {
   "cell_type": "code",
   "execution_count": 6,
   "metadata": {},
   "outputs": [],
   "source": [
    "data = data[data['Borough'] != 'Not assigned']"
   ]
  },
  {
   "cell_type": "code",
   "execution_count": 7,
   "metadata": {},
   "outputs": [
    {
     "data": {
      "text/html": [
       "<div>\n",
       "<style scoped>\n",
       "    .dataframe tbody tr th:only-of-type {\n",
       "        vertical-align: middle;\n",
       "    }\n",
       "\n",
       "    .dataframe tbody tr th {\n",
       "        vertical-align: top;\n",
       "    }\n",
       "\n",
       "    .dataframe thead th {\n",
       "        text-align: right;\n",
       "    }\n",
       "</style>\n",
       "<table border=\"1\" class=\"dataframe\">\n",
       "  <thead>\n",
       "    <tr style=\"text-align: right;\">\n",
       "      <th></th>\n",
       "      <th>Postcode</th>\n",
       "      <th>Borough</th>\n",
       "      <th>Neighbourhood</th>\n",
       "    </tr>\n",
       "  </thead>\n",
       "  <tbody>\n",
       "    <tr>\n",
       "      <th>2</th>\n",
       "      <td>M3A</td>\n",
       "      <td>North York</td>\n",
       "      <td>Parkwoods</td>\n",
       "    </tr>\n",
       "    <tr>\n",
       "      <th>3</th>\n",
       "      <td>M4A</td>\n",
       "      <td>North York</td>\n",
       "      <td>Victoria Village</td>\n",
       "    </tr>\n",
       "    <tr>\n",
       "      <th>4</th>\n",
       "      <td>M5A</td>\n",
       "      <td>Downtown Toronto</td>\n",
       "      <td>Harbourfront</td>\n",
       "    </tr>\n",
       "    <tr>\n",
       "      <th>5</th>\n",
       "      <td>M5A</td>\n",
       "      <td>Downtown Toronto</td>\n",
       "      <td>Regent Park</td>\n",
       "    </tr>\n",
       "    <tr>\n",
       "      <th>6</th>\n",
       "      <td>M6A</td>\n",
       "      <td>North York</td>\n",
       "      <td>Lawrence Heights</td>\n",
       "    </tr>\n",
       "  </tbody>\n",
       "</table>\n",
       "</div>"
      ],
      "text/plain": [
       "  Postcode           Borough     Neighbourhood\n",
       "2      M3A        North York         Parkwoods\n",
       "3      M4A        North York  Victoria Village\n",
       "4      M5A  Downtown Toronto      Harbourfront\n",
       "5      M5A  Downtown Toronto       Regent Park\n",
       "6      M6A        North York  Lawrence Heights"
      ]
     },
     "execution_count": 7,
     "metadata": {},
     "output_type": "execute_result"
    }
   ],
   "source": [
    "data.head()"
   ]
  },
  {
   "cell_type": "markdown",
   "metadata": {},
   "source": [
    "We need to combine rows with the same postcode"
   ]
  },
  {
   "cell_type": "code",
   "execution_count": 8,
   "metadata": {},
   "outputs": [
    {
     "data": {
      "text/plain": [
       "{'M3A': array(['Parkwoods'], dtype=object),\n",
       " 'M4A': array(['Victoria Village'], dtype=object),\n",
       " 'M5A': array(['Harbourfront', 'Regent Park'], dtype=object),\n",
       " 'M6A': array(['Lawrence Heights', 'Lawrence Manor'], dtype=object),\n",
       " 'M7A': array(['Not assigned'], dtype=object),\n",
       " 'M9A': array(['Islington Avenue'], dtype=object),\n",
       " 'M1B': array(['Rouge', 'Malvern'], dtype=object),\n",
       " 'M3B': array(['Don Mills North'], dtype=object),\n",
       " 'M4B': array(['Woodbine Gardens', 'Parkview Hill'], dtype=object),\n",
       " 'M5B': array(['Ryerson', 'Garden District'], dtype=object),\n",
       " 'M6B': array(['Glencairn'], dtype=object),\n",
       " 'M9B': array(['Cloverdale', 'Islington', 'Martin Grove', 'Princess Gardens',\n",
       "        'West Deane Park'], dtype=object),\n",
       " 'M1C': array(['Highland Creek', 'Rouge Hill', 'Port Union'], dtype=object),\n",
       " 'M3C': array(['Flemingdon Park', 'Don Mills South'], dtype=object),\n",
       " 'M4C': array(['Woodbine Heights'], dtype=object),\n",
       " 'M5C': array(['St. James Town'], dtype=object),\n",
       " 'M6C': array(['Humewood-Cedarvale'], dtype=object),\n",
       " 'M9C': array(['Bloordale Gardens', 'Eringate', 'Markland Wood',\n",
       "        'Old Burnhamthorpe'], dtype=object),\n",
       " 'M1E': array(['Guildwood', 'Morningside', 'West Hill'], dtype=object),\n",
       " 'M4E': array(['The Beaches'], dtype=object),\n",
       " 'M5E': array(['Berczy Park'], dtype=object),\n",
       " 'M6E': array(['Caledonia-Fairbanks'], dtype=object),\n",
       " 'M1G': array(['Woburn'], dtype=object),\n",
       " 'M4G': array(['Leaside'], dtype=object),\n",
       " 'M5G': array(['Central Bay Street'], dtype=object),\n",
       " 'M6G': array(['Christie'], dtype=object),\n",
       " 'M1H': array(['Cedarbrae'], dtype=object),\n",
       " 'M2H': array(['Hillcrest Village'], dtype=object),\n",
       " 'M3H': array(['Bathurst Manor', 'Downsview North', 'Wilson Heights'],\n",
       "       dtype=object),\n",
       " 'M4H': array(['Thorncliffe Park'], dtype=object),\n",
       " 'M5H': array(['Adelaide', 'King', 'Richmond'], dtype=object),\n",
       " 'M6H': array(['Dovercourt Village', 'Dufferin'], dtype=object),\n",
       " 'M1J': array(['Scarborough Village'], dtype=object),\n",
       " 'M2J': array(['Fairview', 'Henry Farm', 'Oriole'], dtype=object),\n",
       " 'M3J': array(['Northwood Park', 'York University'], dtype=object),\n",
       " 'M4J': array(['East Toronto'], dtype=object),\n",
       " 'M5J': array(['Harbourfront East', 'Toronto Islands', 'Union Station'],\n",
       "       dtype=object),\n",
       " 'M6J': array(['Little Portugal', 'Trinity'], dtype=object),\n",
       " 'M1K': array(['East Birchmount Park', 'Ionview', 'Kennedy Park'], dtype=object),\n",
       " 'M2K': array(['Bayview Village'], dtype=object),\n",
       " 'M3K': array(['CFB Toronto', 'Downsview East'], dtype=object),\n",
       " 'M4K': array(['The Danforth West', 'Riverdale'], dtype=object),\n",
       " 'M5K': array(['Design Exchange', 'Toronto Dominion Centre'], dtype=object),\n",
       " 'M6K': array(['Brockton', 'Exhibition Place', 'Parkdale Village'], dtype=object),\n",
       " 'M1L': array(['Clairlea', 'Golden Mile', 'Oakridge'], dtype=object),\n",
       " 'M2L': array(['Silver Hills', 'York Mills'], dtype=object),\n",
       " 'M3L': array(['Downsview West'], dtype=object),\n",
       " 'M4L': array(['The Beaches West', 'India Bazaar'], dtype=object),\n",
       " 'M5L': array(['Commerce Court', 'Victoria Hotel'], dtype=object),\n",
       " 'M6L': array(['Downsview', 'North Park', 'Upwood Park'], dtype=object),\n",
       " 'M9L': array(['Humber Summit'], dtype=object),\n",
       " 'M1M': array(['Cliffcrest', 'Cliffside', 'Scarborough Village West'],\n",
       "       dtype=object),\n",
       " 'M2M': array(['Newtonbrook', 'Willowdale'], dtype=object),\n",
       " 'M3M': array(['Downsview Central'], dtype=object),\n",
       " 'M4M': array(['Studio District'], dtype=object),\n",
       " 'M5M': array(['Bedford Park', 'Lawrence Manor East'], dtype=object),\n",
       " 'M6M': array(['Del Ray', 'Keelesdale', 'Mount Dennis', 'Silverthorn'],\n",
       "       dtype=object),\n",
       " 'M9M': array(['Emery', 'Humberlea'], dtype=object),\n",
       " 'M1N': array(['Birch Cliff', 'Cliffside West'], dtype=object),\n",
       " 'M2N': array(['Willowdale South'], dtype=object),\n",
       " 'M3N': array(['Downsview Northwest'], dtype=object),\n",
       " 'M4N': array(['Lawrence Park'], dtype=object),\n",
       " 'M5N': array(['Roselawn'], dtype=object),\n",
       " 'M6N': array(['The Junction North', 'Runnymede'], dtype=object),\n",
       " 'M9N': array(['Weston'], dtype=object),\n",
       " 'M1P': array(['Dorset Park', 'Scarborough Town Centre', 'Wexford Heights'],\n",
       "       dtype=object),\n",
       " 'M2P': array(['York Mills West'], dtype=object),\n",
       " 'M4P': array(['Davisville North'], dtype=object),\n",
       " 'M5P': array(['Forest Hill North', 'Forest Hill West'], dtype=object),\n",
       " 'M6P': array(['High Park', 'The Junction South'], dtype=object),\n",
       " 'M9P': array(['Westmount'], dtype=object),\n",
       " 'M1R': array(['Maryvale', 'Wexford'], dtype=object),\n",
       " 'M2R': array(['Willowdale West'], dtype=object),\n",
       " 'M4R': array(['North Toronto West'], dtype=object),\n",
       " 'M5R': array(['The Annex', 'North Midtown', 'Yorkville'], dtype=object),\n",
       " 'M6R': array(['Parkdale', 'Roncesvalles'], dtype=object),\n",
       " 'M7R': array(['Canada Post Gateway Processing Centre'], dtype=object),\n",
       " 'M9R': array(['Kingsview Village', 'Martin Grove Gardens', 'Richview Gardens',\n",
       "        'St. Phillips'], dtype=object),\n",
       " 'M1S': array(['Agincourt'], dtype=object),\n",
       " 'M4S': array(['Davisville'], dtype=object),\n",
       " 'M5S': array(['Harbord', 'University of Toronto'], dtype=object),\n",
       " 'M6S': array(['Runnymede', 'Swansea'], dtype=object),\n",
       " 'M1T': array(['Clarks Corners', 'Sullivan', \"Tam O'Shanter\"], dtype=object),\n",
       " 'M4T': array(['Moore Park', 'Summerhill East'], dtype=object),\n",
       " 'M5T': array(['Chinatown', 'Grange Park', 'Kensington Market'], dtype=object),\n",
       " 'M1V': array(['Agincourt North', \"L'Amoreaux East\", 'Milliken', 'Steeles East'],\n",
       "       dtype=object),\n",
       " 'M4V': array(['Deer Park', 'Forest Hill SE', 'Rathnelly', 'South Hill',\n",
       "        'Summerhill West'], dtype=object),\n",
       " 'M5V': array(['CN Tower', 'Bathurst Quay', 'Island airport', 'Harbourfront West',\n",
       "        'King and Spadina', 'Railway Lands', 'South Niagara'], dtype=object),\n",
       " 'M8V': array(['Humber Bay Shores', 'Mimico South', 'New Toronto'], dtype=object),\n",
       " 'M9V': array(['Albion Gardens', 'Beaumond Heights', 'Humbergate', 'Jamestown',\n",
       "        'Mount Olive', 'Silverstone', 'South Steeles', 'Thistletown'],\n",
       "       dtype=object),\n",
       " 'M1W': array([\"L'Amoreaux West\"], dtype=object),\n",
       " 'M4W': array(['Rosedale'], dtype=object),\n",
       " 'M5W': array(['Stn A PO Boxes 25 The Esplanade'], dtype=object),\n",
       " 'M8W': array(['Alderwood', 'Long Branch'], dtype=object),\n",
       " 'M9W': array(['Northwest'], dtype=object),\n",
       " 'M1X': array(['Upper Rouge'], dtype=object),\n",
       " 'M4X': array(['Cabbagetown', 'St. James Town'], dtype=object),\n",
       " 'M5X': array(['First Canadian Place', 'Underground city'], dtype=object),\n",
       " 'M8X': array(['The Kingsway', 'Montgomery Road', 'Old Mill North'], dtype=object),\n",
       " 'M4Y': array(['Church and Wellesley'], dtype=object),\n",
       " 'M7Y': array(['Business Reply Mail Processing Centre 969 Eastern'], dtype=object),\n",
       " 'M8Y': array(['Humber Bay', \"King's Mill Park\", 'Kingsway Park South East',\n",
       "        'Mimico NE', 'Old Mill South', 'The Queensway East',\n",
       "        'Royal York South East', 'Sunnylea'], dtype=object),\n",
       " 'M8Z': array(['Kingsway Park South West', 'Mimico NW', 'The Queensway West',\n",
       "        'Royal York South West', 'South of Bloor'], dtype=object)}"
      ]
     },
     "execution_count": 8,
     "metadata": {},
     "output_type": "execute_result"
    }
   ],
   "source": [
    "neighborhoods_in_pc = {}\n",
    "for postcode in data['Postcode'].unique():\n",
    "    pc_data = data[data['Postcode'] == postcode]\n",
    "    neighborhoods_in_pc[postcode] = pc_data['Neighbourhood'].unique()\n",
    "neighborhoods_in_pc"
   ]
  },
  {
   "cell_type": "markdown",
   "metadata": {},
   "source": [
    "Create a new dataframe with postcodes having values of every neighborhood in that postcode"
   ]
  },
  {
   "cell_type": "code",
   "execution_count": 9,
   "metadata": {},
   "outputs": [
    {
     "data": {
      "text/html": [
       "<div>\n",
       "<style scoped>\n",
       "    .dataframe tbody tr th:only-of-type {\n",
       "        vertical-align: middle;\n",
       "    }\n",
       "\n",
       "    .dataframe tbody tr th {\n",
       "        vertical-align: top;\n",
       "    }\n",
       "\n",
       "    .dataframe thead th {\n",
       "        text-align: right;\n",
       "    }\n",
       "</style>\n",
       "<table border=\"1\" class=\"dataframe\">\n",
       "  <thead>\n",
       "    <tr style=\"text-align: right;\">\n",
       "      <th></th>\n",
       "      <th>Postcode</th>\n",
       "      <th>Borough</th>\n",
       "      <th>Neighbourhood</th>\n",
       "    </tr>\n",
       "  </thead>\n",
       "  <tbody>\n",
       "    <tr>\n",
       "      <th>0</th>\n",
       "      <td>M3A</td>\n",
       "      <td>NaN</td>\n",
       "      <td>[Parkwoods]</td>\n",
       "    </tr>\n",
       "    <tr>\n",
       "      <th>1</th>\n",
       "      <td>M4A</td>\n",
       "      <td>NaN</td>\n",
       "      <td>[Victoria Village]</td>\n",
       "    </tr>\n",
       "    <tr>\n",
       "      <th>2</th>\n",
       "      <td>M5A</td>\n",
       "      <td>NaN</td>\n",
       "      <td>[Harbourfront, Regent Park]</td>\n",
       "    </tr>\n",
       "    <tr>\n",
       "      <th>3</th>\n",
       "      <td>M6A</td>\n",
       "      <td>NaN</td>\n",
       "      <td>[Lawrence Heights, Lawrence Manor]</td>\n",
       "    </tr>\n",
       "    <tr>\n",
       "      <th>4</th>\n",
       "      <td>M7A</td>\n",
       "      <td>NaN</td>\n",
       "      <td>[Not assigned]</td>\n",
       "    </tr>\n",
       "  </tbody>\n",
       "</table>\n",
       "</div>"
      ],
      "text/plain": [
       "  Postcode Borough                       Neighbourhood\n",
       "0      M3A     NaN                         [Parkwoods]\n",
       "1      M4A     NaN                  [Victoria Village]\n",
       "2      M5A     NaN         [Harbourfront, Regent Park]\n",
       "3      M6A     NaN  [Lawrence Heights, Lawrence Manor]\n",
       "4      M7A     NaN                      [Not assigned]"
      ]
     },
     "execution_count": 9,
     "metadata": {},
     "output_type": "execute_result"
    }
   ],
   "source": [
    "fixed_data = pd.DataFrame(columns=['Postcode','Borough','Neighbourhood'])\n",
    "fixed_data['Postcode'] = neighborhoods_in_pc.keys()\n",
    "fixed_data['Neighbourhood'] = neighborhoods_in_pc.values()\n",
    "fixed_data.head()"
   ]
  },
  {
   "cell_type": "markdown",
   "metadata": {},
   "source": [
    "Now, we need to find the Burough for each Postcode"
   ]
  },
  {
   "cell_type": "code",
   "execution_count": 10,
   "metadata": {},
   "outputs": [],
   "source": [
    "buroughs = []\n",
    "for pc in fixed_data['Postcode']:\n",
    "    pc_data = data[data['Postcode'] == pc] #only postcard data in here\n",
    "    buroughs.append(pc_data['Borough'].unique())\n",
    "fixed_data['Borough'] = buroughs"
   ]
  },
  {
   "cell_type": "code",
   "execution_count": 11,
   "metadata": {},
   "outputs": [
    {
     "data": {
      "text/html": [
       "<div>\n",
       "<style scoped>\n",
       "    .dataframe tbody tr th:only-of-type {\n",
       "        vertical-align: middle;\n",
       "    }\n",
       "\n",
       "    .dataframe tbody tr th {\n",
       "        vertical-align: top;\n",
       "    }\n",
       "\n",
       "    .dataframe thead th {\n",
       "        text-align: right;\n",
       "    }\n",
       "</style>\n",
       "<table border=\"1\" class=\"dataframe\">\n",
       "  <thead>\n",
       "    <tr style=\"text-align: right;\">\n",
       "      <th></th>\n",
       "      <th>Postcode</th>\n",
       "      <th>Borough</th>\n",
       "      <th>Neighbourhood</th>\n",
       "    </tr>\n",
       "  </thead>\n",
       "  <tbody>\n",
       "    <tr>\n",
       "      <th>0</th>\n",
       "      <td>M3A</td>\n",
       "      <td>[North York]</td>\n",
       "      <td>[Parkwoods]</td>\n",
       "    </tr>\n",
       "    <tr>\n",
       "      <th>1</th>\n",
       "      <td>M4A</td>\n",
       "      <td>[North York]</td>\n",
       "      <td>[Victoria Village]</td>\n",
       "    </tr>\n",
       "    <tr>\n",
       "      <th>2</th>\n",
       "      <td>M5A</td>\n",
       "      <td>[Downtown Toronto]</td>\n",
       "      <td>[Harbourfront, Regent Park]</td>\n",
       "    </tr>\n",
       "    <tr>\n",
       "      <th>3</th>\n",
       "      <td>M6A</td>\n",
       "      <td>[North York]</td>\n",
       "      <td>[Lawrence Heights, Lawrence Manor]</td>\n",
       "    </tr>\n",
       "    <tr>\n",
       "      <th>4</th>\n",
       "      <td>M7A</td>\n",
       "      <td>[Queen's Park]</td>\n",
       "      <td>[Not assigned]</td>\n",
       "    </tr>\n",
       "  </tbody>\n",
       "</table>\n",
       "</div>"
      ],
      "text/plain": [
       "  Postcode             Borough                       Neighbourhood\n",
       "0      M3A        [North York]                         [Parkwoods]\n",
       "1      M4A        [North York]                  [Victoria Village]\n",
       "2      M5A  [Downtown Toronto]         [Harbourfront, Regent Park]\n",
       "3      M6A        [North York]  [Lawrence Heights, Lawrence Manor]\n",
       "4      M7A      [Queen's Park]                      [Not assigned]"
      ]
     },
     "execution_count": 11,
     "metadata": {},
     "output_type": "execute_result"
    }
   ],
   "source": [
    "fixed_data.head()"
   ]
  },
  {
   "cell_type": "markdown",
   "metadata": {},
   "source": [
    "Columns without assigned Neighbourhood, Neighbourhood should be set to Borough"
   ]
  },
  {
   "cell_type": "code",
   "execution_count": 12,
   "metadata": {},
   "outputs": [],
   "source": [
    "for index, row in fixed_data.iterrows():\n",
    "    if (row['Neighbourhood'][0] == 'Not assigned'):\n",
    "        row['Neighbourhood'][0] = row['Borough']"
   ]
  },
  {
   "cell_type": "code",
   "execution_count": 13,
   "metadata": {},
   "outputs": [
    {
     "data": {
      "text/html": [
       "<div>\n",
       "<style scoped>\n",
       "    .dataframe tbody tr th:only-of-type {\n",
       "        vertical-align: middle;\n",
       "    }\n",
       "\n",
       "    .dataframe tbody tr th {\n",
       "        vertical-align: top;\n",
       "    }\n",
       "\n",
       "    .dataframe thead th {\n",
       "        text-align: right;\n",
       "    }\n",
       "</style>\n",
       "<table border=\"1\" class=\"dataframe\">\n",
       "  <thead>\n",
       "    <tr style=\"text-align: right;\">\n",
       "      <th></th>\n",
       "      <th>Postcode</th>\n",
       "      <th>Borough</th>\n",
       "      <th>Neighbourhood</th>\n",
       "    </tr>\n",
       "  </thead>\n",
       "  <tbody>\n",
       "    <tr>\n",
       "      <th>0</th>\n",
       "      <td>M3A</td>\n",
       "      <td>[North York]</td>\n",
       "      <td>[Parkwoods]</td>\n",
       "    </tr>\n",
       "    <tr>\n",
       "      <th>1</th>\n",
       "      <td>M4A</td>\n",
       "      <td>[North York]</td>\n",
       "      <td>[Victoria Village]</td>\n",
       "    </tr>\n",
       "    <tr>\n",
       "      <th>2</th>\n",
       "      <td>M5A</td>\n",
       "      <td>[Downtown Toronto]</td>\n",
       "      <td>[Harbourfront, Regent Park]</td>\n",
       "    </tr>\n",
       "    <tr>\n",
       "      <th>3</th>\n",
       "      <td>M6A</td>\n",
       "      <td>[North York]</td>\n",
       "      <td>[Lawrence Heights, Lawrence Manor]</td>\n",
       "    </tr>\n",
       "    <tr>\n",
       "      <th>4</th>\n",
       "      <td>M7A</td>\n",
       "      <td>[Queen's Park]</td>\n",
       "      <td>[[Queen's Park]]</td>\n",
       "    </tr>\n",
       "    <tr>\n",
       "      <th>5</th>\n",
       "      <td>M9A</td>\n",
       "      <td>[Etobicoke]</td>\n",
       "      <td>[Islington Avenue]</td>\n",
       "    </tr>\n",
       "    <tr>\n",
       "      <th>6</th>\n",
       "      <td>M1B</td>\n",
       "      <td>[Scarborough]</td>\n",
       "      <td>[Rouge, Malvern]</td>\n",
       "    </tr>\n",
       "    <tr>\n",
       "      <th>7</th>\n",
       "      <td>M3B</td>\n",
       "      <td>[North York]</td>\n",
       "      <td>[Don Mills North]</td>\n",
       "    </tr>\n",
       "    <tr>\n",
       "      <th>8</th>\n",
       "      <td>M4B</td>\n",
       "      <td>[East York]</td>\n",
       "      <td>[Woodbine Gardens, Parkview Hill]</td>\n",
       "    </tr>\n",
       "    <tr>\n",
       "      <th>9</th>\n",
       "      <td>M5B</td>\n",
       "      <td>[Downtown Toronto]</td>\n",
       "      <td>[Ryerson, Garden District]</td>\n",
       "    </tr>\n",
       "    <tr>\n",
       "      <th>10</th>\n",
       "      <td>M6B</td>\n",
       "      <td>[North York]</td>\n",
       "      <td>[Glencairn]</td>\n",
       "    </tr>\n",
       "    <tr>\n",
       "      <th>11</th>\n",
       "      <td>M9B</td>\n",
       "      <td>[Etobicoke]</td>\n",
       "      <td>[Cloverdale, Islington, Martin Grove, Princess...</td>\n",
       "    </tr>\n",
       "    <tr>\n",
       "      <th>12</th>\n",
       "      <td>M1C</td>\n",
       "      <td>[Scarborough]</td>\n",
       "      <td>[Highland Creek, Rouge Hill, Port Union]</td>\n",
       "    </tr>\n",
       "    <tr>\n",
       "      <th>13</th>\n",
       "      <td>M3C</td>\n",
       "      <td>[North York]</td>\n",
       "      <td>[Flemingdon Park, Don Mills South]</td>\n",
       "    </tr>\n",
       "    <tr>\n",
       "      <th>14</th>\n",
       "      <td>M4C</td>\n",
       "      <td>[East York]</td>\n",
       "      <td>[Woodbine Heights]</td>\n",
       "    </tr>\n",
       "    <tr>\n",
       "      <th>15</th>\n",
       "      <td>M5C</td>\n",
       "      <td>[Downtown Toronto]</td>\n",
       "      <td>[St. James Town]</td>\n",
       "    </tr>\n",
       "    <tr>\n",
       "      <th>16</th>\n",
       "      <td>M6C</td>\n",
       "      <td>[York]</td>\n",
       "      <td>[Humewood-Cedarvale]</td>\n",
       "    </tr>\n",
       "    <tr>\n",
       "      <th>17</th>\n",
       "      <td>M9C</td>\n",
       "      <td>[Etobicoke]</td>\n",
       "      <td>[Bloordale Gardens, Eringate, Markland Wood, O...</td>\n",
       "    </tr>\n",
       "    <tr>\n",
       "      <th>18</th>\n",
       "      <td>M1E</td>\n",
       "      <td>[Scarborough]</td>\n",
       "      <td>[Guildwood, Morningside, West Hill]</td>\n",
       "    </tr>\n",
       "    <tr>\n",
       "      <th>19</th>\n",
       "      <td>M4E</td>\n",
       "      <td>[East Toronto]</td>\n",
       "      <td>[The Beaches]</td>\n",
       "    </tr>\n",
       "    <tr>\n",
       "      <th>20</th>\n",
       "      <td>M5E</td>\n",
       "      <td>[Downtown Toronto]</td>\n",
       "      <td>[Berczy Park]</td>\n",
       "    </tr>\n",
       "    <tr>\n",
       "      <th>21</th>\n",
       "      <td>M6E</td>\n",
       "      <td>[York]</td>\n",
       "      <td>[Caledonia-Fairbanks]</td>\n",
       "    </tr>\n",
       "    <tr>\n",
       "      <th>22</th>\n",
       "      <td>M1G</td>\n",
       "      <td>[Scarborough]</td>\n",
       "      <td>[Woburn]</td>\n",
       "    </tr>\n",
       "    <tr>\n",
       "      <th>23</th>\n",
       "      <td>M4G</td>\n",
       "      <td>[East York]</td>\n",
       "      <td>[Leaside]</td>\n",
       "    </tr>\n",
       "    <tr>\n",
       "      <th>24</th>\n",
       "      <td>M5G</td>\n",
       "      <td>[Downtown Toronto]</td>\n",
       "      <td>[Central Bay Street]</td>\n",
       "    </tr>\n",
       "  </tbody>\n",
       "</table>\n",
       "</div>"
      ],
      "text/plain": [
       "   Postcode             Borough  \\\n",
       "0       M3A        [North York]   \n",
       "1       M4A        [North York]   \n",
       "2       M5A  [Downtown Toronto]   \n",
       "3       M6A        [North York]   \n",
       "4       M7A      [Queen's Park]   \n",
       "5       M9A         [Etobicoke]   \n",
       "6       M1B       [Scarborough]   \n",
       "7       M3B        [North York]   \n",
       "8       M4B         [East York]   \n",
       "9       M5B  [Downtown Toronto]   \n",
       "10      M6B        [North York]   \n",
       "11      M9B         [Etobicoke]   \n",
       "12      M1C       [Scarborough]   \n",
       "13      M3C        [North York]   \n",
       "14      M4C         [East York]   \n",
       "15      M5C  [Downtown Toronto]   \n",
       "16      M6C              [York]   \n",
       "17      M9C         [Etobicoke]   \n",
       "18      M1E       [Scarborough]   \n",
       "19      M4E      [East Toronto]   \n",
       "20      M5E  [Downtown Toronto]   \n",
       "21      M6E              [York]   \n",
       "22      M1G       [Scarborough]   \n",
       "23      M4G         [East York]   \n",
       "24      M5G  [Downtown Toronto]   \n",
       "\n",
       "                                        Neighbourhood  \n",
       "0                                         [Parkwoods]  \n",
       "1                                  [Victoria Village]  \n",
       "2                         [Harbourfront, Regent Park]  \n",
       "3                  [Lawrence Heights, Lawrence Manor]  \n",
       "4                                    [[Queen's Park]]  \n",
       "5                                  [Islington Avenue]  \n",
       "6                                    [Rouge, Malvern]  \n",
       "7                                   [Don Mills North]  \n",
       "8                   [Woodbine Gardens, Parkview Hill]  \n",
       "9                          [Ryerson, Garden District]  \n",
       "10                                        [Glencairn]  \n",
       "11  [Cloverdale, Islington, Martin Grove, Princess...  \n",
       "12           [Highland Creek, Rouge Hill, Port Union]  \n",
       "13                 [Flemingdon Park, Don Mills South]  \n",
       "14                                 [Woodbine Heights]  \n",
       "15                                   [St. James Town]  \n",
       "16                               [Humewood-Cedarvale]  \n",
       "17  [Bloordale Gardens, Eringate, Markland Wood, O...  \n",
       "18                [Guildwood, Morningside, West Hill]  \n",
       "19                                      [The Beaches]  \n",
       "20                                      [Berczy Park]  \n",
       "21                              [Caledonia-Fairbanks]  \n",
       "22                                           [Woburn]  \n",
       "23                                          [Leaside]  \n",
       "24                               [Central Bay Street]  "
      ]
     },
     "execution_count": 13,
     "metadata": {},
     "output_type": "execute_result"
    }
   ],
   "source": [
    "fixed_data.head(25)"
   ]
  },
  {
   "cell_type": "markdown",
   "metadata": {},
   "source": [
    "Clean up the Borough column"
   ]
  },
  {
   "cell_type": "code",
   "execution_count": 14,
   "metadata": {},
   "outputs": [],
   "source": [
    "fixed_boroughs = []\n",
    "fixed_neighbourhoods = []\n",
    "for borough in fixed_data['Borough']:\n",
    "    b = ','.join(borough)\n",
    "    fixed_boroughs.append(b)\n",
    "fixed_data['Borough'] = fixed_boroughs"
   ]
  },
  {
   "cell_type": "markdown",
   "metadata": {},
   "source": [
    "Clean up the Neighbourhood column"
   ]
  },
  {
   "cell_type": "code",
   "execution_count": 15,
   "metadata": {},
   "outputs": [],
   "source": [
    "fixed_neighbourhoods = []\n",
    "for neighborhood in fixed_data['Neighbourhood']:\n",
    "    if len(neighborhood) == 1:\n",
    "        n = neighborhood[0]\n",
    "    else:\n",
    "        n = \",\".join(str(x) for x in neighborhood)\n",
    "    fixed_neighbourhoods.append(n)\n",
    "fixed_data['Neighbourhood'] = fixed_neighbourhoods"
   ]
  },
  {
   "cell_type": "code",
   "execution_count": 16,
   "metadata": {},
   "outputs": [
    {
     "data": {
      "text/html": [
       "<div>\n",
       "<style scoped>\n",
       "    .dataframe tbody tr th:only-of-type {\n",
       "        vertical-align: middle;\n",
       "    }\n",
       "\n",
       "    .dataframe tbody tr th {\n",
       "        vertical-align: top;\n",
       "    }\n",
       "\n",
       "    .dataframe thead th {\n",
       "        text-align: right;\n",
       "    }\n",
       "</style>\n",
       "<table border=\"1\" class=\"dataframe\">\n",
       "  <thead>\n",
       "    <tr style=\"text-align: right;\">\n",
       "      <th></th>\n",
       "      <th>Postcode</th>\n",
       "      <th>Borough</th>\n",
       "      <th>Neighbourhood</th>\n",
       "    </tr>\n",
       "  </thead>\n",
       "  <tbody>\n",
       "    <tr>\n",
       "      <th>0</th>\n",
       "      <td>M3A</td>\n",
       "      <td>North York</td>\n",
       "      <td>Parkwoods</td>\n",
       "    </tr>\n",
       "    <tr>\n",
       "      <th>1</th>\n",
       "      <td>M4A</td>\n",
       "      <td>North York</td>\n",
       "      <td>Victoria Village</td>\n",
       "    </tr>\n",
       "    <tr>\n",
       "      <th>2</th>\n",
       "      <td>M5A</td>\n",
       "      <td>Downtown Toronto</td>\n",
       "      <td>Harbourfront,Regent Park</td>\n",
       "    </tr>\n",
       "    <tr>\n",
       "      <th>3</th>\n",
       "      <td>M6A</td>\n",
       "      <td>North York</td>\n",
       "      <td>Lawrence Heights,Lawrence Manor</td>\n",
       "    </tr>\n",
       "    <tr>\n",
       "      <th>4</th>\n",
       "      <td>M7A</td>\n",
       "      <td>Queen's Park</td>\n",
       "      <td>[Queen's Park]</td>\n",
       "    </tr>\n",
       "    <tr>\n",
       "      <th>5</th>\n",
       "      <td>M9A</td>\n",
       "      <td>Etobicoke</td>\n",
       "      <td>Islington Avenue</td>\n",
       "    </tr>\n",
       "    <tr>\n",
       "      <th>6</th>\n",
       "      <td>M1B</td>\n",
       "      <td>Scarborough</td>\n",
       "      <td>Rouge,Malvern</td>\n",
       "    </tr>\n",
       "    <tr>\n",
       "      <th>7</th>\n",
       "      <td>M3B</td>\n",
       "      <td>North York</td>\n",
       "      <td>Don Mills North</td>\n",
       "    </tr>\n",
       "    <tr>\n",
       "      <th>8</th>\n",
       "      <td>M4B</td>\n",
       "      <td>East York</td>\n",
       "      <td>Woodbine Gardens,Parkview Hill</td>\n",
       "    </tr>\n",
       "    <tr>\n",
       "      <th>9</th>\n",
       "      <td>M5B</td>\n",
       "      <td>Downtown Toronto</td>\n",
       "      <td>Ryerson,Garden District</td>\n",
       "    </tr>\n",
       "  </tbody>\n",
       "</table>\n",
       "</div>"
      ],
      "text/plain": [
       "  Postcode           Borough                    Neighbourhood\n",
       "0      M3A        North York                        Parkwoods\n",
       "1      M4A        North York                 Victoria Village\n",
       "2      M5A  Downtown Toronto         Harbourfront,Regent Park\n",
       "3      M6A        North York  Lawrence Heights,Lawrence Manor\n",
       "4      M7A      Queen's Park                   [Queen's Park]\n",
       "5      M9A         Etobicoke                 Islington Avenue\n",
       "6      M1B       Scarborough                    Rouge,Malvern\n",
       "7      M3B        North York                  Don Mills North\n",
       "8      M4B         East York   Woodbine Gardens,Parkview Hill\n",
       "9      M5B  Downtown Toronto          Ryerson,Garden District"
      ]
     },
     "execution_count": 16,
     "metadata": {},
     "output_type": "execute_result"
    }
   ],
   "source": [
    "fixed_data.head(10)"
   ]
  },
  {
   "cell_type": "markdown",
   "metadata": {},
   "source": [
    "Assumptions: I am assuming that each postcode can contain multiple neighbourhoods and does not contain any overlapping neighbourhoods. I am also assuming each borough falls into 1 postcode (and each postcode has 1 Borough)."
   ]
  },
  {
   "cell_type": "code",
   "execution_count": 17,
   "metadata": {},
   "outputs": [
    {
     "data": {
      "text/plain": [
       "(103, 3)"
      ]
     },
     "execution_count": 17,
     "metadata": {},
     "output_type": "execute_result"
    }
   ],
   "source": [
    "fixed_data.shape"
   ]
  },
  {
   "cell_type": "markdown",
   "metadata": {},
   "source": [
    "103 rows and 3 columns."
   ]
  },
  {
   "cell_type": "markdown",
   "metadata": {},
   "source": [
    "Now, we need to get the longitude and latitude using GeoPy"
   ]
  },
  {
   "cell_type": "code",
   "execution_count": 18,
   "metadata": {},
   "outputs": [
    {
     "name": "stdout",
     "output_type": "stream",
     "text": [
      "The geograpical coordinate of  Parkwoods  are 26.5652643, -81.8817227102639.\n",
      "The geograpical coordinate of  Victoria Village  are 43.732658, -79.3111892.\n",
      "The geograpical coordinate of  Harbourfront,Regent Park  are 43.6400801, -79.3801495.\n",
      "The geograpical coordinate of  Lawrence Heights,Lawrence Manor  are 43.7227784, -79.4509332.\n",
      "The geograpical coordinate of  Islington Avenue  are 43.6393743, -79.5212175.\n",
      "The geograpical coordinate of  Rouge,Malvern  are 43.8091955, -79.2217008.\n",
      "The geograpical coordinate of  Don Mills North  are 43.737178, -79.3434514.\n",
      "The geograpical coordinate of  Ryerson,Garden District  are 45.5797934, -79.5084658621578.\n",
      "The geograpical coordinate of  Glencairn  are -34.1595402, 18.4284987.\n",
      "The geograpical coordinate of  Woodbine Heights  are 43.6999302, -79.3191316.\n",
      "The geograpical coordinate of  St. James Town  are 43.6694032, -79.3727041.\n",
      "The geograpical coordinate of  Humewood-Cedarvale  are 43.69079835, -79.4253981936993.\n",
      "The geograpical coordinate of  Guildwood,Morningside,West Hill  are 43.7534804, -79.1799949.\n",
      "The geograpical coordinate of  The Beaches  are 43.6710244, -79.296712.\n",
      "The geograpical coordinate of  Berczy Park  are 43.6479887, -79.3753927260178.\n",
      "The geograpical coordinate of  Caledonia-Fairbanks  are 44.42006025, -72.0197789750751.\n",
      "The geograpical coordinate of  Woburn  are 42.4792618, -71.1522766.\n",
      "The geograpical coordinate of  Leaside  are 43.7047983, -79.3680904.\n",
      "The geograpical coordinate of  Central Bay Street  are 43.6569623, -79.3842242.\n",
      "The geograpical coordinate of  Christie  are 38.0029777, -122.206634.\n",
      "The geograpical coordinate of  Cedarbrae  are 50.9563182, -114.1293235.\n",
      "The geograpical coordinate of  Hillcrest Village  are 43.7996637, -79.3650189.\n",
      "The geograpical coordinate of  Thorncliffe Park  are 43.704553, -79.3454074.\n",
      "The geograpical coordinate of  Dovercourt Village,Dufferin  are 43.6602019, -79.4357191.\n",
      "The geograpical coordinate of  Scarborough Village  are 43.7437422, -79.2116324.\n",
      "The geograpical coordinate of  Fairview,Henry Farm,Oriole  are 43.7668565, -79.364258.\n",
      "The geograpical coordinate of  Northwood Park,York University  are 43.7705877, -79.5008332.\n",
      "The geograpical coordinate of  East Toronto  are 43.653963, -79.387207.\n",
      "The geograpical coordinate of  Little Portugal,Trinity  are 37.33048555, -121.826586626965.\n",
      "The geograpical coordinate of  Bayview Village  are 43.7691966, -79.3766617.\n",
      "The geograpical coordinate of  The Danforth West,Riverdale  are 43.6654704, -79.3525936.\n",
      "The geograpical coordinate of  Design Exchange,Toronto Dominion Centre  are 43.6477412, -79.3801145.\n",
      "The geograpical coordinate of  Silver Hills,York Mills  are 43.75157415, -79.373667512181.\n",
      "The geograpical coordinate of  Downsview West  are 43.7492988, -79.462248.\n",
      "The geograpical coordinate of  Commerce Court,Victoria Hotel  are -37.5875676, 144.7184348.\n",
      "The geograpical coordinate of  Humber Summit  are 43.7600778, -79.5717598.\n",
      "The geograpical coordinate of  Newtonbrook,Willowdale  are 43.7938863, -79.4256790230105.\n",
      "The geograpical coordinate of  Downsview Central  are 43.7492988, -79.462248.\n",
      "The geograpical coordinate of  Studio District  are 32.3311235, 34.8515434.\n",
      "The geograpical coordinate of  Emery,Humberlea  are 43.719268, -79.5371417111924.\n",
      "The geograpical coordinate of  Willowdale South  are 43.7753558, -79.4166859823926.\n",
      "The geograpical coordinate of  Downsview Northwest  are 43.7492988, -79.462248.\n",
      "The geograpical coordinate of  Lawrence Park  are 43.729199, -79.4032525.\n",
      "The geograpical coordinate of  Roselawn  are 41.151458, -87.2856748480322.\n",
      "The geograpical coordinate of  The Junction North,Runnymede  are 43.6655802, -79.4821078.\n",
      "The geograpical coordinate of  Weston  are 51.3471927, -2.9778916.\n",
      "The geograpical coordinate of  York Mills West  are 43.7440391, -79.406657.\n",
      "The geograpical coordinate of  Davisville North  are 43.7043123, -79.3885169.\n",
      "The geograpical coordinate of  High Park,The Junction South  are 43.6538668, -79.4668644.\n",
      "The geograpical coordinate of  Westmount  are 45.4857329, -73.5963951.\n",
      "The geograpical coordinate of  Willowdale West  are 43.7753558, -79.4166859823926.\n",
      "The geograpical coordinate of  North Toronto West  are 43.6465466, -79.4195263.\n",
      "The geograpical coordinate of  Parkdale,Roncesvalles  are 43.6514426, -79.4510381.\n",
      "The geograpical coordinate of  Agincourt  are 48.7323472, 6.236384.\n",
      "The geograpical coordinate of  Davisville  are 43.7043123, -79.3885169.\n",
      "The geograpical coordinate of  Harbord,University of Toronto  are 43.6622911, -79.3999585.\n",
      "The geograpical coordinate of  Runnymede,Swansea  are 43.6517776, -79.4759227.\n",
      "The geograpical coordinate of  Moore Park,Summerhill East  are 43.6816776, -79.3905037.\n",
      "The geograpical coordinate of  L'Amoreaux West  are 43.799003, -79.3059669.\n",
      "The geograpical coordinate of  Rosedale  are 43.6783556, -79.3807457.\n",
      "The geograpical coordinate of  Alderwood,Long Branch  are 43.6017173, -79.5452325.\n",
      "The geograpical coordinate of  Northwest  are 64.5731537, 11.5280364395482.\n",
      "The geograpical coordinate of  Upper Rouge  are 45.9002415, 6.1270852.\n",
      "The geograpical coordinate of  Church and Wellesley  are 43.6655242, -79.3838011.\n"
     ]
    }
   ],
   "source": [
    "neighborhoods = fixed_data['Neighbourhood']\n",
    "latitudes = []\n",
    "longitudes = []\n",
    "for city in neighborhoods:\n",
    "    try:\n",
    "        user_agent_name = city.replace(' ','_') + '_explorer'\n",
    "        geolocator = Nominatim(user_agent=user_agent_name)\n",
    "        location = geolocator.geocode(city)\n",
    "        latitude = location.latitude\n",
    "        longitude = location.longitude\n",
    "        latitudes.append(latitude)\n",
    "        longitudes.append(longitude)\n",
    "        print('The geograpical coordinate of ', city, ' are {}, {}.'.format(latitude, longitude))\n",
    "    except:\n",
    "        try:\n",
    "            user_agent_name = city.replace(' ','_') + '_explorer'\n",
    "            geolocator = Nominatim(user_agent=user_agent_name)\n",
    "            location = geolocator.geocode(city)\n",
    "            latitude = location.latitude\n",
    "            longitude = location.longitude\n",
    "            latitudes.append(latitude)\n",
    "            longitudes.append(longitude)\n",
    "            print('The geograpical coordinate of ', city, ' are {}, {}.'.format(latitude, longitude))\n",
    "        except:\n",
    "            latitudes.append(np.NaN)\n",
    "            longitudes.append(np.NaN)"
   ]
  },
  {
   "cell_type": "code",
   "execution_count": 19,
   "metadata": {},
   "outputs": [],
   "source": [
    "fixed_data['Latitude'] = latitudes\n",
    "fixed_data['Longitude'] = longitudes\n",
    "fixed_data.dropna(inplace=True,how='any')"
   ]
  },
  {
   "cell_type": "code",
   "execution_count": 20,
   "metadata": {},
   "outputs": [
    {
     "data": {
      "text/html": [
       "<div>\n",
       "<style scoped>\n",
       "    .dataframe tbody tr th:only-of-type {\n",
       "        vertical-align: middle;\n",
       "    }\n",
       "\n",
       "    .dataframe tbody tr th {\n",
       "        vertical-align: top;\n",
       "    }\n",
       "\n",
       "    .dataframe thead th {\n",
       "        text-align: right;\n",
       "    }\n",
       "</style>\n",
       "<table border=\"1\" class=\"dataframe\">\n",
       "  <thead>\n",
       "    <tr style=\"text-align: right;\">\n",
       "      <th></th>\n",
       "      <th>Postcode</th>\n",
       "      <th>Borough</th>\n",
       "      <th>Neighbourhood</th>\n",
       "      <th>Latitude</th>\n",
       "      <th>Longitude</th>\n",
       "    </tr>\n",
       "  </thead>\n",
       "  <tbody>\n",
       "    <tr>\n",
       "      <th>0</th>\n",
       "      <td>M3A</td>\n",
       "      <td>North York</td>\n",
       "      <td>Parkwoods</td>\n",
       "      <td>26.565264</td>\n",
       "      <td>-81.881723</td>\n",
       "    </tr>\n",
       "    <tr>\n",
       "      <th>1</th>\n",
       "      <td>M4A</td>\n",
       "      <td>North York</td>\n",
       "      <td>Victoria Village</td>\n",
       "      <td>43.732658</td>\n",
       "      <td>-79.311189</td>\n",
       "    </tr>\n",
       "    <tr>\n",
       "      <th>2</th>\n",
       "      <td>M5A</td>\n",
       "      <td>Downtown Toronto</td>\n",
       "      <td>Harbourfront,Regent Park</td>\n",
       "      <td>43.640080</td>\n",
       "      <td>-79.380150</td>\n",
       "    </tr>\n",
       "    <tr>\n",
       "      <th>3</th>\n",
       "      <td>M6A</td>\n",
       "      <td>North York</td>\n",
       "      <td>Lawrence Heights,Lawrence Manor</td>\n",
       "      <td>43.722778</td>\n",
       "      <td>-79.450933</td>\n",
       "    </tr>\n",
       "    <tr>\n",
       "      <th>5</th>\n",
       "      <td>M9A</td>\n",
       "      <td>Etobicoke</td>\n",
       "      <td>Islington Avenue</td>\n",
       "      <td>43.639374</td>\n",
       "      <td>-79.521218</td>\n",
       "    </tr>\n",
       "    <tr>\n",
       "      <th>6</th>\n",
       "      <td>M1B</td>\n",
       "      <td>Scarborough</td>\n",
       "      <td>Rouge,Malvern</td>\n",
       "      <td>43.809196</td>\n",
       "      <td>-79.221701</td>\n",
       "    </tr>\n",
       "    <tr>\n",
       "      <th>7</th>\n",
       "      <td>M3B</td>\n",
       "      <td>North York</td>\n",
       "      <td>Don Mills North</td>\n",
       "      <td>43.737178</td>\n",
       "      <td>-79.343451</td>\n",
       "    </tr>\n",
       "    <tr>\n",
       "      <th>9</th>\n",
       "      <td>M5B</td>\n",
       "      <td>Downtown Toronto</td>\n",
       "      <td>Ryerson,Garden District</td>\n",
       "      <td>45.579793</td>\n",
       "      <td>-79.508466</td>\n",
       "    </tr>\n",
       "    <tr>\n",
       "      <th>10</th>\n",
       "      <td>M6B</td>\n",
       "      <td>North York</td>\n",
       "      <td>Glencairn</td>\n",
       "      <td>-34.159540</td>\n",
       "      <td>18.428499</td>\n",
       "    </tr>\n",
       "    <tr>\n",
       "      <th>14</th>\n",
       "      <td>M4C</td>\n",
       "      <td>East York</td>\n",
       "      <td>Woodbine Heights</td>\n",
       "      <td>43.699930</td>\n",
       "      <td>-79.319132</td>\n",
       "    </tr>\n",
       "  </tbody>\n",
       "</table>\n",
       "</div>"
      ],
      "text/plain": [
       "   Postcode           Borough                    Neighbourhood   Latitude  \\\n",
       "0       M3A        North York                        Parkwoods  26.565264   \n",
       "1       M4A        North York                 Victoria Village  43.732658   \n",
       "2       M5A  Downtown Toronto         Harbourfront,Regent Park  43.640080   \n",
       "3       M6A        North York  Lawrence Heights,Lawrence Manor  43.722778   \n",
       "5       M9A         Etobicoke                 Islington Avenue  43.639374   \n",
       "6       M1B       Scarborough                    Rouge,Malvern  43.809196   \n",
       "7       M3B        North York                  Don Mills North  43.737178   \n",
       "9       M5B  Downtown Toronto          Ryerson,Garden District  45.579793   \n",
       "10      M6B        North York                        Glencairn -34.159540   \n",
       "14      M4C         East York                 Woodbine Heights  43.699930   \n",
       "\n",
       "    Longitude  \n",
       "0  -81.881723  \n",
       "1  -79.311189  \n",
       "2  -79.380150  \n",
       "3  -79.450933  \n",
       "5  -79.521218  \n",
       "6  -79.221701  \n",
       "7  -79.343451  \n",
       "9  -79.508466  \n",
       "10  18.428499  \n",
       "14 -79.319132  "
      ]
     },
     "execution_count": 20,
     "metadata": {},
     "output_type": "execute_result"
    }
   ],
   "source": [
    "fixed_data.head(10)"
   ]
  },
  {
   "cell_type": "markdown",
   "metadata": {},
   "source": [
    "Now, we need to do some visualizations"
   ]
  },
  {
   "cell_type": "code",
   "execution_count": 21,
   "metadata": {},
   "outputs": [],
   "source": [
    "geo_map = folium.Map(\n",
    "    location=[43.5,-80],\n",
    "    zoom_start=8,\n",
    "    tiles='Stamen Terrain'\n",
    ")"
   ]
  },
  {
   "cell_type": "code",
   "execution_count": 22,
   "metadata": {
    "scrolled": false
   },
   "outputs": [
    {
     "data": {
      "text/html": [
       "<div style=\"width:100%;\"><div style=\"position:relative;width:100%;height:0;padding-bottom:60%;\"><iframe src=\"data:text/html;charset=utf-8;base64,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\" style=\"position:absolute;width:100%;height:100%;left:0;top:0;border:none !important;\" allowfullscreen webkitallowfullscreen mozallowfullscreen></iframe></div></div>"
      ],
      "text/plain": [
       "<folium.folium.Map at 0x11536e2e8>"
      ]
     },
     "execution_count": 22,
     "metadata": {},
     "output_type": "execute_result"
    }
   ],
   "source": [
    "geo_map"
   ]
  },
  {
   "cell_type": "markdown",
   "metadata": {},
   "source": [
    "Let's add markers to our map"
   ]
  },
  {
   "cell_type": "markdown",
   "metadata": {},
   "source": [
    "Make a new df containing only unique rows"
   ]
  },
  {
   "cell_type": "code",
   "execution_count": 23,
   "metadata": {},
   "outputs": [],
   "source": [
    "marker_df = fixed_data.drop_duplicates(subset='Neighbourhood',keep='first',inplace=False)"
   ]
  },
  {
   "cell_type": "code",
   "execution_count": 24,
   "metadata": {},
   "outputs": [],
   "source": [
    "for index, row in marker_df.iterrows():\n",
    "    city = folium.map.FeatureGroup()\n",
    "    city.add_child(\n",
    "        folium.CircleMarker(\n",
    "        [row['Latitude'],row['Longitude']], radius=5,\n",
    "        color='red',\n",
    "        fill_color='Red'\n",
    "        )\n",
    "    )\n",
    "    geo_map.add_child(city)\n",
    "    folium.Marker([row['Latitude'],row['Longitude']],popup=row['Neighbourhood']).add_to(geo_map)"
   ]
  },
  {
   "cell_type": "code",
   "execution_count": 25,
   "metadata": {},
   "outputs": [
    {
     "data": {
      "text/html": [
       "<div style=\"width:100%;\"><div style=\"position:relative;width:100%;height:0;padding-bottom:60%;\"><iframe src=\"data:text/html;charset=utf-8;base64,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\" style=\"position:absolute;width:100%;height:100%;left:0;top:0;border:none !important;\" allowfullscreen webkitallowfullscreen mozallowfullscreen></iframe></div></div>"
      ],
      "text/plain": [
       "<folium.folium.Map at 0x11536e2e8>"
      ]
     },
     "execution_count": 25,
     "metadata": {},
     "output_type": "execute_result"
    }
   ],
   "source": [
    "geo_map"
   ]
  },
  {
   "cell_type": "markdown",
   "metadata": {},
   "source": [
    "Now, we will perform a KNN classification analysis to see which neighborhoods are the best to move into"
   ]
  },
  {
   "cell_type": "code",
   "execution_count": 26,
   "metadata": {},
   "outputs": [],
   "source": [
    "data = pd.read_excel('Industry_Profile.xlsx',sheet_name=['i000'])\n",
    "data = data['i000']"
   ]
  },
  {
   "cell_type": "markdown",
   "metadata": {},
   "source": [
    "Let's view the shape of each column"
   ]
  },
  {
   "cell_type": "code",
   "execution_count": 27,
   "metadata": {},
   "outputs": [
    {
     "name": "stdout",
     "output_type": "stream",
     "text": [
      "(11,)\n",
      "(11,)\n",
      "(11,)\n",
      "(11,)\n",
      "(11,)\n",
      "(11,)\n",
      "(11,)\n",
      "(11,)\n",
      "(11,)\n"
     ]
    }
   ],
   "source": [
    "for col in data.columns:\n",
    "    print(data[col].shape)"
   ]
  },
  {
   "cell_type": "code",
   "execution_count": 28,
   "metadata": {},
   "outputs": [],
   "source": [
    "data = data.transpose()"
   ]
  },
  {
   "cell_type": "code",
   "execution_count": 29,
   "metadata": {},
   "outputs": [
    {
     "data": {
      "text/html": [
       "<div>\n",
       "<style scoped>\n",
       "    .dataframe tbody tr th:only-of-type {\n",
       "        vertical-align: middle;\n",
       "    }\n",
       "\n",
       "    .dataframe tbody tr th {\n",
       "        vertical-align: top;\n",
       "    }\n",
       "\n",
       "    .dataframe thead th {\n",
       "        text-align: right;\n",
       "    }\n",
       "</style>\n",
       "<table border=\"1\" class=\"dataframe\">\n",
       "  <thead>\n",
       "    <tr style=\"text-align: right;\">\n",
       "      <th></th>\n",
       "      <th>0</th>\n",
       "      <th>1</th>\n",
       "      <th>2</th>\n",
       "      <th>3</th>\n",
       "      <th>4</th>\n",
       "      <th>5</th>\n",
       "      <th>6</th>\n",
       "      <th>7</th>\n",
       "      <th>8</th>\n",
       "      <th>9</th>\n",
       "      <th>10</th>\n",
       "    </tr>\n",
       "  </thead>\n",
       "  <tbody>\n",
       "    <tr>\n",
       "      <th>% By Educational Attainment</th>\n",
       "      <td>0 to 8  years</td>\n",
       "      <td>Some secondary</td>\n",
       "      <td>High school graduate</td>\n",
       "      <td>Some postsecondary</td>\n",
       "      <td>Postsecondary certif or diploma</td>\n",
       "      <td>Trade certificate or diploma</td>\n",
       "      <td>College diploma</td>\n",
       "      <td>University certif below bachelor</td>\n",
       "      <td>University degree</td>\n",
       "      <td>Bachelor's degree</td>\n",
       "      <td>Above bachelor's degree</td>\n",
       "    </tr>\n",
       "    <tr>\n",
       "      <th>2003</th>\n",
       "      <td>0.0619327</td>\n",
       "      <td>0.122007</td>\n",
       "      <td>0.261352</td>\n",
       "      <td>0.0788846</td>\n",
       "      <td>0.280734</td>\n",
       "      <td>0.0752969</td>\n",
       "      <td>0.190987</td>\n",
       "      <td>0.0144505</td>\n",
       "      <td>0.195103</td>\n",
       "      <td>0.143447</td>\n",
       "      <td>0.0516559</td>\n",
       "    </tr>\n",
       "    <tr>\n",
       "      <th>2008</th>\n",
       "      <td>0.0469742</td>\n",
       "      <td>0.102549</td>\n",
       "      <td>0.246576</td>\n",
       "      <td>0.0650875</td>\n",
       "      <td>0.324526</td>\n",
       "      <td>0.0928828</td>\n",
       "      <td>0.216371</td>\n",
       "      <td>0.015272</td>\n",
       "      <td>0.214271</td>\n",
       "      <td>0.150821</td>\n",
       "      <td>0.0634506</td>\n",
       "    </tr>\n",
       "    <tr>\n",
       "      <th>2013</th>\n",
       "      <td>0.0414446</td>\n",
       "      <td>0.07912</td>\n",
       "      <td>0.241229</td>\n",
       "      <td>0.0579161</td>\n",
       "      <td>0.332487</td>\n",
       "      <td>0.07912</td>\n",
       "      <td>0.237443</td>\n",
       "      <td>0.015907</td>\n",
       "      <td>0.247804</td>\n",
       "      <td>0.175874</td>\n",
       "      <td>0.0719303</td>\n",
       "    </tr>\n",
       "    <tr>\n",
       "      <th>2014</th>\n",
       "      <td>0.0354115</td>\n",
       "      <td>0.0753149</td>\n",
       "      <td>0.275845</td>\n",
       "      <td>0.0548482</td>\n",
       "      <td>0.322622</td>\n",
       "      <td>0.0826438</td>\n",
       "      <td>0.220676</td>\n",
       "      <td>0.0193016</td>\n",
       "      <td>0.235976</td>\n",
       "      <td>0.165828</td>\n",
       "      <td>0.0701307</td>\n",
       "    </tr>\n",
       "  </tbody>\n",
       "</table>\n",
       "</div>"
      ],
      "text/plain": [
       "                                          0                 1   \\\n",
       "% By Educational Attainment    0 to 8  years    Some secondary   \n",
       "2003                               0.0619327          0.122007   \n",
       "2008                               0.0469742          0.102549   \n",
       "2013                               0.0414446           0.07912   \n",
       "2014                               0.0354115         0.0753149   \n",
       "\n",
       "                                                 2                     3   \\\n",
       "% By Educational Attainment    High school graduate    Some postsecondary   \n",
       "2003                                       0.261352             0.0788846   \n",
       "2008                                       0.246576             0.0650875   \n",
       "2013                                       0.241229             0.0579161   \n",
       "2014                                       0.275845             0.0548482   \n",
       "\n",
       "                                                            4   \\\n",
       "% By Educational Attainment    Postsecondary certif or diploma   \n",
       "2003                                                  0.280734   \n",
       "2008                                                  0.324526   \n",
       "2013                                                  0.332487   \n",
       "2014                                                  0.322622   \n",
       "\n",
       "                                                           5   \\\n",
       "% By Educational Attainment      Trade certificate or diploma   \n",
       "2003                                                0.0752969   \n",
       "2008                                                0.0928828   \n",
       "2013                                                  0.07912   \n",
       "2014                                                0.0826438   \n",
       "\n",
       "                                              6   \\\n",
       "% By Educational Attainment      College diploma   \n",
       "2003                                    0.190987   \n",
       "2008                                    0.216371   \n",
       "2013                                    0.237443   \n",
       "2014                                    0.220676   \n",
       "\n",
       "                                                               7   \\\n",
       "% By Educational Attainment      University certif below bachelor   \n",
       "2003                                                    0.0144505   \n",
       "2008                                                     0.015272   \n",
       "2013                                                     0.015907   \n",
       "2014                                                    0.0193016   \n",
       "\n",
       "                                              8                      9   \\\n",
       "% By Educational Attainment    University degree      Bachelor's degree   \n",
       "2003                                    0.195103               0.143447   \n",
       "2008                                    0.214271               0.150821   \n",
       "2013                                    0.247804               0.175874   \n",
       "2014                                    0.235976               0.165828   \n",
       "\n",
       "                                                      10  \n",
       "% By Educational Attainment      Above bachelor's degree  \n",
       "2003                                           0.0516559  \n",
       "2008                                           0.0634506  \n",
       "2013                                           0.0719303  \n",
       "2014                                           0.0701307  "
      ]
     },
     "execution_count": 29,
     "metadata": {},
     "output_type": "execute_result"
    }
   ],
   "source": [
    "data.head()"
   ]
  },
  {
   "cell_type": "code",
   "execution_count": 30,
   "metadata": {},
   "outputs": [
    {
     "data": {
      "text/plain": [
       "Index(['% By Educational Attainment', 2003, 2008, 2013, 2014, 2015, 2016, 2017,\n",
       "       2018],\n",
       "      dtype='object')"
      ]
     },
     "execution_count": 30,
     "metadata": {},
     "output_type": "execute_result"
    }
   ],
   "source": [
    "data.index"
   ]
  },
  {
   "cell_type": "code",
   "execution_count": 31,
   "metadata": {},
   "outputs": [],
   "source": [
    "data.columns = data.iloc[0]\n",
    "data = data[1:]"
   ]
  },
  {
   "cell_type": "code",
   "execution_count": 32,
   "metadata": {},
   "outputs": [
    {
     "data": {
      "text/html": [
       "<div>\n",
       "<style scoped>\n",
       "    .dataframe tbody tr th:only-of-type {\n",
       "        vertical-align: middle;\n",
       "    }\n",
       "\n",
       "    .dataframe tbody tr th {\n",
       "        vertical-align: top;\n",
       "    }\n",
       "\n",
       "    .dataframe thead th {\n",
       "        text-align: right;\n",
       "    }\n",
       "</style>\n",
       "<table border=\"1\" class=\"dataframe\">\n",
       "  <thead>\n",
       "    <tr style=\"text-align: right;\">\n",
       "      <th>% By Educational Attainment</th>\n",
       "      <th>0 to 8  years</th>\n",
       "      <th>Some secondary</th>\n",
       "      <th>High school graduate</th>\n",
       "      <th>Some postsecondary</th>\n",
       "      <th>Postsecondary certif or diploma</th>\n",
       "      <th>Trade certificate or diploma</th>\n",
       "      <th>College diploma</th>\n",
       "      <th>University certif below bachelor</th>\n",
       "      <th>University degree</th>\n",
       "      <th>Bachelor's degree</th>\n",
       "      <th>Above bachelor's degree</th>\n",
       "    </tr>\n",
       "  </thead>\n",
       "  <tbody>\n",
       "    <tr>\n",
       "      <th>2003</th>\n",
       "      <td>0.0619327</td>\n",
       "      <td>0.122007</td>\n",
       "      <td>0.261352</td>\n",
       "      <td>0.0788846</td>\n",
       "      <td>0.280734</td>\n",
       "      <td>0.0752969</td>\n",
       "      <td>0.190987</td>\n",
       "      <td>0.0144505</td>\n",
       "      <td>0.195103</td>\n",
       "      <td>0.143447</td>\n",
       "      <td>0.0516559</td>\n",
       "    </tr>\n",
       "    <tr>\n",
       "      <th>2008</th>\n",
       "      <td>0.0469742</td>\n",
       "      <td>0.102549</td>\n",
       "      <td>0.246576</td>\n",
       "      <td>0.0650875</td>\n",
       "      <td>0.324526</td>\n",
       "      <td>0.0928828</td>\n",
       "      <td>0.216371</td>\n",
       "      <td>0.015272</td>\n",
       "      <td>0.214271</td>\n",
       "      <td>0.150821</td>\n",
       "      <td>0.0634506</td>\n",
       "    </tr>\n",
       "    <tr>\n",
       "      <th>2013</th>\n",
       "      <td>0.0414446</td>\n",
       "      <td>0.07912</td>\n",
       "      <td>0.241229</td>\n",
       "      <td>0.0579161</td>\n",
       "      <td>0.332487</td>\n",
       "      <td>0.07912</td>\n",
       "      <td>0.237443</td>\n",
       "      <td>0.015907</td>\n",
       "      <td>0.247804</td>\n",
       "      <td>0.175874</td>\n",
       "      <td>0.0719303</td>\n",
       "    </tr>\n",
       "    <tr>\n",
       "      <th>2014</th>\n",
       "      <td>0.0354115</td>\n",
       "      <td>0.0753149</td>\n",
       "      <td>0.275845</td>\n",
       "      <td>0.0548482</td>\n",
       "      <td>0.322622</td>\n",
       "      <td>0.0826438</td>\n",
       "      <td>0.220676</td>\n",
       "      <td>0.0193016</td>\n",
       "      <td>0.235976</td>\n",
       "      <td>0.165828</td>\n",
       "      <td>0.0701307</td>\n",
       "    </tr>\n",
       "    <tr>\n",
       "      <th>2015</th>\n",
       "      <td>0.0289058</td>\n",
       "      <td>0.0675521</td>\n",
       "      <td>0.25219</td>\n",
       "      <td>0.0499992</td>\n",
       "      <td>0.340304</td>\n",
       "      <td>0.0777248</td>\n",
       "      <td>0.23979</td>\n",
       "      <td>0.0228055</td>\n",
       "      <td>0.26105</td>\n",
       "      <td>0.198185</td>\n",
       "      <td>0.0628646</td>\n",
       "    </tr>\n",
       "  </tbody>\n",
       "</table>\n",
       "</div>"
      ],
      "text/plain": [
       "% By Educational Attainment   0 to 8  years   Some secondary  \\\n",
       "2003                              0.0619327         0.122007   \n",
       "2008                              0.0469742         0.102549   \n",
       "2013                              0.0414446          0.07912   \n",
       "2014                              0.0354115        0.0753149   \n",
       "2015                              0.0289058        0.0675521   \n",
       "\n",
       "% By Educational Attainment   High school graduate   Some postsecondary  \\\n",
       "2003                                      0.261352            0.0788846   \n",
       "2008                                      0.246576            0.0650875   \n",
       "2013                                      0.241229            0.0579161   \n",
       "2014                                      0.275845            0.0548482   \n",
       "2015                                       0.25219            0.0499992   \n",
       "\n",
       "% By Educational Attainment   Postsecondary certif or diploma  \\\n",
       "2003                                                 0.280734   \n",
       "2008                                                 0.324526   \n",
       "2013                                                 0.332487   \n",
       "2014                                                 0.322622   \n",
       "2015                                                 0.340304   \n",
       "\n",
       "% By Educational Attainment     Trade certificate or diploma  \\\n",
       "2003                                               0.0752969   \n",
       "2008                                               0.0928828   \n",
       "2013                                                 0.07912   \n",
       "2014                                               0.0826438   \n",
       "2015                                               0.0777248   \n",
       "\n",
       "% By Educational Attainment     College diploma  \\\n",
       "2003                                   0.190987   \n",
       "2008                                   0.216371   \n",
       "2013                                   0.237443   \n",
       "2014                                   0.220676   \n",
       "2015                                    0.23979   \n",
       "\n",
       "% By Educational Attainment     University certif below bachelor  \\\n",
       "2003                                                   0.0144505   \n",
       "2008                                                    0.015272   \n",
       "2013                                                    0.015907   \n",
       "2014                                                   0.0193016   \n",
       "2015                                                   0.0228055   \n",
       "\n",
       "% By Educational Attainment   University degree     Bachelor's degree  \\\n",
       "2003                                   0.195103              0.143447   \n",
       "2008                                   0.214271              0.150821   \n",
       "2013                                   0.247804              0.175874   \n",
       "2014                                   0.235976              0.165828   \n",
       "2015                                    0.26105              0.198185   \n",
       "\n",
       "% By Educational Attainment     Above bachelor's degree  \n",
       "2003                                          0.0516559  \n",
       "2008                                          0.0634506  \n",
       "2013                                          0.0719303  \n",
       "2014                                          0.0701307  \n",
       "2015                                          0.0628646  "
      ]
     },
     "execution_count": 32,
     "metadata": {},
     "output_type": "execute_result"
    }
   ],
   "source": [
    "data.head()"
   ]
  },
  {
   "cell_type": "code",
   "execution_count": 33,
   "metadata": {},
   "outputs": [
    {
     "data": {
      "text/plain": [
       "Index(['  0 to 8  years', '  Some secondary', '  High school graduate',\n",
       "       '  Some postsecondary', '  Postsecondary certif or diploma',\n",
       "       '    Trade certificate or diploma', '    College diploma',\n",
       "       '    University certif below bachelor', '  University degree',\n",
       "       '    Bachelor's degree', '    Above bachelor's degree'],\n",
       "      dtype='object', name='% By Educational Attainment')"
      ]
     },
     "execution_count": 33,
     "metadata": {},
     "output_type": "execute_result"
    }
   ],
   "source": [
    "data.columns"
   ]
  },
  {
   "cell_type": "code",
   "execution_count": 38,
   "metadata": {
    "scrolled": true
   },
   "outputs": [],
   "source": [
    "#X = np.array(data[\"    Bachelor's degree\"])\n",
    "X = np.array(data.index)\n",
    "Y = np.array(data[\"    Above bachelor's degree\"])"
   ]
  },
  {
   "cell_type": "code",
   "execution_count": 39,
   "metadata": {},
   "outputs": [],
   "source": [
    "X = np.array(X, dtype=float)\n",
    "Y = np.array(Y, dtype=float)"
   ]
  },
  {
   "cell_type": "code",
   "execution_count": 40,
   "metadata": {},
   "outputs": [
    {
     "name": "stdout",
     "output_type": "stream",
     "text": [
      "                            OLS Regression Results                            \n",
      "==============================================================================\n",
      "Dep. Variable:                      y   R-squared:                       0.981\n",
      "Model:                            OLS   Adj. R-squared:                  0.978\n",
      "Method:                 Least Squares   F-statistic:                     360.1\n",
      "Date:                Tue, 16 Jul 2019   Prob (F-statistic):           2.81e-07\n",
      "Time:                        20:56:56   Log-Likelihood:                -56.371\n",
      "No. Observations:                   8   AIC:                             114.7\n",
      "Df Residuals:                       7   BIC:                             114.8\n",
      "Df Model:                           1                                         \n",
      "Covariance Type:            nonrobust                                         \n",
      "==============================================================================\n",
      "                 coef    std err          t      P>|t|      [0.025      0.975]\n",
      "------------------------------------------------------------------------------\n",
      "x1          2.835e+04   1493.807     18.978      0.000    2.48e+04    3.19e+04\n",
      "==============================================================================\n",
      "Omnibus:                        0.113   Durbin-Watson:                   1.133\n",
      "Prob(Omnibus):                  0.945   Jarque-Bera (JB):                0.174\n",
      "Skew:                           0.160   Prob(JB):                        0.917\n",
      "Kurtosis:                       2.353   Cond. No.                         1.00\n",
      "==============================================================================\n",
      "\n",
      "Warnings:\n",
      "[1] Standard Errors assume that the covariance matrix of the errors is correctly specified.\n"
     ]
    },
    {
     "name": "stderr",
     "output_type": "stream",
     "text": [
      "/Users/NickSummers/anaconda3/lib/python3.6/site-packages/scipy/stats/stats.py:1394: UserWarning: kurtosistest only valid for n>=20 ... continuing anyway, n=8\n",
      "  \"anyway, n=%i\" % int(n))\n"
     ]
    }
   ],
   "source": [
    "import statsmodels.api as sm\n",
    "results = sm.OLS(X, Y).fit()\n",
    "summary = results.summary()\n",
    "print(summary)"
   ]
  },
  {
   "cell_type": "markdown",
   "metadata": {},
   "source": [
    "This regression shows us that we can use a time series analysis to predict how many college graduates will live in Toronto. There is a high coefficient and a high r-squared value, so next time there will be 20,000,000 more graduates in Toronto the following year."
   ]
  }
 ],
 "metadata": {
  "kernelspec": {
   "display_name": "Python 3",
   "language": "python",
   "name": "python3"
  },
  "language_info": {
   "codemirror_mode": {
    "name": "ipython",
    "version": 3
   },
   "file_extension": ".py",
   "mimetype": "text/x-python",
   "name": "python",
   "nbconvert_exporter": "python",
   "pygments_lexer": "ipython3",
   "version": "3.6.8"
  }
 },
 "nbformat": 4,
 "nbformat_minor": 2
}
